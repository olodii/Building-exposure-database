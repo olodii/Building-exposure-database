{
 "cells": [
  {
   "cell_type": "code",
   "execution_count": 94,
   "metadata": {},
   "outputs": [],
   "source": [
    "import pandas as pd\n",
    "import numpy as np\n",
    "\n",
    "import warnings\n",
    "warnings.filterwarnings('ignore')\n",
    "\n",
    "pd.set_option('display.max_rows', 30)"
   ]
  },
  {
   "cell_type": "code",
   "execution_count": 98,
   "metadata": {},
   "outputs": [],
   "source": [
    "dt = pd.read_excel('Fin_Total_data_merged_from_veg,ap,soc.xlsx', na_values=np.nan)"
   ]
  },
  {
   "cell_type": "code",
   "execution_count": null,
   "metadata": {},
   "outputs": [],
   "source": [
    "target = ['경기도 고양시', '경기도 성남시', '경기도 수원시', '경기도 안산시', '경기도 용인시', '경상북도 구미시', '경상북도 포항시', '세종특별자치시', '제주특별자치시', '충청북도 통합청주시']\n",
    "dt_imp = dt.copy()\n",
    "\n",
    "for t in target:\n",
    "    sub = dt_imp.loc[dt_imp.Name_soc.str.startswith(t),'2015_month1_EVI':'2019_기준시간내의료이용률_분만실']\n",
    "    \n",
    "    for c in sub.columns:\n",
    "        if sub[c].isnull().any():\n",
    "            \n",
    "            m = sub[c].mean()\n",
    "            idx = sub[sub[c].isnull()].index.values\n",
    "\n",
    "            dt_imp.loc[idx,c] = m\n",
    "            \n",
    "            print(f\"Imputation Done: Missing data in {c}\")"
   ]
  },
  {
   "cell_type": "code",
   "execution_count": null,
   "metadata": {},
   "outputs": [],
   "source": [
    "dt_imp.isnull().sum()"
   ]
  },
  {
   "cell_type": "code",
   "execution_count": 103,
   "metadata": {},
   "outputs": [],
   "source": [
    "dt_imp.to_excel('Fin_after_imputation_raw_data.xlsx', index=False, header=True, encoding='euc-kr')"
   ]
  }
 ],
 "metadata": {
  "interpreter": {
   "hash": "73e1520f6d2713970eba64e5271ee183e7b673be1a19b89b52d73d9ee0278917"
  },
  "kernelspec": {
   "display_name": "Python 3.7.0 ('kaggle')",
   "language": "python",
   "name": "python3"
  },
  "language_info": {
   "codemirror_mode": {
    "name": "ipython",
    "version": 3
   },
   "file_extension": ".py",
   "mimetype": "text/x-python",
   "name": "python",
   "nbconvert_exporter": "python",
   "pygments_lexer": "ipython3",
   "version": "3.7.0"
  },
  "orig_nbformat": 4
 },
 "nbformat": 4,
 "nbformat_minor": 2
}
