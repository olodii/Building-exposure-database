{
 "cells": [
  {
   "cell_type": "code",
   "execution_count": 44,
   "metadata": {},
   "outputs": [],
   "source": [
    "import pandas as pd\n",
    "import numpy as np\n",
    "import matplotlib.pyplot as plt\n",
    "import seaborn as sns\n",
    "\n",
    "import warnings\n",
    "warnings.filterwarnings('ignore')\n",
    "\n",
    "pd.set_option('display.max_rows', 100)"
   ]
  },
  {
   "cell_type": "markdown",
   "metadata": {},
   "source": [
    "**data import**"
   ]
  },
  {
   "cell_type": "code",
   "execution_count": 76,
   "metadata": {},
   "outputs": [],
   "source": [
    "evi =  pd.read_csv('evi_summaryeq0.csv')\n",
    "ndvi =  pd.read_csv('ndvi_summaryeq0.csv')\n",
    "society = pd.read_excel('지역사회건강요인.xlsb')"
   ]
  },
  {
   "cell_type": "code",
   "execution_count": 119,
   "metadata": {},
   "outputs": [
    {
     "data": {
      "text/html": [
       "<div>\n",
       "<style scoped>\n",
       "    .dataframe tbody tr th:only-of-type {\n",
       "        vertical-align: middle;\n",
       "    }\n",
       "\n",
       "    .dataframe tbody tr th {\n",
       "        vertical-align: top;\n",
       "    }\n",
       "\n",
       "    .dataframe thead th {\n",
       "        text-align: right;\n",
       "    }\n",
       "</style>\n",
       "<table border=\"1\" class=\"dataframe\">\n",
       "  <thead>\n",
       "    <tr style=\"text-align: right;\">\n",
       "      <th></th>\n",
       "      <th>시도</th>\n",
       "      <th>sido_CD</th>\n",
       "      <th>시군구</th>\n",
       "      <th>기준 코드\\n(=2019)</th>\n",
       "      <th>2019</th>\n",
       "      <th>2018</th>\n",
       "      <th>2017</th>\n",
       "      <th>2016</th>\n",
       "      <th>2015</th>\n",
       "      <th>2014</th>\n",
       "      <th>...</th>\n",
       "      <th>2003</th>\n",
       "      <th>2002</th>\n",
       "      <th>2001</th>\n",
       "      <th>2000</th>\n",
       "      <th>1999</th>\n",
       "      <th>1998</th>\n",
       "      <th>1997</th>\n",
       "      <th>1996</th>\n",
       "      <th>1995</th>\n",
       "      <th>비고</th>\n",
       "    </tr>\n",
       "  </thead>\n",
       "  <tbody>\n",
       "    <tr>\n",
       "      <th>0</th>\n",
       "      <td>서울특별시</td>\n",
       "      <td>11</td>\n",
       "      <td>종로구</td>\n",
       "      <td>11010</td>\n",
       "      <td>11010</td>\n",
       "      <td>11010</td>\n",
       "      <td>11010</td>\n",
       "      <td>11010</td>\n",
       "      <td>11010</td>\n",
       "      <td>11010</td>\n",
       "      <td>...</td>\n",
       "      <td>11010</td>\n",
       "      <td>11010</td>\n",
       "      <td>11010</td>\n",
       "      <td>11010</td>\n",
       "      <td>11010</td>\n",
       "      <td>11010</td>\n",
       "      <td>11010</td>\n",
       "      <td>11010</td>\n",
       "      <td>11010</td>\n",
       "      <td>NaN</td>\n",
       "    </tr>\n",
       "    <tr>\n",
       "      <th>1</th>\n",
       "      <td>서울특별시</td>\n",
       "      <td>11</td>\n",
       "      <td>중구</td>\n",
       "      <td>11020</td>\n",
       "      <td>11020</td>\n",
       "      <td>11020</td>\n",
       "      <td>11020</td>\n",
       "      <td>11020</td>\n",
       "      <td>11020</td>\n",
       "      <td>11020</td>\n",
       "      <td>...</td>\n",
       "      <td>11020</td>\n",
       "      <td>11020</td>\n",
       "      <td>11020</td>\n",
       "      <td>11020</td>\n",
       "      <td>11020</td>\n",
       "      <td>11020</td>\n",
       "      <td>11020</td>\n",
       "      <td>11020</td>\n",
       "      <td>11020</td>\n",
       "      <td>NaN</td>\n",
       "    </tr>\n",
       "    <tr>\n",
       "      <th>2</th>\n",
       "      <td>서울특별시</td>\n",
       "      <td>11</td>\n",
       "      <td>용산구</td>\n",
       "      <td>11030</td>\n",
       "      <td>11030</td>\n",
       "      <td>11030</td>\n",
       "      <td>11030</td>\n",
       "      <td>11030</td>\n",
       "      <td>11030</td>\n",
       "      <td>11030</td>\n",
       "      <td>...</td>\n",
       "      <td>11030</td>\n",
       "      <td>11030</td>\n",
       "      <td>11030</td>\n",
       "      <td>11030</td>\n",
       "      <td>11030</td>\n",
       "      <td>11030</td>\n",
       "      <td>11030</td>\n",
       "      <td>11030</td>\n",
       "      <td>11030</td>\n",
       "      <td>NaN</td>\n",
       "    </tr>\n",
       "    <tr>\n",
       "      <th>3</th>\n",
       "      <td>서울특별시</td>\n",
       "      <td>11</td>\n",
       "      <td>성동구</td>\n",
       "      <td>11040</td>\n",
       "      <td>11040</td>\n",
       "      <td>11040</td>\n",
       "      <td>11040</td>\n",
       "      <td>11040</td>\n",
       "      <td>11040</td>\n",
       "      <td>11040</td>\n",
       "      <td>...</td>\n",
       "      <td>11040</td>\n",
       "      <td>11040</td>\n",
       "      <td>11040</td>\n",
       "      <td>11040</td>\n",
       "      <td>11040</td>\n",
       "      <td>11040</td>\n",
       "      <td>11040</td>\n",
       "      <td>11040</td>\n",
       "      <td>11040</td>\n",
       "      <td>NaN</td>\n",
       "    </tr>\n",
       "    <tr>\n",
       "      <th>4</th>\n",
       "      <td>서울특별시</td>\n",
       "      <td>11</td>\n",
       "      <td>광진구</td>\n",
       "      <td>11050</td>\n",
       "      <td>11050</td>\n",
       "      <td>11050</td>\n",
       "      <td>11050</td>\n",
       "      <td>11050</td>\n",
       "      <td>11050</td>\n",
       "      <td>11050</td>\n",
       "      <td>...</td>\n",
       "      <td>11050</td>\n",
       "      <td>11050</td>\n",
       "      <td>11050</td>\n",
       "      <td>11050</td>\n",
       "      <td>11050</td>\n",
       "      <td>11050</td>\n",
       "      <td>11050</td>\n",
       "      <td>11050</td>\n",
       "      <td>11050</td>\n",
       "      <td>NaN</td>\n",
       "    </tr>\n",
       "  </tbody>\n",
       "</table>\n",
       "<p>5 rows × 30 columns</p>\n",
       "</div>"
      ],
      "text/plain": [
       "      시도  sido_CD  시군구 기준 코드\\n(=2019)   2019   2018   2017   2016   2015  \\\n",
       "0  서울특별시       11  종로구          11010  11010  11010  11010  11010  11010   \n",
       "1  서울특별시       11   중구          11020  11020  11020  11020  11020  11020   \n",
       "2  서울특별시       11  용산구          11030  11030  11030  11030  11030  11030   \n",
       "3  서울특별시       11  성동구          11040  11040  11040  11040  11040  11040   \n",
       "4  서울특별시       11  광진구          11050  11050  11050  11050  11050  11050   \n",
       "\n",
       "    2014  ...   2003   2002   2001   2000   1999   1998   1997   1996   1995  \\\n",
       "0  11010  ...  11010  11010  11010  11010  11010  11010  11010  11010  11010   \n",
       "1  11020  ...  11020  11020  11020  11020  11020  11020  11020  11020  11020   \n",
       "2  11030  ...  11030  11030  11030  11030  11030  11030  11030  11030  11030   \n",
       "3  11040  ...  11040  11040  11040  11040  11040  11040  11040  11040  11040   \n",
       "4  11050  ...  11050  11050  11050  11050  11050  11050  11050  11050  11050   \n",
       "\n",
       "    비고  \n",
       "0  NaN  \n",
       "1  NaN  \n",
       "2  NaN  \n",
       "3  NaN  \n",
       "4  NaN  \n",
       "\n",
       "[5 rows x 30 columns]"
      ]
     },
     "execution_count": 119,
     "metadata": {},
     "output_type": "execute_result"
    }
   ],
   "source": [
    "#법정동코드\n",
    "ref_Bcode = pd.read_excel('./DB 시군구 코드 기준_1995_2019.xlsx')\n",
    "col = list(map(str, ref_Bcode.columns))\n",
    "col = [c.strip() for c in col]\n",
    "\n",
    "ref_Bcode.columns = col\n",
    "ref_Bcode = ref_Bcode.rename(columns={'시도 코드':'sido_CD'})\n",
    "\n",
    "ref_Bcode.head()"
   ]
  },
  {
   "cell_type": "code",
   "execution_count": null,
   "metadata": {},
   "outputs": [],
   "source": [
    "ref_Bcode = ref_Bcode[['시도','시군구','2019']]\n",
    "ref_Bcode['NM'] = ref_Bcode['시도'].str.strip() + ' ' + ref_Bcode['시군구'].str.strip()"
   ]
  },
  {
   "cell_type": "markdown",
   "metadata": {},
   "source": [
    "**특정 지역 매칭코드**"
   ]
  },
  {
   "cell_type": "code",
   "execution_count": 121,
   "metadata": {},
   "outputs": [
    {
     "data": {
      "text/html": [
       "<div>\n",
       "<style scoped>\n",
       "    .dataframe tbody tr th:only-of-type {\n",
       "        vertical-align: middle;\n",
       "    }\n",
       "\n",
       "    .dataframe tbody tr th {\n",
       "        vertical-align: top;\n",
       "    }\n",
       "\n",
       "    .dataframe thead th {\n",
       "        text-align: right;\n",
       "    }\n",
       "</style>\n",
       "<table border=\"1\" class=\"dataframe\">\n",
       "  <thead>\n",
       "    <tr style=\"text-align: right;\">\n",
       "      <th></th>\n",
       "      <th>시도</th>\n",
       "      <th>시군구</th>\n",
       "      <th>2019</th>\n",
       "      <th>NM</th>\n",
       "    </tr>\n",
       "  </thead>\n",
       "  <tbody>\n",
       "    <tr>\n",
       "      <th>83</th>\n",
       "      <td>경기도</td>\n",
       "      <td>안양시 만안구</td>\n",
       "      <td>31041</td>\n",
       "      <td>경기도 안양시 만안구</td>\n",
       "    </tr>\n",
       "    <tr>\n",
       "      <th>84</th>\n",
       "      <td>경기도</td>\n",
       "      <td>안양시 동안구</td>\n",
       "      <td>31042</td>\n",
       "      <td>경기도 안양시 동안구</td>\n",
       "    </tr>\n",
       "  </tbody>\n",
       "</table>\n",
       "</div>"
      ],
      "text/plain": [
       "     시도      시군구   2019           NM\n",
       "83  경기도  안양시 만안구  31041  경기도 안양시 만안구\n",
       "84  경기도  안양시 동안구  31042  경기도 안양시 동안구"
      ]
     },
     "execution_count": 121,
     "metadata": {},
     "output_type": "execute_result"
    }
   ],
   "source": [
    "# 하나씩 탐색\n",
    "ref_Bcode.loc[ref_Bcode['NM'].str.startswith(\"경기도 안양시\")]"
   ]
  },
  {
   "cell_type": "markdown",
   "metadata": {},
   "source": [
    "**NAME 수정**"
   ]
  },
  {
   "cell_type": "code",
   "execution_count": 122,
   "metadata": {},
   "outputs": [
    {
     "data": {
      "text/html": [
       "<div>\n",
       "<style scoped>\n",
       "    .dataframe tbody tr th:only-of-type {\n",
       "        vertical-align: middle;\n",
       "    }\n",
       "\n",
       "    .dataframe tbody tr th {\n",
       "        vertical-align: top;\n",
       "    }\n",
       "\n",
       "    .dataframe thead th {\n",
       "        text-align: right;\n",
       "    }\n",
       "</style>\n",
       "<table border=\"1\" class=\"dataframe\">\n",
       "  <thead>\n",
       "    <tr style=\"text-align: right;\">\n",
       "      <th></th>\n",
       "      <th>year</th>\n",
       "      <th>SIGUNGU_CD</th>\n",
       "      <th>SIDO_NM</th>\n",
       "      <th>SIGUNGU_NM</th>\n",
       "      <th>month1</th>\n",
       "      <th>month2</th>\n",
       "      <th>month3</th>\n",
       "      <th>month4</th>\n",
       "      <th>month5</th>\n",
       "      <th>month6</th>\n",
       "      <th>month7</th>\n",
       "      <th>month8</th>\n",
       "      <th>month9</th>\n",
       "      <th>month10</th>\n",
       "      <th>month11</th>\n",
       "      <th>month12</th>\n",
       "      <th>SIGUNGU_NM_new</th>\n",
       "      <th>NAME</th>\n",
       "      <th>from6to9</th>\n",
       "    </tr>\n",
       "  </thead>\n",
       "  <tbody>\n",
       "    <tr>\n",
       "      <th>0</th>\n",
       "      <td>2000</td>\n",
       "      <td>11010</td>\n",
       "      <td>서울특별시</td>\n",
       "      <td>종로구</td>\n",
       "      <td>NaN</td>\n",
       "      <td>660.912206</td>\n",
       "      <td>972.406495</td>\n",
       "      <td>1267.180055</td>\n",
       "      <td>2565.266805</td>\n",
       "      <td>2775.509520</td>\n",
       "      <td>3931.680626</td>\n",
       "      <td>2792.363850</td>\n",
       "      <td>2537.233568</td>\n",
       "      <td>1744.897542</td>\n",
       "      <td>1226.778951</td>\n",
       "      <td>1097.512846</td>\n",
       "      <td>종로구</td>\n",
       "      <td>서울특별시 종로구</td>\n",
       "      <td>3009.196891</td>\n",
       "    </tr>\n",
       "    <tr>\n",
       "      <th>1</th>\n",
       "      <td>2000</td>\n",
       "      <td>11020</td>\n",
       "      <td>서울특별시</td>\n",
       "      <td>중구</td>\n",
       "      <td>NaN</td>\n",
       "      <td>597.457935</td>\n",
       "      <td>523.735837</td>\n",
       "      <td>926.007543</td>\n",
       "      <td>1315.420290</td>\n",
       "      <td>1549.399169</td>\n",
       "      <td>NaN</td>\n",
       "      <td>1567.668415</td>\n",
       "      <td>1395.397783</td>\n",
       "      <td>987.166357</td>\n",
       "      <td>684.938424</td>\n",
       "      <td>587.369150</td>\n",
       "      <td>중구</td>\n",
       "      <td>서울특별시 중구</td>\n",
       "      <td>1504.155122</td>\n",
       "    </tr>\n",
       "    <tr>\n",
       "      <th>2</th>\n",
       "      <td>2000</td>\n",
       "      <td>11030</td>\n",
       "      <td>서울특별시</td>\n",
       "      <td>용산구</td>\n",
       "      <td>NaN</td>\n",
       "      <td>708.946770</td>\n",
       "      <td>549.234091</td>\n",
       "      <td>830.418915</td>\n",
       "      <td>1026.549107</td>\n",
       "      <td>1354.420748</td>\n",
       "      <td>NaN</td>\n",
       "      <td>1270.221265</td>\n",
       "      <td>1438.377713</td>\n",
       "      <td>1082.770601</td>\n",
       "      <td>758.087243</td>\n",
       "      <td>676.220381</td>\n",
       "      <td>용산구</td>\n",
       "      <td>서울특별시 용산구</td>\n",
       "      <td>1354.339909</td>\n",
       "    </tr>\n",
       "    <tr>\n",
       "      <th>3</th>\n",
       "      <td>2000</td>\n",
       "      <td>11040</td>\n",
       "      <td>서울특별시</td>\n",
       "      <td>성동구</td>\n",
       "      <td>NaN</td>\n",
       "      <td>501.189474</td>\n",
       "      <td>423.850910</td>\n",
       "      <td>630.582193</td>\n",
       "      <td>1052.754356</td>\n",
       "      <td>1196.280540</td>\n",
       "      <td>NaN</td>\n",
       "      <td>1316.687220</td>\n",
       "      <td>1250.784106</td>\n",
       "      <td>934.674446</td>\n",
       "      <td>617.065491</td>\n",
       "      <td>476.676863</td>\n",
       "      <td>성동구</td>\n",
       "      <td>서울특별시 성동구</td>\n",
       "      <td>1254.583955</td>\n",
       "    </tr>\n",
       "    <tr>\n",
       "      <th>4</th>\n",
       "      <td>2000</td>\n",
       "      <td>11050</td>\n",
       "      <td>서울특별시</td>\n",
       "      <td>광진구</td>\n",
       "      <td>NaN</td>\n",
       "      <td>591.941241</td>\n",
       "      <td>576.194522</td>\n",
       "      <td>660.178642</td>\n",
       "      <td>1701.907855</td>\n",
       "      <td>1459.960147</td>\n",
       "      <td>NaN</td>\n",
       "      <td>1362.892907</td>\n",
       "      <td>1464.783445</td>\n",
       "      <td>1110.814168</td>\n",
       "      <td>759.291082</td>\n",
       "      <td>589.183462</td>\n",
       "      <td>광진구</td>\n",
       "      <td>서울특별시 광진구</td>\n",
       "      <td>1429.212166</td>\n",
       "    </tr>\n",
       "  </tbody>\n",
       "</table>\n",
       "</div>"
      ],
      "text/plain": [
       "   year  SIGUNGU_CD SIDO_NM SIGUNGU_NM  month1      month2      month3  \\\n",
       "0  2000       11010   서울특별시        종로구     NaN  660.912206  972.406495   \n",
       "1  2000       11020   서울특별시         중구     NaN  597.457935  523.735837   \n",
       "2  2000       11030   서울특별시        용산구     NaN  708.946770  549.234091   \n",
       "3  2000       11040   서울특별시        성동구     NaN  501.189474  423.850910   \n",
       "4  2000       11050   서울특별시        광진구     NaN  591.941241  576.194522   \n",
       "\n",
       "        month4       month5       month6       month7       month8  \\\n",
       "0  1267.180055  2565.266805  2775.509520  3931.680626  2792.363850   \n",
       "1   926.007543  1315.420290  1549.399169          NaN  1567.668415   \n",
       "2   830.418915  1026.549107  1354.420748          NaN  1270.221265   \n",
       "3   630.582193  1052.754356  1196.280540          NaN  1316.687220   \n",
       "4   660.178642  1701.907855  1459.960147          NaN  1362.892907   \n",
       "\n",
       "        month9      month10      month11      month12 SIGUNGU_NM_new  \\\n",
       "0  2537.233568  1744.897542  1226.778951  1097.512846            종로구   \n",
       "1  1395.397783   987.166357   684.938424   587.369150             중구   \n",
       "2  1438.377713  1082.770601   758.087243   676.220381            용산구   \n",
       "3  1250.784106   934.674446   617.065491   476.676863            성동구   \n",
       "4  1464.783445  1110.814168   759.291082   589.183462            광진구   \n",
       "\n",
       "        NAME     from6to9  \n",
       "0  서울특별시 종로구  3009.196891  \n",
       "1   서울특별시 중구  1504.155122  \n",
       "2  서울특별시 용산구  1354.339909  \n",
       "3  서울특별시 성동구  1254.583955  \n",
       "4  서울특별시 광진구  1429.212166  "
      ]
     },
     "execution_count": 122,
     "metadata": {},
     "output_type": "execute_result"
    }
   ],
   "source": [
    "evi.head()"
   ]
  },
  {
   "cell_type": "code",
   "execution_count": 123,
   "metadata": {},
   "outputs": [
    {
     "data": {
      "text/plain": [
       "array(['서울특별시', '부산광역시', '대구광역시', '인천광역시', '광주광역시', '대전광역시', '울산광역시',\n",
       "       '경기도', '강원도', '충청북도', '충청남도', '전라북도', '전라남도', '경상북도', '경상남도',\n",
       "       '제주특별자치도'], dtype=object)"
      ]
     },
     "execution_count": 123,
     "metadata": {},
     "output_type": "execute_result"
    }
   ],
   "source": [
    "evi.SIDO_NM.unique()"
   ]
  },
  {
   "cell_type": "code",
   "execution_count": 124,
   "metadata": {},
   "outputs": [
    {
     "data": {
      "text/plain": [
       "array(['서울특별시', '부산광역시', '대구광역시', '인천광역시', '광주광역시', '대전광역시', '울산광역시',\n",
       "       '세종특별자치시', '경기도', '강원도', '충청북도', '충청남도', '전라북도', '전라남도', '경상북도',\n",
       "       '경상남도', '제주특별자치도'], dtype=object)"
      ]
     },
     "execution_count": 124,
     "metadata": {},
     "output_type": "execute_result"
    }
   ],
   "source": [
    "ref_Bcode.시도.unique()\n"
   ]
  },
  {
   "cell_type": "code",
   "execution_count": 125,
   "metadata": {},
   "outputs": [],
   "source": [
    "replace_list = {'서울':'서울특별시', '부산':'부산광역시', '대구':'대구광역시', '인천':'인천광역시', '광주':'광주광역시', '대전':'대전광역시', '울산':'울산광역시',\n",
    "                '경기':'경기도', '강원':'강원도', '충북':'충청북도', '충남':'충청남도', '전북':'전라북도', '전남':'전라남도', '경북':'경상북도',\n",
    "                '경남':'경상남도','제주':'제주특별자치도'}\n",
    "\n",
    "evi['SIDO_NM'] = evi['SIDO_NM'].replace(replace_list)\n",
    "ndvi['SIDO_NM'] = ndvi['SIDO_NM'].replace(replace_list)"
   ]
  },
  {
   "cell_type": "code",
   "execution_count": 126,
   "metadata": {},
   "outputs": [
    {
     "data": {
      "text/html": [
       "<div>\n",
       "<style scoped>\n",
       "    .dataframe tbody tr th:only-of-type {\n",
       "        vertical-align: middle;\n",
       "    }\n",
       "\n",
       "    .dataframe tbody tr th {\n",
       "        vertical-align: top;\n",
       "    }\n",
       "\n",
       "    .dataframe thead th {\n",
       "        text-align: right;\n",
       "    }\n",
       "</style>\n",
       "<table border=\"1\" class=\"dataframe\">\n",
       "  <thead>\n",
       "    <tr style=\"text-align: right;\">\n",
       "      <th></th>\n",
       "      <th>0</th>\n",
       "      <th>1</th>\n",
       "      <th>2</th>\n",
       "      <th>name</th>\n",
       "    </tr>\n",
       "  </thead>\n",
       "  <tbody>\n",
       "    <tr>\n",
       "      <th>5747</th>\n",
       "      <td>함양군</td>\n",
       "      <td></td>\n",
       "      <td></td>\n",
       "      <td>함양군</td>\n",
       "    </tr>\n",
       "    <tr>\n",
       "      <th>5748</th>\n",
       "      <td>거창군</td>\n",
       "      <td></td>\n",
       "      <td></td>\n",
       "      <td>거창군</td>\n",
       "    </tr>\n",
       "    <tr>\n",
       "      <th>5749</th>\n",
       "      <td>합천군</td>\n",
       "      <td></td>\n",
       "      <td></td>\n",
       "      <td>합천군</td>\n",
       "    </tr>\n",
       "    <tr>\n",
       "      <th>5750</th>\n",
       "      <td>제주</td>\n",
       "      <td>시</td>\n",
       "      <td></td>\n",
       "      <td>제주시</td>\n",
       "    </tr>\n",
       "    <tr>\n",
       "      <th>5751</th>\n",
       "      <td>서귀포</td>\n",
       "      <td>시</td>\n",
       "      <td></td>\n",
       "      <td>서귀포시</td>\n",
       "    </tr>\n",
       "  </tbody>\n",
       "</table>\n",
       "</div>"
      ],
      "text/plain": [
       "        0  1 2   name\n",
       "5747  함양군         함양군\n",
       "5748  거창군         거창군\n",
       "5749  합천군         합천군\n",
       "5750   제주  시     제주시 \n",
       "5751  서귀포  시    서귀포시 "
      ]
     },
     "execution_count": 126,
     "metadata": {},
     "output_type": "execute_result"
    }
   ],
   "source": [
    "naming = evi['SIGUNGU_NM'].str.partition('시')\n",
    "naming.loc[naming[1] == '시', 'name'] = naming[0] + naming[1] + \" \" + naming[2]\n",
    "naming.loc[naming[1] != '시', 'name'] = naming[0]\n",
    "\n",
    "naming.tail()"
   ]
  },
  {
   "cell_type": "code",
   "execution_count": 127,
   "metadata": {},
   "outputs": [
    {
     "data": {
      "text/html": [
       "<div>\n",
       "<style scoped>\n",
       "    .dataframe tbody tr th:only-of-type {\n",
       "        vertical-align: middle;\n",
       "    }\n",
       "\n",
       "    .dataframe tbody tr th {\n",
       "        vertical-align: top;\n",
       "    }\n",
       "\n",
       "    .dataframe thead th {\n",
       "        text-align: right;\n",
       "    }\n",
       "</style>\n",
       "<table border=\"1\" class=\"dataframe\">\n",
       "  <thead>\n",
       "    <tr style=\"text-align: right;\">\n",
       "      <th></th>\n",
       "      <th>SIGUNGU_NM</th>\n",
       "      <th>SIGUNGU_NM_new</th>\n",
       "    </tr>\n",
       "  </thead>\n",
       "  <tbody>\n",
       "    <tr>\n",
       "      <th>73</th>\n",
       "      <td>수원시장안구</td>\n",
       "      <td>수원시 장안구</td>\n",
       "    </tr>\n",
       "    <tr>\n",
       "      <th>74</th>\n",
       "      <td>수원시권선구</td>\n",
       "      <td>수원시 권선구</td>\n",
       "    </tr>\n",
       "    <tr>\n",
       "      <th>75</th>\n",
       "      <td>수원시팔달구</td>\n",
       "      <td>수원시 팔달구</td>\n",
       "    </tr>\n",
       "    <tr>\n",
       "      <th>76</th>\n",
       "      <td>수원시영통구</td>\n",
       "      <td>수원시 영통구</td>\n",
       "    </tr>\n",
       "    <tr>\n",
       "      <th>324</th>\n",
       "      <td>수원시장안구</td>\n",
       "      <td>수원시 장안구</td>\n",
       "    </tr>\n",
       "  </tbody>\n",
       "</table>\n",
       "</div>"
      ],
      "text/plain": [
       "    SIGUNGU_NM SIGUNGU_NM_new\n",
       "73      수원시장안구        수원시 장안구\n",
       "74      수원시권선구        수원시 권선구\n",
       "75      수원시팔달구        수원시 팔달구\n",
       "76      수원시영통구        수원시 영통구\n",
       "324     수원시장안구        수원시 장안구"
      ]
     },
     "execution_count": 127,
     "metadata": {},
     "output_type": "execute_result"
    }
   ],
   "source": [
    "evi['SIGUNGU_NM_new'] = naming.name\n",
    "evi[['SIGUNGU_NM',\"SIGUNGU_NM_new\"]].loc[evi['SIGUNGU_NM_new'].str.startswith('수원시')].head()"
   ]
  },
  {
   "cell_type": "code",
   "execution_count": 128,
   "metadata": {},
   "outputs": [
    {
     "data": {
      "text/html": [
       "<div>\n",
       "<style scoped>\n",
       "    .dataframe tbody tr th:only-of-type {\n",
       "        vertical-align: middle;\n",
       "    }\n",
       "\n",
       "    .dataframe tbody tr th {\n",
       "        vertical-align: top;\n",
       "    }\n",
       "\n",
       "    .dataframe thead th {\n",
       "        text-align: right;\n",
       "    }\n",
       "</style>\n",
       "<table border=\"1\" class=\"dataframe\">\n",
       "  <thead>\n",
       "    <tr style=\"text-align: right;\">\n",
       "      <th></th>\n",
       "      <th>SIGUNGU_NM</th>\n",
       "      <th>SIGUNGU_NM_new</th>\n",
       "    </tr>\n",
       "  </thead>\n",
       "  <tbody>\n",
       "    <tr>\n",
       "      <th>73</th>\n",
       "      <td>수원시장안구</td>\n",
       "      <td>수원시 장안구</td>\n",
       "    </tr>\n",
       "    <tr>\n",
       "      <th>74</th>\n",
       "      <td>수원시권선구</td>\n",
       "      <td>수원시 권선구</td>\n",
       "    </tr>\n",
       "    <tr>\n",
       "      <th>75</th>\n",
       "      <td>수원시팔달구</td>\n",
       "      <td>수원시 팔달구</td>\n",
       "    </tr>\n",
       "    <tr>\n",
       "      <th>76</th>\n",
       "      <td>수원시영통구</td>\n",
       "      <td>수원시 영통구</td>\n",
       "    </tr>\n",
       "    <tr>\n",
       "      <th>324</th>\n",
       "      <td>수원시장안구</td>\n",
       "      <td>수원시 장안구</td>\n",
       "    </tr>\n",
       "  </tbody>\n",
       "</table>\n",
       "</div>"
      ],
      "text/plain": [
       "    SIGUNGU_NM SIGUNGU_NM_new\n",
       "73      수원시장안구        수원시 장안구\n",
       "74      수원시권선구        수원시 권선구\n",
       "75      수원시팔달구        수원시 팔달구\n",
       "76      수원시영통구        수원시 영통구\n",
       "324     수원시장안구        수원시 장안구"
      ]
     },
     "execution_count": 128,
     "metadata": {},
     "output_type": "execute_result"
    }
   ],
   "source": [
    "naming = ndvi['SIGUNGU_NM'].str.partition('시')\n",
    "naming.loc[naming[1] == '시', 'name'] = naming[0] + naming[1] + \" \" + naming[2]\n",
    "naming.loc[naming[1] != '시', 'name'] = naming[0]\n",
    "\n",
    "ndvi['SIGUNGU_NM_new'] = naming.name\n",
    "ndvi[['SIGUNGU_NM',\"SIGUNGU_NM_new\"]].loc[ndvi['SIGUNGU_NM_new'].str.startswith('수원시')].head()"
   ]
  },
  {
   "cell_type": "code",
   "execution_count": 129,
   "metadata": {},
   "outputs": [],
   "source": [
    "evi['NAME'] = evi['SIDO_NM'] + \" \" + evi['SIGUNGU_NM_new']\n",
    "ndvi['NAME'] = ndvi['SIDO_NM'] + \" \" + ndvi['SIGUNGU_NM_new'] + \"구\""
   ]
  },
  {
   "cell_type": "markdown",
   "metadata": {},
   "source": [
    "### **EVI**"
   ]
  },
  {
   "cell_type": "markdown",
   "metadata": {},
   "source": [
    "**6월부터 9월까지의 평균 계산**"
   ]
  },
  {
   "cell_type": "code",
   "execution_count": 130,
   "metadata": {},
   "outputs": [],
   "source": [
    "month_list = [c for c in evi.columns if c.startswith('month') ]\n",
    "total_list = ['year'] + ['NAME'] + month_list\n",
    "\n",
    "# 6월에서 9월까지의 평균 계산\n",
    "evi['from6to9'] = evi.loc[:,'month6':'month9'].apply(np.mean, axis=1)"
   ]
  },
  {
   "cell_type": "code",
   "execution_count": null,
   "metadata": {},
   "outputs": [],
   "source": [
    "group_evi = evi[['year','NAME','from6to9']].groupby(['year','NAME'], dropna=True).agg(['mean', 'min', 'max'])\n",
    "\n",
    "# Rename the columns \n",
    "new_col = []\n",
    "\n",
    "for c in group_evi.columns.levels[0]:\n",
    "    for stat in group_evi.columns.levels[1]:\n",
    "        new_col.append(f'{c}_{stat}')\n",
    "        \n",
    "group_evi.columns = new_col\n",
    "group_evi = group_evi.reset_index(drop=False)"
   ]
  },
  {
   "cell_type": "code",
   "execution_count": 132,
   "metadata": {},
   "outputs": [],
   "source": [
    "#group_evi.loc[group_evi['from6to9_mean'].isnull()][['year','NAME']]\n",
    "\n",
    "group_evi_remove2022 = group_evi.loc[group_evi['year'] != 2022]"
   ]
  },
  {
   "cell_type": "code",
   "execution_count": 133,
   "metadata": {},
   "outputs": [],
   "source": [
    "group_evi_remove2022.to_excel('시군구별_EVI.xlsx', index=False, header=True, encoding='euc-kr')"
   ]
  },
  {
   "cell_type": "markdown",
   "metadata": {},
   "source": [
    "법정동코드 merge"
   ]
  },
  {
   "cell_type": "code",
   "execution_count": 134,
   "metadata": {},
   "outputs": [
    {
     "data": {
      "text/plain": [
       "array([2000, 2001, 2002, 2003, 2004, 2005, 2006, 2007, 2008, 2009, 2010,\n",
       "       2011, 2012, 2013, 2014, 2015, 2016, 2017, 2018, 2019, 2020, 2021],\n",
       "      dtype=int64)"
      ]
     },
     "execution_count": 134,
     "metadata": {},
     "output_type": "execute_result"
    }
   ],
   "source": [
    "group_evi = pd.read_excel('시군구별_EVI.xlsx')\n",
    "\n",
    "group_evi['year'].unique()"
   ]
  },
  {
   "cell_type": "code",
   "execution_count": 135,
   "metadata": {},
   "outputs": [
    {
     "data": {
      "text/html": [
       "<div>\n",
       "<style scoped>\n",
       "    .dataframe tbody tr th:only-of-type {\n",
       "        vertical-align: middle;\n",
       "    }\n",
       "\n",
       "    .dataframe tbody tr th {\n",
       "        vertical-align: top;\n",
       "    }\n",
       "\n",
       "    .dataframe thead th {\n",
       "        text-align: right;\n",
       "    }\n",
       "</style>\n",
       "<table border=\"1\" class=\"dataframe\">\n",
       "  <thead>\n",
       "    <tr style=\"text-align: right;\">\n",
       "      <th></th>\n",
       "      <th>시도</th>\n",
       "      <th>시군구</th>\n",
       "      <th>2019</th>\n",
       "      <th>NM</th>\n",
       "    </tr>\n",
       "  </thead>\n",
       "  <tbody>\n",
       "    <tr>\n",
       "      <th>0</th>\n",
       "      <td>서울특별시</td>\n",
       "      <td>종로구</td>\n",
       "      <td>11010</td>\n",
       "      <td>서울특별시 종로구</td>\n",
       "    </tr>\n",
       "    <tr>\n",
       "      <th>1</th>\n",
       "      <td>서울특별시</td>\n",
       "      <td>중구</td>\n",
       "      <td>11020</td>\n",
       "      <td>서울특별시 중구</td>\n",
       "    </tr>\n",
       "    <tr>\n",
       "      <th>2</th>\n",
       "      <td>서울특별시</td>\n",
       "      <td>용산구</td>\n",
       "      <td>11030</td>\n",
       "      <td>서울특별시 용산구</td>\n",
       "    </tr>\n",
       "    <tr>\n",
       "      <th>3</th>\n",
       "      <td>서울특별시</td>\n",
       "      <td>성동구</td>\n",
       "      <td>11040</td>\n",
       "      <td>서울특별시 성동구</td>\n",
       "    </tr>\n",
       "    <tr>\n",
       "      <th>4</th>\n",
       "      <td>서울특별시</td>\n",
       "      <td>광진구</td>\n",
       "      <td>11050</td>\n",
       "      <td>서울특별시 광진구</td>\n",
       "    </tr>\n",
       "  </tbody>\n",
       "</table>\n",
       "</div>"
      ],
      "text/plain": [
       "      시도  시군구   2019         NM\n",
       "0  서울특별시  종로구  11010  서울특별시 종로구\n",
       "1  서울특별시   중구  11020   서울특별시 중구\n",
       "2  서울특별시  용산구  11030  서울특별시 용산구\n",
       "3  서울특별시  성동구  11040  서울특별시 성동구\n",
       "4  서울특별시  광진구  11050  서울특별시 광진구"
      ]
     },
     "execution_count": 135,
     "metadata": {},
     "output_type": "execute_result"
    }
   ],
   "source": [
    "ref_Bcode.head()"
   ]
  },
  {
   "cell_type": "code",
   "execution_count": 136,
   "metadata": {},
   "outputs": [
    {
     "data": {
      "text/html": [
       "<div>\n",
       "<style scoped>\n",
       "    .dataframe tbody tr th:only-of-type {\n",
       "        vertical-align: middle;\n",
       "    }\n",
       "\n",
       "    .dataframe tbody tr th {\n",
       "        vertical-align: top;\n",
       "    }\n",
       "\n",
       "    .dataframe thead th {\n",
       "        text-align: right;\n",
       "    }\n",
       "</style>\n",
       "<table border=\"1\" class=\"dataframe\">\n",
       "  <thead>\n",
       "    <tr style=\"text-align: right;\">\n",
       "      <th></th>\n",
       "      <th>Name</th>\n",
       "      <th>법정동코드</th>\n",
       "    </tr>\n",
       "  </thead>\n",
       "  <tbody>\n",
       "    <tr>\n",
       "      <th>0</th>\n",
       "      <td>서울특별시 종로구</td>\n",
       "      <td>11010</td>\n",
       "    </tr>\n",
       "    <tr>\n",
       "      <th>1</th>\n",
       "      <td>서울특별시 중구</td>\n",
       "      <td>11020</td>\n",
       "    </tr>\n",
       "    <tr>\n",
       "      <th>2</th>\n",
       "      <td>서울특별시 용산구</td>\n",
       "      <td>11030</td>\n",
       "    </tr>\n",
       "    <tr>\n",
       "      <th>3</th>\n",
       "      <td>서울특별시 성동구</td>\n",
       "      <td>11040</td>\n",
       "    </tr>\n",
       "    <tr>\n",
       "      <th>4</th>\n",
       "      <td>서울특별시 광진구</td>\n",
       "      <td>11050</td>\n",
       "    </tr>\n",
       "  </tbody>\n",
       "</table>\n",
       "</div>"
      ],
      "text/plain": [
       "        Name  법정동코드\n",
       "0  서울특별시 종로구  11010\n",
       "1   서울특별시 중구  11020\n",
       "2  서울특별시 용산구  11030\n",
       "3  서울특별시 성동구  11040\n",
       "4  서울특별시 광진구  11050"
      ]
     },
     "execution_count": 136,
     "metadata": {},
     "output_type": "execute_result"
    }
   ],
   "source": [
    "code = ref_Bcode[['NM','2019']].astype(str).rename(columns= {'NM':'Name', '2019':'법정동코드'})\n",
    "\n",
    "code.head()"
   ]
  },
  {
   "cell_type": "code",
   "execution_count": 137,
   "metadata": {},
   "outputs": [],
   "source": [
    "# 시흥시만 수정\n",
    "group_evi.loc[group_evi['NAME'] == '경기도 시 흥시', \"NAME\"] = '경기도 시흥시'\n",
    "\n",
    "group_evi['NAME'] = group_evi['NAME'].str.strip()\n",
    "code['Name'] = code['Name'].str.strip()"
   ]
  },
  {
   "cell_type": "code",
   "execution_count": 138,
   "metadata": {},
   "outputs": [],
   "source": [
    "mapping_evi = group_evi.merge(code[['Name','법정동코드']], left_on='NAME', right_on='Name', how='left')"
   ]
  },
  {
   "cell_type": "code",
   "execution_count": 139,
   "metadata": {},
   "outputs": [
    {
     "name": "stdout",
     "output_type": "stream",
     "text": [
      "<class 'pandas.core.frame.DataFrame'>\n",
      "Int64Index: 5506 entries, 0 to 5505\n",
      "Data columns (total 7 columns):\n",
      " #   Column         Non-Null Count  Dtype  \n",
      "---  ------         --------------  -----  \n",
      " 0   year           5506 non-null   int64  \n",
      " 1   NAME           5506 non-null   object \n",
      " 2   from6to9_mean  5479 non-null   float64\n",
      " 3   from6to9_min   5479 non-null   float64\n",
      " 4   from6to9_max   5479 non-null   float64\n",
      " 5   Name           5330 non-null   object \n",
      " 6   법정동코드          5330 non-null   object \n",
      "dtypes: float64(3), int64(1), object(3)\n",
      "memory usage: 344.1+ KB\n"
     ]
    }
   ],
   "source": [
    "mapping_evi.info()"
   ]
  },
  {
   "cell_type": "code",
   "execution_count": 140,
   "metadata": {},
   "outputs": [
    {
     "data": {
      "text/plain": [
       "array(['경기도 부천시 소사구', '경기도 부천시 오정구', '경기도 부천시 원미구', '경기도 여주군', '인천광역시 남구',\n",
       "       '충청남도 당진군', '충청남도 연기군', '충청북도 청원군'], dtype=object)"
      ]
     },
     "execution_count": 140,
     "metadata": {},
     "output_type": "execute_result"
    }
   ],
   "source": [
    "pd.set_option('display.max_rows', None)\n",
    "\n",
    "mapping_evi.loc[mapping_evi['Name'].isnull()]['NAME'].unique()"
   ]
  },
  {
   "cell_type": "markdown",
   "metadata": {},
   "source": [
    "**특정 지역명 수정**"
   ]
  },
  {
   "cell_type": "code",
   "execution_count": 159,
   "metadata": {},
   "outputs": [],
   "source": [
    "# 경기도 부천시 소사구~원미구 -> 경기도 부천시\n",
    "# 경기도 여주군 -> 경기도 여주시 \n",
    "# 인천광역시 남구 -> 인천광역시 미추홀구\n",
    "# 충청남도 당진군 -> 충청남도 당진시\n",
    "# 충청남도 연기군 -> 충청남도 연기시\n",
    "# 충청북도 청원군 -> 충청북도 청원구\n",
    "\n",
    "group_evi['new_NAME'] = group_evi['NAME']\n",
    "group_evi['new_NAME'] = group_evi['new_NAME'].replace({'경기도 부천시 소사구':'경기도 부천시', '경기도 부천시 원미구':'경기도 부천시', '경기도 부천시 오정구':'경기도 부천시',\n",
    "                                                       '경기도 여주군':'경기도 여주시', '충청남도 당진군':'충청남도 당진시', '인천광역시 남구':'인천광역시 미추홀구', \n",
    "                                                       \n",
    "                                                       '충청남도 연기군':'세종특별자치시 세종시', '충청북도 청원군':'충청북도 청주시 청원구'})"
   ]
  },
  {
   "cell_type": "code",
   "execution_count": 203,
   "metadata": {},
   "outputs": [
    {
     "data": {
      "text/plain": [
       "year              0\n",
       "NAME              0\n",
       "from6to9_mean    27\n",
       "from6to9_min     27\n",
       "from6to9_max     27\n",
       "new_NAME          0\n",
       "Name              0\n",
       "법정동코드             0\n",
       "dtype: int64"
      ]
     },
     "execution_count": 203,
     "metadata": {},
     "output_type": "execute_result"
    }
   ],
   "source": [
    "mapping_evi_new = group_evi.merge(code[['Name','법정동코드']], left_on='new_NAME', right_on='Name', how='left')\n"
   ]
  },
  {
   "cell_type": "code",
   "execution_count": 165,
   "metadata": {},
   "outputs": [],
   "source": [
    "mapping_evi_new.to_excel('EVI_법정동코드.xlsx',encoding='euc-kr')"
   ]
  },
  {
   "cell_type": "markdown",
   "metadata": {},
   "source": [
    "행정동코드 merge"
   ]
  },
  {
   "cell_type": "code",
   "execution_count": 198,
   "metadata": {},
   "outputs": [
    {
     "data": {
      "text/html": [
       "<div>\n",
       "<style scoped>\n",
       "    .dataframe tbody tr th:only-of-type {\n",
       "        vertical-align: middle;\n",
       "    }\n",
       "\n",
       "    .dataframe tbody tr th {\n",
       "        vertical-align: top;\n",
       "    }\n",
       "\n",
       "    .dataframe thead th {\n",
       "        text-align: right;\n",
       "    }\n",
       "</style>\n",
       "<table border=\"1\" class=\"dataframe\">\n",
       "  <thead>\n",
       "    <tr style=\"text-align: right;\">\n",
       "      <th></th>\n",
       "      <th>행정동코드</th>\n",
       "      <th>시도명</th>\n",
       "      <th>시군구명</th>\n",
       "      <th>읍면동명</th>\n",
       "      <th>생성일자</th>\n",
       "      <th>말소일자</th>\n",
       "      <th>name</th>\n",
       "    </tr>\n",
       "  </thead>\n",
       "  <tbody>\n",
       "    <tr>\n",
       "      <th>0</th>\n",
       "      <td>11000</td>\n",
       "      <td>서울특별시</td>\n",
       "      <td>NaN</td>\n",
       "      <td>NaN</td>\n",
       "      <td>19880423</td>\n",
       "      <td>NaN</td>\n",
       "      <td>서울특별시</td>\n",
       "    </tr>\n",
       "    <tr>\n",
       "      <th>1</th>\n",
       "      <td>11110</td>\n",
       "      <td>서울특별시</td>\n",
       "      <td>종로구</td>\n",
       "      <td>NaN</td>\n",
       "      <td>19880423</td>\n",
       "      <td>NaN</td>\n",
       "      <td>서울특별시 종로구</td>\n",
       "    </tr>\n",
       "    <tr>\n",
       "      <th>2</th>\n",
       "      <td>11140</td>\n",
       "      <td>서울특별시</td>\n",
       "      <td>중구</td>\n",
       "      <td>NaN</td>\n",
       "      <td>19880423</td>\n",
       "      <td>NaN</td>\n",
       "      <td>서울특별시 중구</td>\n",
       "    </tr>\n",
       "    <tr>\n",
       "      <th>3</th>\n",
       "      <td>11170</td>\n",
       "      <td>서울특별시</td>\n",
       "      <td>용산구</td>\n",
       "      <td>NaN</td>\n",
       "      <td>19880423</td>\n",
       "      <td>NaN</td>\n",
       "      <td>서울특별시 용산구</td>\n",
       "    </tr>\n",
       "    <tr>\n",
       "      <th>4</th>\n",
       "      <td>11200</td>\n",
       "      <td>서울특별시</td>\n",
       "      <td>성동구</td>\n",
       "      <td>NaN</td>\n",
       "      <td>19880423</td>\n",
       "      <td>NaN</td>\n",
       "      <td>서울특별시 성동구</td>\n",
       "    </tr>\n",
       "  </tbody>\n",
       "</table>\n",
       "</div>"
      ],
      "text/plain": [
       "   행정동코드    시도명 시군구명 읍면동명      생성일자  말소일자       name\n",
       "0  11000  서울특별시  NaN  NaN  19880423   NaN      서울특별시\n",
       "1  11110  서울특별시  종로구  NaN  19880423   NaN  서울특별시 종로구\n",
       "2  11140  서울특별시   중구  NaN  19880423   NaN   서울특별시 중구\n",
       "3  11170  서울특별시  용산구  NaN  19880423   NaN  서울특별시 용산구\n",
       "4  11200  서울특별시  성동구  NaN  19880423   NaN  서울특별시 성동구"
      ]
     },
     "execution_count": 198,
     "metadata": {},
     "output_type": "execute_result"
    }
   ],
   "source": [
    "#행정동코드\n",
    "ref_Hcode = pd.read_excel('./jscode20210601/KIKcd_H.20210601.xlsx')\n",
    "ref_Hcode = ref_Hcode.loc[ref_Hcode['읍면동명'].isnull(), :].reset_index(drop=True)\n",
    "\n",
    "ref_Hcode.loc[ref_Hcode['시군구명'].notnull(), 'name'] = ref_Hcode['시도명'].str.strip() + ' ' + ref_Hcode['시군구명'].str.strip()\n",
    "ref_Hcode.loc[ref_Hcode['시군구명'].isnull(), 'name'] = ref_Hcode['시도명'].str.strip()\n",
    "\n",
    "ref_Hcode['행정동코드'] = ref_Hcode['행정동코드'].astype(str).apply(lambda x: x[:5])\n",
    "ref_Hcode.head()"
   ]
  },
  {
   "cell_type": "code",
   "execution_count": 199,
   "metadata": {},
   "outputs": [
    {
     "data": {
      "text/html": [
       "<div>\n",
       "<style scoped>\n",
       "    .dataframe tbody tr th:only-of-type {\n",
       "        vertical-align: middle;\n",
       "    }\n",
       "\n",
       "    .dataframe tbody tr th {\n",
       "        vertical-align: top;\n",
       "    }\n",
       "\n",
       "    .dataframe thead th {\n",
       "        text-align: right;\n",
       "    }\n",
       "</style>\n",
       "<table border=\"1\" class=\"dataframe\">\n",
       "  <thead>\n",
       "    <tr style=\"text-align: right;\">\n",
       "      <th></th>\n",
       "      <th>행정동코드</th>\n",
       "      <th>시도명</th>\n",
       "      <th>시군구명</th>\n",
       "      <th>읍면동명</th>\n",
       "      <th>생성일자</th>\n",
       "      <th>말소일자</th>\n",
       "      <th>name</th>\n",
       "    </tr>\n",
       "  </thead>\n",
       "  <tbody>\n",
       "    <tr>\n",
       "      <th>86</th>\n",
       "      <td>41000</td>\n",
       "      <td>경기도</td>\n",
       "      <td>NaN</td>\n",
       "      <td>NaN</td>\n",
       "      <td>19880423</td>\n",
       "      <td>NaN</td>\n",
       "      <td>경기도</td>\n",
       "    </tr>\n",
       "    <tr>\n",
       "      <th>88</th>\n",
       "      <td>41110</td>\n",
       "      <td>경기도</td>\n",
       "      <td>수원시</td>\n",
       "      <td>NaN</td>\n",
       "      <td>19880423</td>\n",
       "      <td>NaN</td>\n",
       "      <td>경기도 수원시</td>\n",
       "    </tr>\n",
       "    <tr>\n",
       "      <th>89</th>\n",
       "      <td>41111</td>\n",
       "      <td>경기도</td>\n",
       "      <td>수원시 장안구</td>\n",
       "      <td>NaN</td>\n",
       "      <td>19880701</td>\n",
       "      <td>NaN</td>\n",
       "      <td>경기도 수원시 장안구</td>\n",
       "    </tr>\n",
       "    <tr>\n",
       "      <th>90</th>\n",
       "      <td>41113</td>\n",
       "      <td>경기도</td>\n",
       "      <td>수원시 권선구</td>\n",
       "      <td>NaN</td>\n",
       "      <td>19880701</td>\n",
       "      <td>NaN</td>\n",
       "      <td>경기도 수원시 권선구</td>\n",
       "    </tr>\n",
       "    <tr>\n",
       "      <th>91</th>\n",
       "      <td>41115</td>\n",
       "      <td>경기도</td>\n",
       "      <td>수원시 팔달구</td>\n",
       "      <td>NaN</td>\n",
       "      <td>19930115</td>\n",
       "      <td>NaN</td>\n",
       "      <td>경기도 수원시 팔달구</td>\n",
       "    </tr>\n",
       "  </tbody>\n",
       "</table>\n",
       "</div>"
      ],
      "text/plain": [
       "    행정동코드  시도명     시군구명 읍면동명      생성일자  말소일자         name\n",
       "86  41000  경기도      NaN  NaN  19880423   NaN          경기도\n",
       "88  41110  경기도      수원시  NaN  19880423   NaN      경기도 수원시\n",
       "89  41111  경기도  수원시 장안구  NaN  19880701   NaN  경기도 수원시 장안구\n",
       "90  41113  경기도  수원시 권선구  NaN  19880701   NaN  경기도 수원시 권선구\n",
       "91  41115  경기도  수원시 팔달구  NaN  19930115   NaN  경기도 수원시 팔달구"
      ]
     },
     "execution_count": 199,
     "metadata": {},
     "output_type": "execute_result"
    }
   ],
   "source": [
    "# 하나씩 탐색\n",
    "ref_Hcode.loc[ref_Hcode['name'].str.startswith(\"경기도\")].head()"
   ]
  },
  {
   "cell_type": "code",
   "execution_count": 200,
   "metadata": {},
   "outputs": [],
   "source": [
    "# 세종특별자치시 2개 존재 > 하나 지움\n",
    "ref_Hcode = ref_Hcode.drop_duplicates(subset='name', keep='first')"
   ]
  },
  {
   "cell_type": "code",
   "execution_count": 204,
   "metadata": {},
   "outputs": [],
   "source": [
    "# 세종특별자치시 세종시(법정코드) -> 세종특별자치시(행정코드)\n",
    "mapping_evi_new['new_NAME'] = mapping_evi_new['new_NAME'].replace({'세종특별자치시 세종시':'세종특별자치시'})"
   ]
  },
  {
   "cell_type": "code",
   "execution_count": 205,
   "metadata": {},
   "outputs": [
    {
     "data": {
      "text/plain": [
       "year              0\n",
       "from6to9_mean    27\n",
       "from6to9_min     27\n",
       "from6to9_max     27\n",
       "new_NAME          0\n",
       "법정동코드             0\n",
       "name              0\n",
       "행정동코드             0\n",
       "dtype: int64"
      ]
     },
     "execution_count": 205,
     "metadata": {},
     "output_type": "execute_result"
    }
   ],
   "source": [
    "total_evi = mapping_evi_new.drop(columns=['NAME','Name']).merge(ref_Hcode[['name','행정동코드']], left_on='new_NAME', right_on='name', how='left')\n",
    "\n",
    "total_evi.isnull().sum()"
   ]
  },
  {
   "cell_type": "code",
   "execution_count": 206,
   "metadata": {},
   "outputs": [
    {
     "data": {
      "text/html": [
       "<div>\n",
       "<style scoped>\n",
       "    .dataframe tbody tr th:only-of-type {\n",
       "        vertical-align: middle;\n",
       "    }\n",
       "\n",
       "    .dataframe tbody tr th {\n",
       "        vertical-align: top;\n",
       "    }\n",
       "\n",
       "    .dataframe thead th {\n",
       "        text-align: right;\n",
       "    }\n",
       "</style>\n",
       "<table border=\"1\" class=\"dataframe\">\n",
       "  <thead>\n",
       "    <tr style=\"text-align: right;\">\n",
       "      <th></th>\n",
       "      <th>year</th>\n",
       "      <th>from6to9_mean</th>\n",
       "      <th>from6to9_min</th>\n",
       "      <th>from6to9_max</th>\n",
       "      <th>new_NAME</th>\n",
       "      <th>법정동코드</th>\n",
       "      <th>name</th>\n",
       "      <th>행정동코드</th>\n",
       "    </tr>\n",
       "  </thead>\n",
       "  <tbody>\n",
       "    <tr>\n",
       "      <th>389</th>\n",
       "      <td>2001</td>\n",
       "      <td>NaN</td>\n",
       "      <td>NaN</td>\n",
       "      <td>NaN</td>\n",
       "      <td>부산광역시 영도구</td>\n",
       "      <td>21040</td>\n",
       "      <td>부산광역시 영도구</td>\n",
       "      <td>26200</td>\n",
       "    </tr>\n",
       "    <tr>\n",
       "      <th>640</th>\n",
       "      <td>2002</td>\n",
       "      <td>NaN</td>\n",
       "      <td>NaN</td>\n",
       "      <td>NaN</td>\n",
       "      <td>부산광역시 영도구</td>\n",
       "      <td>21040</td>\n",
       "      <td>부산광역시 영도구</td>\n",
       "      <td>26200</td>\n",
       "    </tr>\n",
       "    <tr>\n",
       "      <th>890</th>\n",
       "      <td>2003</td>\n",
       "      <td>NaN</td>\n",
       "      <td>NaN</td>\n",
       "      <td>NaN</td>\n",
       "      <td>부산광역시 영도구</td>\n",
       "      <td>21040</td>\n",
       "      <td>부산광역시 영도구</td>\n",
       "      <td>26200</td>\n",
       "    </tr>\n",
       "    <tr>\n",
       "      <th>1392</th>\n",
       "      <td>2005</td>\n",
       "      <td>NaN</td>\n",
       "      <td>NaN</td>\n",
       "      <td>NaN</td>\n",
       "      <td>부산광역시 영도구</td>\n",
       "      <td>21040</td>\n",
       "      <td>부산광역시 영도구</td>\n",
       "      <td>26200</td>\n",
       "    </tr>\n",
       "    <tr>\n",
       "      <th>1393</th>\n",
       "      <td>2005</td>\n",
       "      <td>NaN</td>\n",
       "      <td>NaN</td>\n",
       "      <td>NaN</td>\n",
       "      <td>부산광역시 중구</td>\n",
       "      <td>21010</td>\n",
       "      <td>부산광역시 중구</td>\n",
       "      <td>26110</td>\n",
       "    </tr>\n",
       "  </tbody>\n",
       "</table>\n",
       "</div>"
      ],
      "text/plain": [
       "      year  from6to9_mean  from6to9_min  from6to9_max   new_NAME  법정동코드  \\\n",
       "389   2001            NaN           NaN           NaN  부산광역시 영도구  21040   \n",
       "640   2002            NaN           NaN           NaN  부산광역시 영도구  21040   \n",
       "890   2003            NaN           NaN           NaN  부산광역시 영도구  21040   \n",
       "1392  2005            NaN           NaN           NaN  부산광역시 영도구  21040   \n",
       "1393  2005            NaN           NaN           NaN   부산광역시 중구  21010   \n",
       "\n",
       "           name  행정동코드  \n",
       "389   부산광역시 영도구  26200  \n",
       "640   부산광역시 영도구  26200  \n",
       "890   부산광역시 영도구  26200  \n",
       "1392  부산광역시 영도구  26200  \n",
       "1393   부산광역시 중구  26110  "
      ]
     },
     "execution_count": 206,
     "metadata": {},
     "output_type": "execute_result"
    }
   ],
   "source": [
    "total_evi.loc[total_evi['from6to9_mean'].isnull()].head() # 6-9월 사이 값이 없는 지역은 NULL로 표기되었음."
   ]
  },
  {
   "cell_type": "code",
   "execution_count": 209,
   "metadata": {},
   "outputs": [],
   "source": [
    "total_evi.to_excel('EVI_연도별_시군구별(6-9월).xlsx',index=False, header=True)"
   ]
  },
  {
   "cell_type": "code",
   "execution_count": 212,
   "metadata": {},
   "outputs": [
    {
     "data": {
      "text/plain": [
       "(5506, 8)"
      ]
     },
     "execution_count": 212,
     "metadata": {},
     "output_type": "execute_result"
    }
   ],
   "source": [
    "total_evi.loc[total_evi['행정동코드'] != total_evi['법정동코드']].shape"
   ]
  }
 ],
 "metadata": {
  "interpreter": {
   "hash": "73e1520f6d2713970eba64e5271ee183e7b673be1a19b89b52d73d9ee0278917"
  },
  "kernelspec": {
   "display_name": "Python 3.7.0 ('kaggle')",
   "language": "python",
   "name": "python3"
  },
  "language_info": {
   "codemirror_mode": {
    "name": "ipython",
    "version": 3
   },
   "file_extension": ".py",
   "mimetype": "text/x-python",
   "name": "python",
   "nbconvert_exporter": "python",
   "pygments_lexer": "ipython3",
   "version": "3.7.0"
  },
  "orig_nbformat": 4
 },
 "nbformat": 4,
 "nbformat_minor": 2
}
