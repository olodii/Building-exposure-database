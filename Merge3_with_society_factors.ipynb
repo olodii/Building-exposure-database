{
 "cells": [
  {
   "cell_type": "code",
   "execution_count": 1,
   "metadata": {},
   "outputs": [],
   "source": [
    "import pandas as pd\n",
    "import numpy as np\n",
    "import matplotlib.pyplot as plt\n",
    "import seaborn as sns\n",
    "\n",
    "import warnings\n",
    "warnings.filterwarnings('ignore')\n",
    "\n",
    "pd.set_option('display.max_rows', 30)"
   ]
  },
  {
   "cell_type": "markdown",
   "metadata": {},
   "source": [
    "### **Merge with SES factors**"
   ]
  },
  {
   "cell_type": "code",
   "execution_count": 2,
   "metadata": {},
   "outputs": [],
   "source": [
    "sc2015 = pd.read_excel('지역사회_필요변수만_연도별정리.xlsx', sheet_name='2015')\n",
    "sc2016 = pd.read_excel('지역사회_필요변수만_연도별정리.xlsx', sheet_name='2016')\n",
    "sc2017 = pd.read_excel('지역사회_필요변수만_연도별정리.xlsx', sheet_name='2017')\n",
    "sc2018 = pd.read_excel('지역사회_필요변수만_연도별정리.xlsx', sheet_name='2018')\n",
    "sc2019 = pd.read_excel('지역사회_필요변수만_연도별정리.xlsx', sheet_name='2019')"
   ]
  },
  {
   "cell_type": "code",
   "execution_count": 3,
   "metadata": {},
   "outputs": [],
   "source": [
    "sc_clist = sc2015.columns.to_list()"
   ]
  },
  {
   "cell_type": "markdown",
   "metadata": {},
   "source": [
    "변수 선택"
   ]
  },
  {
   "cell_type": "markdown",
   "metadata": {},
   "source": [
    "변수명 변경"
   ]
  },
  {
   "cell_type": "code",
   "execution_count": 4,
   "metadata": {},
   "outputs": [],
   "source": [
    "nc_list = []\n",
    "\n",
    "for c in sc2015.columns:\n",
    "    \n",
    "    if c in ['번호','코드','시도','시군구','지역','CHS_No']:\n",
    "        nc_list.append(c)\n",
    "    else:\n",
    "        nc = f'2015_{c}'\n",
    "        nc_list.append(nc)\n",
    "        \n",
    "sc2015.columns = nc_list\n",
    "\n",
    "sc2015.loc[sc2015['시도'] != sc2015['시군구'], '지역'] = sc2015['시도'].str.strip() + ' ' + sc2015['시군구'].str.strip()\n",
    "sc2015 = sc2015.rename(columns={'코드':'Hcode_soc','지역':'Name_soc'}).drop(columns=['시도','시군구','번호']).reset_index(drop=True)"
   ]
  },
  {
   "cell_type": "code",
   "execution_count": 5,
   "metadata": {},
   "outputs": [],
   "source": [
    "nc_list = []\n",
    "\n",
    "for c in sc2016.columns:\n",
    "    \n",
    "    if c in ['번호','코드','시도','시군구','지역','CHS_No']:\n",
    "        nc_list.append(c)\n",
    "    else:\n",
    "        nc = f'2016_{c}'\n",
    "        nc_list.append(nc)\n",
    "        \n",
    "sc2016.columns = nc_list\n",
    "\n",
    "sc2016.loc[sc2016['시도'] != sc2016['시군구'], '지역'] = sc2016['시도'].str.strip() + ' ' + sc2016['시군구'].str.strip()\n",
    "sc2016 = sc2016.rename(columns={'코드':'Hcode_soc','지역':'Name_soc'}).drop(columns=['시도','시군구','번호']).reset_index(drop=True)"
   ]
  },
  {
   "cell_type": "code",
   "execution_count": 6,
   "metadata": {},
   "outputs": [],
   "source": [
    "nc_list = []\n",
    "\n",
    "for c in sc2017.columns:\n",
    "    \n",
    "    if c in ['번호','코드','시도','시군구','지역','CHS_No']:\n",
    "        nc_list.append(c)\n",
    "    else:\n",
    "        nc = f'2017_{c}'\n",
    "        nc_list.append(nc)\n",
    "        \n",
    "sc2017.columns = nc_list\n",
    "\n",
    "sc2017.loc[sc2017['시도'] != sc2017['시군구'], '지역'] = sc2017['시도'].str.strip() + ' ' + sc2017['시군구'].str.strip()\n",
    "sc2017 = sc2017.rename(columns={'코드':'Hcode_soc','지역':'Name_soc'}).drop(columns=['시도','시군구','번호']).reset_index(drop=True)"
   ]
  },
  {
   "cell_type": "code",
   "execution_count": 7,
   "metadata": {},
   "outputs": [],
   "source": [
    "nc_list = []\n",
    "\n",
    "for c in sc2018.columns:\n",
    "    \n",
    "    if c in ['번호','코드','시도','시군구','지역','CHS_No']:\n",
    "        nc_list.append(c)\n",
    "    else:\n",
    "        nc = f'2018_{c}'\n",
    "        nc_list.append(nc)\n",
    "        \n",
    "sc2018.columns = nc_list\n",
    "\n",
    "sc2018.loc[sc2018['시도'] != sc2018['시군구'], '지역'] = sc2018['시도'].str.strip() + ' ' + sc2018['시군구'].str.strip()\n",
    "sc2018 = sc2018.rename(columns={'코드':'Hcode_soc','지역':'Name_soc'}).drop(columns=['시도','시군구','번호']).reset_index(drop=True)"
   ]
  },
  {
   "cell_type": "code",
   "execution_count": 8,
   "metadata": {},
   "outputs": [],
   "source": [
    "nc_list = []\n",
    "\n",
    "for c in sc2019.columns:\n",
    "    \n",
    "    if c in ['번호','코드','시도','시군구','지역','CHS_No']:\n",
    "        nc_list.append(c)\n",
    "    else:\n",
    "        nc = f'2019_{c}'\n",
    "        nc_list.append(nc)\n",
    "        \n",
    "sc2019.columns = nc_list\n",
    "\n",
    "sc2019.loc[sc2019['시도'] != sc2019['시군구'], '지역'] = sc2019['시도'].str.strip() + ' ' + sc2019['시군구'].str.strip()\n",
    "sc2019 = sc2019.rename(columns={'코드':'Hcode_soc','지역':'Name_soc'}).drop(columns=['시도','시군구','번호']).reset_index(drop=True)"
   ]
  },
  {
   "cell_type": "markdown",
   "metadata": {},
   "source": [
    "**연도별 data merge**"
   ]
  },
  {
   "cell_type": "code",
   "execution_count": 9,
   "metadata": {},
   "outputs": [
    {
     "data": {
      "text/html": [
       "<div>\n",
       "<style scoped>\n",
       "    .dataframe tbody tr th:only-of-type {\n",
       "        vertical-align: middle;\n",
       "    }\n",
       "\n",
       "    .dataframe tbody tr th {\n",
       "        vertical-align: top;\n",
       "    }\n",
       "\n",
       "    .dataframe thead th {\n",
       "        text-align: right;\n",
       "    }\n",
       "</style>\n",
       "<table border=\"1\" class=\"dataframe\">\n",
       "  <thead>\n",
       "    <tr style=\"text-align: right;\">\n",
       "      <th></th>\n",
       "      <th>name</th>\n",
       "      <th>count</th>\n",
       "    </tr>\n",
       "  </thead>\n",
       "  <tbody>\n",
       "    <tr>\n",
       "      <th>0</th>\n",
       "      <td>강원도</td>\n",
       "      <td>1</td>\n",
       "    </tr>\n",
       "    <tr>\n",
       "      <th>1</th>\n",
       "      <td>강원도 강릉시</td>\n",
       "      <td>1</td>\n",
       "    </tr>\n",
       "    <tr>\n",
       "      <th>2</th>\n",
       "      <td>강원도 고성군</td>\n",
       "      <td>1</td>\n",
       "    </tr>\n",
       "    <tr>\n",
       "      <th>3</th>\n",
       "      <td>강원도 동해시</td>\n",
       "      <td>1</td>\n",
       "    </tr>\n",
       "    <tr>\n",
       "      <th>4</th>\n",
       "      <td>강원도 삼척시</td>\n",
       "      <td>1</td>\n",
       "    </tr>\n",
       "    <tr>\n",
       "      <th>...</th>\n",
       "      <td>...</td>\n",
       "      <td>...</td>\n",
       "    </tr>\n",
       "    <tr>\n",
       "      <th>289</th>\n",
       "      <td>충청북도 통합청주시</td>\n",
       "      <td>1</td>\n",
       "    </tr>\n",
       "    <tr>\n",
       "      <th>290</th>\n",
       "      <td>충청북도 통합청주시 상당구</td>\n",
       "      <td>1</td>\n",
       "    </tr>\n",
       "    <tr>\n",
       "      <th>291</th>\n",
       "      <td>충청북도 통합청주시 서원구</td>\n",
       "      <td>1</td>\n",
       "    </tr>\n",
       "    <tr>\n",
       "      <th>292</th>\n",
       "      <td>충청북도 통합청주시 청원구</td>\n",
       "      <td>1</td>\n",
       "    </tr>\n",
       "    <tr>\n",
       "      <th>293</th>\n",
       "      <td>충청북도 통합청주시 흥덕구</td>\n",
       "      <td>1</td>\n",
       "    </tr>\n",
       "  </tbody>\n",
       "</table>\n",
       "<p>294 rows × 2 columns</p>\n",
       "</div>"
      ],
      "text/plain": [
       "               name  count\n",
       "0               강원도      1\n",
       "1           강원도 강릉시      1\n",
       "2           강원도 고성군      1\n",
       "3           강원도 동해시      1\n",
       "4           강원도 삼척시      1\n",
       "..              ...    ...\n",
       "289      충청북도 통합청주시      1\n",
       "290  충청북도 통합청주시 상당구      1\n",
       "291  충청북도 통합청주시 서원구      1\n",
       "292  충청북도 통합청주시 청원구      1\n",
       "293  충청북도 통합청주시 흥덕구      1\n",
       "\n",
       "[294 rows x 2 columns]"
      ]
     },
     "execution_count": 9,
     "metadata": {},
     "output_type": "execute_result"
    }
   ],
   "source": [
    "pd.set_option('display.max_rows', 30)\n",
    "pd.DataFrame({'name': sc2015.groupby('Name_soc')['CHS_No'].count().index, 'count':sc2015.groupby('Name_soc')['CHS_No'].count().to_list()})\n",
    "# >> match 1 region : 1 CHS_No"
   ]
  },
  {
   "cell_type": "code",
   "execution_count": null,
   "metadata": {},
   "outputs": [],
   "source": [
    "total_soc = pd.DataFrame()\n",
    "total_soc = sc2015.merge(sc2016.drop(columns=['Name_soc','CHS_No']), on='Hcode_soc', how='outer')\n",
    "total_soc = total_soc.merge(sc2017.drop(columns=['Name_soc','CHS_No']), on='Hcode_soc', how='outer')\n",
    "total_soc = total_soc.merge(sc2018.drop(columns=['Name_soc','CHS_No']), on='Hcode_soc', how='outer')\n",
    "total_soc = total_soc.merge(sc2019.drop(columns=['Name_soc','CHS_No']), on='Hcode_soc', how='outer')\n",
    "\n",
    "total_soc.columns"
   ]
  },
  {
   "cell_type": "code",
   "execution_count": 11,
   "metadata": {},
   "outputs": [],
   "source": [
    "total_soc.to_excel('지역사회_건강결과및건강결정요인_연도별_merge.xlsx', index=False, header=True, encoding='euc-kr')"
   ]
  },
  {
   "cell_type": "markdown",
   "metadata": {},
   "source": [
    "### **interpolation/extrapolation**"
   ]
  },
  {
   "cell_type": "code",
   "execution_count": 12,
   "metadata": {},
   "outputs": [
    {
     "name": "stdout",
     "output_type": "stream",
     "text": [
      "<class 'pandas.core.frame.DataFrame'>\n",
      "RangeIndex: 2816 entries, 0 to 2815\n",
      "Columns: 693 entries, Hcode_soc to 2019_기준시간내의료이용률_분만실\n",
      "dtypes: float64(688), int64(1), object(4)\n",
      "memory usage: 14.9+ MB\n"
     ]
    }
   ],
   "source": [
    "total_soc = pd.read_excel('지역사회_건강결과및건강결정요인_연도별_merge.xlsx')\n",
    "total_soc.info()"
   ]
  },
  {
   "cell_type": "code",
   "execution_count": null,
   "metadata": {},
   "outputs": [],
   "source": [
    "pd.set_option('display.max_rows', 30)\n",
    "total_soc.isnull().sum()"
   ]
  },
  {
   "cell_type": "code",
   "execution_count": null,
   "metadata": {},
   "outputs": [],
   "source": [
    "# for test:interpolation and extrapolation\n",
    "v = sc_clist[-1]\n",
    "\n",
    "obj = total_soc[[c for c in total_soc.columns if c.endswith(v)]]\n",
    "for k in range(obj.shape[0]):\n",
    "    if obj.iloc[k].isnull().all():\n",
    "        pass\n",
    "        \n",
    "    else:\n",
    "        total_soc.loc[k, [c for c in total_soc.columns if c.endswith(v)]] = obj.iloc[k].interpolate(method='linear', limit_area=None, limit_direction='both')\n",
    "        \n",
    "total_soc[[c for c in total_soc.columns if c.endswith(v)]]"
   ]
  },
  {
   "cell_type": "code",
   "execution_count": 15,
   "metadata": {},
   "outputs": [],
   "source": [
    "for v in sc_clist[6:]:\n",
    "    obj = total_soc[[c for c in total_soc.columns if c.endswith(v)]]\n",
    "    \n",
    "    for k in range(obj.shape[0]):\n",
    "        if obj.iloc[k].isnull().all(): # 모두 NaN이면 그대로 nan으로 둠\n",
    "            pass\n",
    "        \n",
    "        else:\n",
    "            # interpolation은 앞뒤 데이터로 linear하게 내삽, extrapolation은 근처 데이터로 외삽\n",
    "            total_soc.loc[k, [c for c in total_soc.columns if c.endswith(v)]] = obj.iloc[k].interpolate(method='linear', limit_area=None, limit_direction='both')    \n",
    "            "
   ]
  },
  {
   "cell_type": "code",
   "execution_count": 16,
   "metadata": {},
   "outputs": [],
   "source": [
    "total_soc.to_excel('Fin_interpolated_society_variable.xlsx', index=False, header=True, encoding='euc-kr')"
   ]
  },
  {
   "cell_type": "markdown",
   "metadata": {},
   "source": [
    "### **Merge with exposure variables**"
   ]
  },
  {
   "cell_type": "code",
   "execution_count": 17,
   "metadata": {},
   "outputs": [],
   "source": [
    "exp = pd.read_excel('Fin_imputed_vegetation_airpollution.xlsx')\n",
    "soc = pd.read_excel('Fin_interpolated_society_variable.xlsx')"
   ]
  },
  {
   "cell_type": "markdown",
   "metadata": {},
   "source": [
    "전국, 시단위 제외"
   ]
  },
  {
   "cell_type": "code",
   "execution_count": 18,
   "metadata": {},
   "outputs": [],
   "source": [
    "si = ['전국', '서울특별시', '부산광역시', '대구광역시', '인천광역시', '광주광역시', '대전광역시',\n",
    "      '울산광역시', '세종특별자치시', '경기도', '강원도', '충청북도', '충청남도', '전라북도',\n",
    "      '전라남도', '경상북도', '경상남도', '제주특별자치도']\n",
    "\n",
    "soc = soc.loc[soc['Name_soc'].apply(lambda x: x not in si)].reset_index(drop=True)"
   ]
  },
  {
   "cell_type": "code",
   "execution_count": null,
   "metadata": {},
   "outputs": [],
   "source": [
    "total_df = exp.merge(soc, left_on='행정동코드', right_on='Hcode_soc', how='outer')\n",
    "total_df.isnull().sum()"
   ]
  },
  {
   "cell_type": "code",
   "execution_count": 20,
   "metadata": {},
   "outputs": [
    {
     "data": {
      "text/html": [
       "<div>\n",
       "<style scoped>\n",
       "    .dataframe tbody tr th:only-of-type {\n",
       "        vertical-align: middle;\n",
       "    }\n",
       "\n",
       "    .dataframe tbody tr th {\n",
       "        vertical-align: top;\n",
       "    }\n",
       "\n",
       "    .dataframe thead th {\n",
       "        text-align: right;\n",
       "    }\n",
       "</style>\n",
       "<table border=\"1\" class=\"dataframe\">\n",
       "  <thead>\n",
       "    <tr style=\"text-align: right;\">\n",
       "      <th></th>\n",
       "      <th>행정동코드</th>\n",
       "      <th>Hcode_soc</th>\n",
       "      <th>Name_soc</th>\n",
       "      <th>법정동=행정동이름</th>\n",
       "      <th>법정동코드</th>\n",
       "    </tr>\n",
       "  </thead>\n",
       "  <tbody>\n",
       "    <tr>\n",
       "      <th>2793</th>\n",
       "      <td>NaN</td>\n",
       "      <td>23030.0</td>\n",
       "      <td>인천광역시 남구</td>\n",
       "      <td>NaN</td>\n",
       "      <td>NaN</td>\n",
       "    </tr>\n",
       "    <tr>\n",
       "      <th>2794</th>\n",
       "      <td>NaN</td>\n",
       "      <td>31051.0</td>\n",
       "      <td>경기도 부천시 원미구</td>\n",
       "      <td>NaN</td>\n",
       "      <td>NaN</td>\n",
       "    </tr>\n",
       "    <tr>\n",
       "      <th>2795</th>\n",
       "      <td>NaN</td>\n",
       "      <td>31052.0</td>\n",
       "      <td>경기도 부천시 소사구</td>\n",
       "      <td>NaN</td>\n",
       "      <td>NaN</td>\n",
       "    </tr>\n",
       "    <tr>\n",
       "      <th>2796</th>\n",
       "      <td>NaN</td>\n",
       "      <td>31053.0</td>\n",
       "      <td>경기도 부천시 오정구</td>\n",
       "      <td>NaN</td>\n",
       "      <td>NaN</td>\n",
       "    </tr>\n",
       "    <tr>\n",
       "      <th>2797</th>\n",
       "      <td>NaN</td>\n",
       "      <td>38010.0</td>\n",
       "      <td>경상남도 창원시</td>\n",
       "      <td>NaN</td>\n",
       "      <td>NaN</td>\n",
       "    </tr>\n",
       "    <tr>\n",
       "      <th>2798</th>\n",
       "      <td>NaN</td>\n",
       "      <td>38020.0</td>\n",
       "      <td>경상남도 마산시</td>\n",
       "      <td>NaN</td>\n",
       "      <td>NaN</td>\n",
       "    </tr>\n",
       "    <tr>\n",
       "      <th>2799</th>\n",
       "      <td>NaN</td>\n",
       "      <td>38040.0</td>\n",
       "      <td>경상남도 진해시</td>\n",
       "      <td>NaN</td>\n",
       "      <td>NaN</td>\n",
       "    </tr>\n",
       "  </tbody>\n",
       "</table>\n",
       "</div>"
      ],
      "text/plain": [
       "      행정동코드  Hcode_soc     Name_soc 법정동=행정동이름  법정동코드\n",
       "2793    NaN    23030.0     인천광역시 남구       NaN    NaN\n",
       "2794    NaN    31051.0  경기도 부천시 원미구       NaN    NaN\n",
       "2795    NaN    31052.0  경기도 부천시 소사구       NaN    NaN\n",
       "2796    NaN    31053.0  경기도 부천시 오정구       NaN    NaN\n",
       "2797    NaN    38010.0     경상남도 창원시       NaN    NaN\n",
       "2798    NaN    38020.0     경상남도 마산시       NaN    NaN\n",
       "2799    NaN    38040.0     경상남도 진해시       NaN    NaN"
      ]
     },
     "execution_count": 20,
     "metadata": {},
     "output_type": "execute_result"
    }
   ],
   "source": [
    "total_df[total_df['행정동코드'].isnull()][['행정동코드','Hcode_soc','Name_soc','법정동=행정동이름','법정동코드']]"
   ]
  },
  {
   "cell_type": "markdown",
   "metadata": {},
   "source": [
    "특정 지역명 수정"
   ]
  },
  {
   "cell_type": "code",
   "execution_count": 21,
   "metadata": {},
   "outputs": [],
   "source": [
    "# 인천광역시 남구 -> 인천광역시 미추홀구로 지역명, 행정동코드 변경\n",
    "# 경상남도 창원시, 마산시, 진해시 -> 경상남도 마산시, 진해시 drop\n",
    "# 경기도 부천시 원미구~오정구 <- 경기도 부천시로 통합됐으니 drop"
   ]
  },
  {
   "cell_type": "code",
   "execution_count": 22,
   "metadata": {},
   "outputs": [],
   "source": [
    "soc['Name_soc'].replace({'인천광역시 남구':'인천광역시 미추홀구'}, inplace=True)\n",
    "soc['Hcode_soc'].replace({23030.0:23090}, inplace=True)\n",
    "soc = soc[soc['Name_soc'].apply(lambda x: x not in ['경상남도 마산시','경상남도 진해시'])]\n",
    "soc = soc[soc['Name_soc'].apply(lambda x: x not in ['경기도 부천시 원미구','경기도 부천시 소사구','경기도 부천시 오정구'])]"
   ]
  },
  {
   "cell_type": "code",
   "execution_count": null,
   "metadata": {},
   "outputs": [],
   "source": [
    "# 충청북도 통합청주시 서원구 <- 흥덕구가 2013년 서원구와 흥덕구로 분할되어 서원구 nan은 흥덕구로 채우기\n",
    "soc[soc['Name_soc'].str.startswith('충청북도 통합청주시')]"
   ]
  },
  {
   "cell_type": "code",
   "execution_count": 24,
   "metadata": {},
   "outputs": [
    {
     "data": {
      "text/html": [
       "<div>\n",
       "<style scoped>\n",
       "    .dataframe tbody tr th:only-of-type {\n",
       "        vertical-align: middle;\n",
       "    }\n",
       "\n",
       "    .dataframe tbody tr th {\n",
       "        vertical-align: top;\n",
       "    }\n",
       "\n",
       "    .dataframe thead th {\n",
       "        text-align: right;\n",
       "    }\n",
       "</style>\n",
       "<table border=\"1\" class=\"dataframe\">\n",
       "  <thead>\n",
       "    <tr style=\"text-align: right;\">\n",
       "      <th></th>\n",
       "      <th>행정동코드</th>\n",
       "      <th>Hcode_soc</th>\n",
       "      <th>Name_soc</th>\n",
       "      <th>법정동=행정동이름</th>\n",
       "      <th>법정동코드</th>\n",
       "    </tr>\n",
       "  </thead>\n",
       "  <tbody>\n",
       "    <tr>\n",
       "      <th>19</th>\n",
       "      <td>31100.0</td>\n",
       "      <td>31100.0</td>\n",
       "      <td>경기도 고양시</td>\n",
       "      <td>경기도 고양시</td>\n",
       "      <td>41280.0</td>\n",
       "    </tr>\n",
       "    <tr>\n",
       "      <th>34</th>\n",
       "      <td>31020.0</td>\n",
       "      <td>31020.0</td>\n",
       "      <td>경기도 성남시</td>\n",
       "      <td>경기도 성남시</td>\n",
       "      <td>41130.0</td>\n",
       "    </tr>\n",
       "    <tr>\n",
       "      <th>38</th>\n",
       "      <td>31010.0</td>\n",
       "      <td>31010.0</td>\n",
       "      <td>경기도 수원시</td>\n",
       "      <td>경기도 수원시</td>\n",
       "      <td>41110.0</td>\n",
       "    </tr>\n",
       "    <tr>\n",
       "      <th>44</th>\n",
       "      <td>31090.0</td>\n",
       "      <td>31090.0</td>\n",
       "      <td>경기도 안산시</td>\n",
       "      <td>경기도 안산시</td>\n",
       "      <td>41270.0</td>\n",
       "    </tr>\n",
       "    <tr>\n",
       "      <th>48</th>\n",
       "      <td>31040.0</td>\n",
       "      <td>31040.0</td>\n",
       "      <td>경기도 안양시</td>\n",
       "      <td>경기도 안양시</td>\n",
       "      <td>41170.0</td>\n",
       "    </tr>\n",
       "    <tr>\n",
       "      <th>56</th>\n",
       "      <td>31190.0</td>\n",
       "      <td>31190.0</td>\n",
       "      <td>경기도 용인시</td>\n",
       "      <td>경기도 용인시</td>\n",
       "      <td>41460.0</td>\n",
       "    </tr>\n",
       "    <tr>\n",
       "      <th>322</th>\n",
       "      <td>38110.0</td>\n",
       "      <td>38110.0</td>\n",
       "      <td>경상남도 통합창원시</td>\n",
       "      <td>경상남도 창원시</td>\n",
       "      <td>48120.0</td>\n",
       "    </tr>\n",
       "    <tr>\n",
       "      <th>597</th>\n",
       "      <td>37010.0</td>\n",
       "      <td>37010.0</td>\n",
       "      <td>경상북도 포항시</td>\n",
       "      <td>경상북도 포항시</td>\n",
       "      <td>47110.0</td>\n",
       "    </tr>\n",
       "    <tr>\n",
       "      <th>708</th>\n",
       "      <td>35010.0</td>\n",
       "      <td>35010.0</td>\n",
       "      <td>전라북도 전주시</td>\n",
       "      <td>전라북도 전주시</td>\n",
       "      <td>45110.0</td>\n",
       "    </tr>\n",
       "    <tr>\n",
       "      <th>2772</th>\n",
       "      <td>34010.0</td>\n",
       "      <td>34010.0</td>\n",
       "      <td>충청남도 천안시</td>\n",
       "      <td>충청남도 천안시</td>\n",
       "      <td>44130.0</td>\n",
       "    </tr>\n",
       "    <tr>\n",
       "      <th>2793</th>\n",
       "      <td>NaN</td>\n",
       "      <td>38010.0</td>\n",
       "      <td>경상남도 창원시</td>\n",
       "      <td>NaN</td>\n",
       "      <td>NaN</td>\n",
       "    </tr>\n",
       "  </tbody>\n",
       "</table>\n",
       "</div>"
      ],
      "text/plain": [
       "        행정동코드  Hcode_soc    Name_soc 법정동=행정동이름    법정동코드\n",
       "19    31100.0    31100.0     경기도 고양시   경기도 고양시  41280.0\n",
       "34    31020.0    31020.0     경기도 성남시   경기도 성남시  41130.0\n",
       "38    31010.0    31010.0     경기도 수원시   경기도 수원시  41110.0\n",
       "44    31090.0    31090.0     경기도 안산시   경기도 안산시  41270.0\n",
       "48    31040.0    31040.0     경기도 안양시   경기도 안양시  41170.0\n",
       "56    31190.0    31190.0     경기도 용인시   경기도 용인시  41460.0\n",
       "322   38110.0    38110.0  경상남도 통합창원시  경상남도 창원시  48120.0\n",
       "597   37010.0    37010.0    경상북도 포항시  경상북도 포항시  47110.0\n",
       "708   35010.0    35010.0    전라북도 전주시  전라북도 전주시  45110.0\n",
       "2772  34010.0    34010.0    충청남도 천안시  충청남도 천안시  44130.0\n",
       "2793      NaN    38010.0    경상남도 창원시       NaN      NaN"
      ]
     },
     "execution_count": 24,
     "metadata": {},
     "output_type": "execute_result"
    }
   ],
   "source": [
    "total_df = exp.merge(soc, left_on='행정동코드', right_on='Hcode_soc', how='outer')\n",
    "total_df.isnull().sum()\n",
    "total_df[total_df['Hcode_VEG'].isnull()][['행정동코드','Hcode_soc','Name_soc','법정동=행정동이름','법정동코드']]"
   ]
  },
  {
   "cell_type": "code",
   "execution_count": 25,
   "metadata": {},
   "outputs": [],
   "source": [
    "total_df.to_excel('Fin_Total_data_merged_from_exp,soc.xlsx', index=False, header=True, encoding='euc-kr')"
   ]
  },
  {
   "cell_type": "code",
   "execution_count": 26,
   "metadata": {},
   "outputs": [],
   "source": [
    "total_df_new =  total_df.drop_duplicates(subset='CHS_No')\n",
    "total_df_new.to_excel('Fin정리_Total_data_merged_from_exp,soc.xlsx', index=False, header=True, encoding='euc-kr')"
   ]
  }
 ],
 "metadata": {
  "interpreter": {
   "hash": "73e1520f6d2713970eba64e5271ee183e7b673be1a19b89b52d73d9ee0278917"
  },
  "kernelspec": {
   "display_name": "Python 3.7.0 ('kaggle')",
   "language": "python",
   "name": "python3"
  },
  "language_info": {
   "codemirror_mode": {
    "name": "ipython",
    "version": 3
   },
   "file_extension": ".py",
   "mimetype": "text/x-python",
   "name": "python",
   "nbconvert_exporter": "python",
   "pygments_lexer": "ipython3",
   "version": "3.7.0"
  },
  "orig_nbformat": 4
 },
 "nbformat": 4,
 "nbformat_minor": 2
}
