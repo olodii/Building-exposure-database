{
 "cells": [
  {
   "cell_type": "code",
   "execution_count": 91,
   "metadata": {},
   "outputs": [],
   "source": [
    "import pandas as pd\n",
    "import numpy as np\n",
    "\n",
    "import warnings\n",
    "warnings.filterwarnings('ignore')\n",
    "\n",
    "pd.set_option('display.max_rows', 30)"
   ]
  },
  {
   "cell_type": "markdown",
   "metadata": {},
   "source": [
    "### **data import**"
   ]
  },
  {
   "cell_type": "code",
   "execution_count": null,
   "metadata": {},
   "outputs": [],
   "source": [
    "import os\n",
    "\n",
    "os.listdir()"
   ]
  },
  {
   "cell_type": "code",
   "execution_count": 93,
   "metadata": {},
   "outputs": [
    {
     "name": "stdout",
     "output_type": "stream",
     "text": [
      "<class 'pandas.core.frame.DataFrame'>\n",
      "RangeIndex: 254 entries, 0 to 253\n",
      "Columns: 198 entries, Hcode_VEG to 법정동코드\n",
      "dtypes: float64(193), int64(3), object(2)\n",
      "memory usage: 393.0+ KB\n"
     ]
    }
   ],
   "source": [
    "veg =  pd.read_excel('Fin_EVI,NDVI_시군구별(1-12월).xlsx')\n",
    "veg.info()"
   ]
  },
  {
   "cell_type": "markdown",
   "metadata": {},
   "source": [
    "### **merge with Air pollutants**"
   ]
  },
  {
   "cell_type": "markdown",
   "metadata": {},
   "source": [
    "**PM2.5**"
   ]
  },
  {
   "cell_type": "code",
   "execution_count": 94,
   "metadata": {},
   "outputs": [
    {
     "data": {
      "text/html": [
       "<div>\n",
       "<style scoped>\n",
       "    .dataframe tbody tr th:only-of-type {\n",
       "        vertical-align: middle;\n",
       "    }\n",
       "\n",
       "    .dataframe tbody tr th {\n",
       "        vertical-align: top;\n",
       "    }\n",
       "\n",
       "    .dataframe thead th {\n",
       "        text-align: right;\n",
       "    }\n",
       "</style>\n",
       "<table border=\"1\" class=\"dataframe\">\n",
       "  <thead>\n",
       "    <tr style=\"text-align: right;\">\n",
       "      <th></th>\n",
       "      <th>year</th>\n",
       "      <th>month</th>\n",
       "      <th>sigungu_code_b</th>\n",
       "      <th>sido</th>\n",
       "      <th>sigungu</th>\n",
       "      <th>pm25_xgb</th>\n",
       "    </tr>\n",
       "  </thead>\n",
       "  <tbody>\n",
       "    <tr>\n",
       "      <th>0</th>\n",
       "      <td>2015</td>\n",
       "      <td>1</td>\n",
       "      <td>11110</td>\n",
       "      <td>서울</td>\n",
       "      <td>종로구</td>\n",
       "      <td>26.459351</td>\n",
       "    </tr>\n",
       "    <tr>\n",
       "      <th>1</th>\n",
       "      <td>2015</td>\n",
       "      <td>1</td>\n",
       "      <td>11140</td>\n",
       "      <td>서울</td>\n",
       "      <td>중구</td>\n",
       "      <td>24.058521</td>\n",
       "    </tr>\n",
       "    <tr>\n",
       "      <th>2</th>\n",
       "      <td>2015</td>\n",
       "      <td>1</td>\n",
       "      <td>11170</td>\n",
       "      <td>서울</td>\n",
       "      <td>용산구</td>\n",
       "      <td>26.320779</td>\n",
       "    </tr>\n",
       "    <tr>\n",
       "      <th>3</th>\n",
       "      <td>2015</td>\n",
       "      <td>1</td>\n",
       "      <td>11200</td>\n",
       "      <td>서울</td>\n",
       "      <td>성동구</td>\n",
       "      <td>23.684910</td>\n",
       "    </tr>\n",
       "    <tr>\n",
       "      <th>4</th>\n",
       "      <td>2015</td>\n",
       "      <td>1</td>\n",
       "      <td>11215</td>\n",
       "      <td>서울</td>\n",
       "      <td>광진구</td>\n",
       "      <td>28.000963</td>\n",
       "    </tr>\n",
       "  </tbody>\n",
       "</table>\n",
       "</div>"
      ],
      "text/plain": [
       "   year  month  sigungu_code_b sido sigungu   pm25_xgb\n",
       "0  2015      1           11110   서울     종로구  26.459351\n",
       "1  2015      1           11140   서울      중구  24.058521\n",
       "2  2015      1           11170   서울     용산구  26.320779\n",
       "3  2015      1           11200   서울     성동구  23.684910\n",
       "4  2015      1           11215   서울     광진구  28.000963"
      ]
     },
     "execution_count": 94,
     "metadata": {},
     "output_type": "execute_result"
    }
   ],
   "source": [
    "ap = pd.read_csv('PM2.5_xgb_15_20_sggb.csv', encoding='euc-kr')\n",
    "ap.head(5)"
   ]
  },
  {
   "cell_type": "code",
   "execution_count": 95,
   "metadata": {},
   "outputs": [
    {
     "data": {
      "text/html": [
       "<div>\n",
       "<style scoped>\n",
       "    .dataframe tbody tr th:only-of-type {\n",
       "        vertical-align: middle;\n",
       "    }\n",
       "\n",
       "    .dataframe tbody tr th {\n",
       "        vertical-align: top;\n",
       "    }\n",
       "\n",
       "    .dataframe thead th {\n",
       "        text-align: right;\n",
       "    }\n",
       "</style>\n",
       "<table border=\"1\" class=\"dataframe\">\n",
       "  <thead>\n",
       "    <tr style=\"text-align: right;\">\n",
       "      <th></th>\n",
       "      <th>법정동=행정동이름</th>\n",
       "      <th>법정동코드</th>\n",
       "      <th>행정동코드</th>\n",
       "    </tr>\n",
       "  </thead>\n",
       "  <tbody>\n",
       "    <tr>\n",
       "      <th>4</th>\n",
       "      <td>서울특별시 광진구</td>\n",
       "      <td>11215</td>\n",
       "      <td>11050</td>\n",
       "    </tr>\n",
       "  </tbody>\n",
       "</table>\n",
       "</div>"
      ],
      "text/plain": [
       "   법정동=행정동이름  법정동코드  행정동코드\n",
       "4  서울특별시 광진구  11215  11050"
      ]
     },
     "execution_count": 95,
     "metadata": {},
     "output_type": "execute_result"
    }
   ],
   "source": [
    "veg.loc[veg['법정동=행정동이름'].str.startswith('서울특별시 광진구')][['법정동=행정동이름','법정동코드','행정동코드']].head(1)\n",
    "# >> PM2.5는 법정동코드 기반으로 정리되어 있음 확인 가능."
   ]
  },
  {
   "cell_type": "code",
   "execution_count": 96,
   "metadata": {},
   "outputs": [
    {
     "data": {
      "text/plain": [
       "array([2015, 2016, 2017, 2018, 2019, 2020], dtype=int64)"
      ]
     },
     "execution_count": 96,
     "metadata": {},
     "output_type": "execute_result"
    }
   ],
   "source": [
    "ap.year.unique()"
   ]
  },
  {
   "cell_type": "markdown",
   "metadata": {},
   "source": [
    "데이터 형태 동일하게 수정"
   ]
  },
  {
   "cell_type": "code",
   "execution_count": 97,
   "metadata": {},
   "outputs": [],
   "source": [
    "pm25 = pd.DataFrame()\n",
    "\n",
    "for y in range(2015, 2021):\n",
    "    pm25_list = pd.DataFrame()\n",
    "    \n",
    "    for m in range(1, 13):\n",
    "        idx = [i for i in ap.index if ap.loc[i, 'year'] == y and ap.loc[i, 'month'] == m]\n",
    "        pm = pd.DataFrame({'sigungu_code_b':ap.loc[idx]['sigungu_code_b'].reset_index(drop=True),\n",
    "                           f'{y}_month{m}_pm25':ap.loc[idx]['pm25_xgb'].reset_index(drop=True)}).sort_values(by='sigungu_code_b').drop(columns=['sigungu_code_b'])\n",
    "        pm25_list =  pd.concat([pm25_list, pm], axis=1)\n",
    "      \n",
    "    pm25 = pd.concat([pm25,pm25_list], axis=1)"
   ]
  },
  {
   "cell_type": "code",
   "execution_count": 98,
   "metadata": {},
   "outputs": [
    {
     "data": {
      "text/html": [
       "<div>\n",
       "<style scoped>\n",
       "    .dataframe tbody tr th:only-of-type {\n",
       "        vertical-align: middle;\n",
       "    }\n",
       "\n",
       "    .dataframe tbody tr th {\n",
       "        vertical-align: top;\n",
       "    }\n",
       "\n",
       "    .dataframe thead th {\n",
       "        text-align: right;\n",
       "    }\n",
       "</style>\n",
       "<table border=\"1\" class=\"dataframe\">\n",
       "  <thead>\n",
       "    <tr style=\"text-align: right;\">\n",
       "      <th></th>\n",
       "      <th>sido</th>\n",
       "      <th>sigungu</th>\n",
       "      <th>name_PM25</th>\n",
       "    </tr>\n",
       "  </thead>\n",
       "  <tbody>\n",
       "    <tr>\n",
       "      <th>0</th>\n",
       "      <td>서울</td>\n",
       "      <td>종로구</td>\n",
       "      <td>서울 종로구</td>\n",
       "    </tr>\n",
       "    <tr>\n",
       "      <th>1</th>\n",
       "      <td>서울</td>\n",
       "      <td>중구</td>\n",
       "      <td>서울 중구</td>\n",
       "    </tr>\n",
       "    <tr>\n",
       "      <th>2</th>\n",
       "      <td>서울</td>\n",
       "      <td>용산구</td>\n",
       "      <td>서울 용산구</td>\n",
       "    </tr>\n",
       "    <tr>\n",
       "      <th>3</th>\n",
       "      <td>서울</td>\n",
       "      <td>성동구</td>\n",
       "      <td>서울 성동구</td>\n",
       "    </tr>\n",
       "    <tr>\n",
       "      <th>4</th>\n",
       "      <td>서울</td>\n",
       "      <td>광진구</td>\n",
       "      <td>서울 광진구</td>\n",
       "    </tr>\n",
       "  </tbody>\n",
       "</table>\n",
       "</div>"
      ],
      "text/plain": [
       "  sido sigungu name_PM25\n",
       "0   서울     종로구    서울 종로구\n",
       "1   서울      중구     서울 중구\n",
       "2   서울     용산구    서울 용산구\n",
       "3   서울     성동구    서울 성동구\n",
       "4   서울     광진구    서울 광진구"
      ]
     },
     "execution_count": 98,
     "metadata": {},
     "output_type": "execute_result"
    }
   ],
   "source": [
    "pm25[['sigungu_code_b','sido','sigungu']] = ap.drop_duplicates(subset='sigungu_code_b').reset_index(drop=True).sort_values(by='sigungu_code_b')[['sigungu_code_b','sido','sigungu']]\n",
    "\n",
    "pm25['name_PM25'] = pm25['sido'].str.strip() + ' ' + pm25['sigungu'].str.strip()\n",
    "pm25[['sido','sigungu','name_PM25']].head(5)"
   ]
  },
  {
   "cell_type": "code",
   "execution_count": 99,
   "metadata": {},
   "outputs": [],
   "source": [
    "clist = ['sido','sigungu', 'name_PM25', 'sigungu_code_b'] + [c for c in pm25.columns if 'month' in c]\n",
    "\n",
    "pm25 = pm25[clist].rename(columns={'sigungu_code_b':'Bcode_pm25'})"
   ]
  },
  {
   "cell_type": "markdown",
   "metadata": {},
   "source": [
    "경기도 부천, 청주시(&서원구), 창원시 >> 시군구 단위 없고 위 레벨만 존재 확인"
   ]
  },
  {
   "cell_type": "code",
   "execution_count": null,
   "metadata": {},
   "outputs": [],
   "source": [
    "pm25.loc[pm25['name_PM25'].str.startswith('충북')]"
   ]
  },
  {
   "cell_type": "code",
   "execution_count": 101,
   "metadata": {},
   "outputs": [],
   "source": [
    "pm25.to_excel('pm25_reshape.xlsx', index=False, header=True, encoding='euc-kr')\n"
   ]
  },
  {
   "cell_type": "markdown",
   "metadata": {},
   "source": [
    "**data from monitoring sites**"
   ]
  },
  {
   "cell_type": "code",
   "execution_count": null,
   "metadata": {},
   "outputs": [],
   "source": [
    "mn = pd.read_csv('Airpollutants_annual mean.csv', encoding='euc-kr')\n",
    "mn.head(5)"
   ]
  },
  {
   "cell_type": "code",
   "execution_count": 103,
   "metadata": {},
   "outputs": [
    {
     "data": {
      "text/html": [
       "<div>\n",
       "<style scoped>\n",
       "    .dataframe tbody tr th:only-of-type {\n",
       "        vertical-align: middle;\n",
       "    }\n",
       "\n",
       "    .dataframe tbody tr th {\n",
       "        vertical-align: top;\n",
       "    }\n",
       "\n",
       "    .dataframe thead th {\n",
       "        text-align: right;\n",
       "    }\n",
       "</style>\n",
       "<table border=\"1\" class=\"dataframe\">\n",
       "  <thead>\n",
       "    <tr style=\"text-align: right;\">\n",
       "      <th></th>\n",
       "      <th>0</th>\n",
       "    </tr>\n",
       "  </thead>\n",
       "  <tbody>\n",
       "    <tr>\n",
       "      <th>0</th>\n",
       "      <td>sido</td>\n",
       "    </tr>\n",
       "    <tr>\n",
       "      <th>1</th>\n",
       "      <td>sigungu</td>\n",
       "    </tr>\n",
       "    <tr>\n",
       "      <th>2</th>\n",
       "      <td>region</td>\n",
       "    </tr>\n",
       "    <tr>\n",
       "      <th>3</th>\n",
       "      <td>sido_code</td>\n",
       "    </tr>\n",
       "    <tr>\n",
       "      <th>4</th>\n",
       "      <td>sigungu_code_b</td>\n",
       "    </tr>\n",
       "    <tr>\n",
       "      <th>...</th>\n",
       "      <td>...</td>\n",
       "    </tr>\n",
       "    <tr>\n",
       "      <th>130</th>\n",
       "      <td>PM2_5_2016</td>\n",
       "    </tr>\n",
       "    <tr>\n",
       "      <th>131</th>\n",
       "      <td>PM2_5_2017</td>\n",
       "    </tr>\n",
       "    <tr>\n",
       "      <th>132</th>\n",
       "      <td>PM2_5_2018</td>\n",
       "    </tr>\n",
       "    <tr>\n",
       "      <th>133</th>\n",
       "      <td>PM2_5_2019</td>\n",
       "    </tr>\n",
       "    <tr>\n",
       "      <th>134</th>\n",
       "      <td>PM2_5_2020</td>\n",
       "    </tr>\n",
       "  </tbody>\n",
       "</table>\n",
       "<p>135 rows × 1 columns</p>\n",
       "</div>"
      ],
      "text/plain": [
       "                  0\n",
       "0              sido\n",
       "1           sigungu\n",
       "2            region\n",
       "3         sido_code\n",
       "4    sigungu_code_b\n",
       "..              ...\n",
       "130      PM2_5_2016\n",
       "131      PM2_5_2017\n",
       "132      PM2_5_2018\n",
       "133      PM2_5_2019\n",
       "134      PM2_5_2020\n",
       "\n",
       "[135 rows x 1 columns]"
      ]
     },
     "execution_count": 103,
     "metadata": {},
     "output_type": "execute_result"
    }
   ],
   "source": [
    "pd.set_option('display.max_rows', 30)\n",
    "pd.DataFrame(mn.columns)"
   ]
  },
  {
   "cell_type": "code",
   "execution_count": 104,
   "metadata": {},
   "outputs": [
    {
     "data": {
      "text/html": [
       "<div>\n",
       "<style scoped>\n",
       "    .dataframe tbody tr th:only-of-type {\n",
       "        vertical-align: middle;\n",
       "    }\n",
       "\n",
       "    .dataframe tbody tr th {\n",
       "        vertical-align: top;\n",
       "    }\n",
       "\n",
       "    .dataframe thead th {\n",
       "        text-align: right;\n",
       "    }\n",
       "</style>\n",
       "<table border=\"1\" class=\"dataframe\">\n",
       "  <thead>\n",
       "    <tr style=\"text-align: right;\">\n",
       "      <th></th>\n",
       "      <th>법정동=행정동이름</th>\n",
       "      <th>행정동코드</th>\n",
       "      <th>법정동코드</th>\n",
       "    </tr>\n",
       "  </thead>\n",
       "  <tbody>\n",
       "    <tr>\n",
       "      <th>20</th>\n",
       "      <td>서울특별시 관악구</td>\n",
       "      <td>11210</td>\n",
       "      <td>11620</td>\n",
       "    </tr>\n",
       "  </tbody>\n",
       "</table>\n",
       "</div>"
      ],
      "text/plain": [
       "    법정동=행정동이름  행정동코드  법정동코드\n",
       "20  서울특별시 관악구  11210  11620"
      ]
     },
     "execution_count": 104,
     "metadata": {},
     "output_type": "execute_result"
    }
   ],
   "source": [
    "veg.loc[veg['법정동=행정동이름'].str.startswith('서울특별시 관악구')][['법정동=행정동이름','행정동코드','법정동코드']].head(1)\n",
    "# >> SO2, NO2, CO, O3, PM10은 법정동코드와 행정동코드 모두 정리되어 있음 확인 가능."
   ]
  },
  {
   "cell_type": "code",
   "execution_count": 105,
   "metadata": {},
   "outputs": [],
   "source": [
    "mn['name_monitoring'] =  mn['sido'].str.strip() + ' ' + mn['sigungu'].str.strip()\n",
    "\n",
    "# PM2.5는 개인노출 있어서 여기서 연도별 pm25 농도는 제거함\n",
    "mn = mn.drop(columns = ['lat','long','chs_num','sido','sigungu','region',\n",
    "                        'PM2_5_2015','PM2_5_2016','PM2_5_2017','PM2_5_2018','PM2_5_2019','PM2_5_2020'])"
   ]
  },
  {
   "cell_type": "markdown",
   "metadata": {},
   "source": [
    "pm25 + monitoring data"
   ]
  },
  {
   "cell_type": "code",
   "execution_count": 106,
   "metadata": {},
   "outputs": [
    {
     "data": {
      "text/plain": [
       "sido                 4\n",
       "sigungu              4\n",
       "name_PM25            4\n",
       "Bcode_pm25           4\n",
       "2015_month1_pm25     4\n",
       "                    ..\n",
       "PM10_2017           68\n",
       "PM10_2018           50\n",
       "PM10_2019            9\n",
       "PM10_2020            1\n",
       "name_monitoring      1\n",
       "Length: 200, dtype: int64"
      ]
     },
     "execution_count": 106,
     "metadata": {},
     "output_type": "execute_result"
    }
   ],
   "source": [
    "mn = mn.rename(columns={'sigungu_code_h':'Hcode_monitoring',\n",
    "                        'sigungu_code_b':'Bcode_monitoring'})\n",
    "total_ap = pm25.merge(mn, left_on='Bcode_pm25', right_on='Bcode_monitoring', how='outer')\n",
    "total_ap.isnull().sum()"
   ]
  },
  {
   "cell_type": "code",
   "execution_count": 107,
   "metadata": {},
   "outputs": [
    {
     "data": {
      "text/html": [
       "<div>\n",
       "<style scoped>\n",
       "    .dataframe tbody tr th:only-of-type {\n",
       "        vertical-align: middle;\n",
       "    }\n",
       "\n",
       "    .dataframe tbody tr th {\n",
       "        vertical-align: top;\n",
       "    }\n",
       "\n",
       "    .dataframe thead th {\n",
       "        text-align: right;\n",
       "    }\n",
       "</style>\n",
       "<table border=\"1\" class=\"dataframe\">\n",
       "  <thead>\n",
       "    <tr style=\"text-align: right;\">\n",
       "      <th></th>\n",
       "      <th>name_monitoring</th>\n",
       "      <th>Bcode_monitoring</th>\n",
       "    </tr>\n",
       "  </thead>\n",
       "  <tbody>\n",
       "    <tr>\n",
       "      <th>226</th>\n",
       "      <td>인천 미추홀구</td>\n",
       "      <td>28177.0</td>\n",
       "    </tr>\n",
       "    <tr>\n",
       "      <th>227</th>\n",
       "      <td>경북 울릉군</td>\n",
       "      <td>47940.0</td>\n",
       "    </tr>\n",
       "    <tr>\n",
       "      <th>228</th>\n",
       "      <td>제주 서귀포시</td>\n",
       "      <td>50130.0</td>\n",
       "    </tr>\n",
       "    <tr>\n",
       "      <th>229</th>\n",
       "      <td>제주 제주시</td>\n",
       "      <td>50110.0</td>\n",
       "    </tr>\n",
       "  </tbody>\n",
       "</table>\n",
       "</div>"
      ],
      "text/plain": [
       "    name_monitoring  Bcode_monitoring\n",
       "226         인천 미추홀구           28177.0\n",
       "227          경북 울릉군           47940.0\n",
       "228         제주 서귀포시           50130.0\n",
       "229          제주 제주시           50110.0"
      ]
     },
     "execution_count": 107,
     "metadata": {},
     "output_type": "execute_result"
    }
   ],
   "source": [
    "total_ap.loc[total_ap['name_PM25'].isnull()][['name_monitoring','Bcode_monitoring']]"
   ]
  },
  {
   "cell_type": "code",
   "execution_count": 108,
   "metadata": {},
   "outputs": [
    {
     "data": {
      "text/html": [
       "<div>\n",
       "<style scoped>\n",
       "    .dataframe tbody tr th:only-of-type {\n",
       "        vertical-align: middle;\n",
       "    }\n",
       "\n",
       "    .dataframe tbody tr th {\n",
       "        vertical-align: top;\n",
       "    }\n",
       "\n",
       "    .dataframe thead th {\n",
       "        text-align: right;\n",
       "    }\n",
       "</style>\n",
       "<table border=\"1\" class=\"dataframe\">\n",
       "  <thead>\n",
       "    <tr style=\"text-align: right;\">\n",
       "      <th></th>\n",
       "      <th>name_PM25</th>\n",
       "      <th>Bcode_pm25</th>\n",
       "    </tr>\n",
       "  </thead>\n",
       "  <tbody>\n",
       "    <tr>\n",
       "      <th>51</th>\n",
       "      <td>인천 남구</td>\n",
       "      <td>28170.0</td>\n",
       "    </tr>\n",
       "  </tbody>\n",
       "</table>\n",
       "</div>"
      ],
      "text/plain": [
       "   name_PM25  Bcode_pm25\n",
       "51     인천 남구     28170.0"
      ]
     },
     "execution_count": 108,
     "metadata": {},
     "output_type": "execute_result"
    }
   ],
   "source": [
    "total_ap.loc[total_ap['name_monitoring'].isnull()][['name_PM25','Bcode_pm25']]"
   ]
  },
  {
   "cell_type": "markdown",
   "metadata": {},
   "source": [
    "**특정 지역명 수정필요**"
   ]
  },
  {
   "cell_type": "code",
   "execution_count": 109,
   "metadata": {},
   "outputs": [
    {
     "data": {
      "text/plain": [
       "sido                 3\n",
       "sigungu              3\n",
       "name_PM25            3\n",
       "Bcode_pm25           3\n",
       "2015_month1_pm25     3\n",
       "                    ..\n",
       "PM10_2017           67\n",
       "PM10_2018           49\n",
       "PM10_2019            8\n",
       "PM10_2020            0\n",
       "name_monitoring      0\n",
       "Length: 200, dtype: int64"
      ]
     },
     "execution_count": 109,
     "metadata": {},
     "output_type": "execute_result"
    }
   ],
   "source": [
    "# 인천광역시 남구 -> 인천광역시 미추홀구\n",
    "# 경북 울릉군, 제주 서귀포시, 제주 제주시 -> PM2.5 자료에는 존재하지 않아서 NaN으로 놔둠\n",
    "\n",
    "pm25['name_PM25'] = pm25['name_PM25'].replace({'인천 남구':'인천광역시 미추홀구'})\n",
    "pm25['Bcode_pm25'] = pm25['Bcode_pm25'].replace({28170.0:28177.0})\n",
    "\n",
    "total_ap = pm25.merge(mn, left_on='Bcode_pm25', right_on='Bcode_monitoring', how='outer')\n",
    "total_ap.isnull().sum()"
   ]
  },
  {
   "cell_type": "code",
   "execution_count": 110,
   "metadata": {},
   "outputs": [],
   "source": [
    "total_ap.to_excel('Fin_total_air_pollution.xlsx', index=False, header=True, encoding='euc-kr')"
   ]
  },
  {
   "cell_type": "markdown",
   "metadata": {},
   "source": [
    "### **Vegetation + Air pollution**"
   ]
  },
  {
   "cell_type": "code",
   "execution_count": 111,
   "metadata": {},
   "outputs": [],
   "source": [
    "import pandas as pd\n",
    "import numpy as np\n",
    "\n",
    "pd.set_option('display.max_rows', 30)"
   ]
  },
  {
   "cell_type": "code",
   "execution_count": 112,
   "metadata": {},
   "outputs": [],
   "source": [
    "veg =  pd.read_excel('Fin_EVI,NDVI_시군구별(1-12월).xlsx')\n",
    "tap =  pd.read_excel('Fin_total_air_pollution.xlsx')"
   ]
  },
  {
   "cell_type": "code",
   "execution_count": 113,
   "metadata": {},
   "outputs": [
    {
     "data": {
      "text/plain": [
       "Index(['Hcode_VEG', '2015_month1_EVI', '2015_month2_EVI', '2015_month3_EVI',\n",
       "       '2015_month4_EVI', '2015_month5_EVI', '2015_month6_EVI',\n",
       "       '2015_month7_EVI', '2015_month8_EVI', '2015_month9_EVI',\n",
       "       ...\n",
       "       '2022_month7_NDVI', '2022_month8_NDVI', '2022_month9_NDVI',\n",
       "       '2022_month10_NDVI', '2022_month11_NDVI', '2022_month12_NDVI',\n",
       "       'newNAME_VEG', '행정동코드', '법정동=행정동이름', '법정동코드'],\n",
       "      dtype='object', length=198)"
      ]
     },
     "execution_count": 113,
     "metadata": {},
     "output_type": "execute_result"
    }
   ],
   "source": [
    "veg.columns"
   ]
  },
  {
   "cell_type": "code",
   "execution_count": 114,
   "metadata": {},
   "outputs": [
    {
     "data": {
      "text/plain": [
       "Index(['sido', 'sigungu', 'name_PM25', 'Bcode_pm25', '2015_month1_pm25',\n",
       "       '2015_month2_pm25', '2015_month3_pm25', '2015_month4_pm25',\n",
       "       '2015_month5_pm25', '2015_month6_pm25',\n",
       "       ...\n",
       "       'PM10_2012', 'PM10_2013', 'PM10_2014', 'PM10_2015', 'PM10_2016',\n",
       "       'PM10_2017', 'PM10_2018', 'PM10_2019', 'PM10_2020', 'name_monitoring'],\n",
       "      dtype='object', length=200)"
      ]
     },
     "execution_count": 114,
     "metadata": {},
     "output_type": "execute_result"
    }
   ],
   "source": [
    "tap.columns"
   ]
  },
  {
   "cell_type": "code",
   "execution_count": 115,
   "metadata": {},
   "outputs": [
    {
     "data": {
      "text/plain": [
       "Hcode_VEG           12\n",
       "2015_month1_EVI     16\n",
       "2015_month2_EVI     15\n",
       "2015_month3_EVI     19\n",
       "2015_month4_EVI     15\n",
       "                  ... \n",
       "PM10_2017          101\n",
       "PM10_2018           83\n",
       "PM10_2019           42\n",
       "PM10_2020           34\n",
       "name_monitoring     34\n",
       "Length: 398, dtype: int64"
      ]
     },
     "execution_count": 115,
     "metadata": {},
     "output_type": "execute_result"
    }
   ],
   "source": [
    "exposure =  veg.merge(tap, left_on='행정동코드',right_on='Hcode_monitoring', how='outer')\n",
    "exposure.isnull().sum()"
   ]
  },
  {
   "cell_type": "code",
   "execution_count": 116,
   "metadata": {},
   "outputs": [
    {
     "data": {
      "text/html": [
       "<div>\n",
       "<style scoped>\n",
       "    .dataframe tbody tr th:only-of-type {\n",
       "        vertical-align: middle;\n",
       "    }\n",
       "\n",
       "    .dataframe tbody tr th {\n",
       "        vertical-align: top;\n",
       "    }\n",
       "\n",
       "    .dataframe thead th {\n",
       "        text-align: right;\n",
       "    }\n",
       "</style>\n",
       "<table border=\"1\" class=\"dataframe\">\n",
       "  <thead>\n",
       "    <tr style=\"text-align: right;\">\n",
       "      <th></th>\n",
       "      <th>행정동코드</th>\n",
       "      <th>Hcode_monitoring</th>\n",
       "      <th>name_monitoring</th>\n",
       "    </tr>\n",
       "  </thead>\n",
       "  <tbody>\n",
       "    <tr>\n",
       "      <th>254</th>\n",
       "      <td>NaN</td>\n",
       "      <td>23030.0</td>\n",
       "      <td>인천 미추홀구</td>\n",
       "    </tr>\n",
       "    <tr>\n",
       "      <th>255</th>\n",
       "      <td>NaN</td>\n",
       "      <td>31010.0</td>\n",
       "      <td>경기 수원시</td>\n",
       "    </tr>\n",
       "    <tr>\n",
       "      <th>256</th>\n",
       "      <td>NaN</td>\n",
       "      <td>31020.0</td>\n",
       "      <td>경기 성남시</td>\n",
       "    </tr>\n",
       "    <tr>\n",
       "      <th>257</th>\n",
       "      <td>NaN</td>\n",
       "      <td>31040.0</td>\n",
       "      <td>경기 안양시</td>\n",
       "    </tr>\n",
       "    <tr>\n",
       "      <th>258</th>\n",
       "      <td>NaN</td>\n",
       "      <td>31090.0</td>\n",
       "      <td>경기 안산시</td>\n",
       "    </tr>\n",
       "    <tr>\n",
       "      <th>259</th>\n",
       "      <td>NaN</td>\n",
       "      <td>31100.0</td>\n",
       "      <td>경기 고양시</td>\n",
       "    </tr>\n",
       "    <tr>\n",
       "      <th>260</th>\n",
       "      <td>NaN</td>\n",
       "      <td>31190.0</td>\n",
       "      <td>경기 용인시</td>\n",
       "    </tr>\n",
       "    <tr>\n",
       "      <th>261</th>\n",
       "      <td>NaN</td>\n",
       "      <td>31320.0</td>\n",
       "      <td>경기 여주시</td>\n",
       "    </tr>\n",
       "    <tr>\n",
       "      <th>262</th>\n",
       "      <td>NaN</td>\n",
       "      <td>34010.0</td>\n",
       "      <td>충남 천안시</td>\n",
       "    </tr>\n",
       "    <tr>\n",
       "      <th>263</th>\n",
       "      <td>NaN</td>\n",
       "      <td>35010.0</td>\n",
       "      <td>전북 전주시</td>\n",
       "    </tr>\n",
       "    <tr>\n",
       "      <th>264</th>\n",
       "      <td>NaN</td>\n",
       "      <td>37010.0</td>\n",
       "      <td>경북 포항시</td>\n",
       "    </tr>\n",
       "    <tr>\n",
       "      <th>265</th>\n",
       "      <td>NaN</td>\n",
       "      <td>38110.0</td>\n",
       "      <td>경남 통합창원시</td>\n",
       "    </tr>\n",
       "  </tbody>\n",
       "</table>\n",
       "</div>"
      ],
      "text/plain": [
       "     행정동코드  Hcode_monitoring name_monitoring\n",
       "254    NaN           23030.0         인천 미추홀구\n",
       "255    NaN           31010.0          경기 수원시\n",
       "256    NaN           31020.0          경기 성남시\n",
       "257    NaN           31040.0          경기 안양시\n",
       "258    NaN           31090.0          경기 안산시\n",
       "259    NaN           31100.0          경기 고양시\n",
       "260    NaN           31190.0          경기 용인시\n",
       "261    NaN           31320.0          경기 여주시\n",
       "262    NaN           34010.0          충남 천안시\n",
       "263    NaN           35010.0          전북 전주시\n",
       "264    NaN           37010.0          경북 포항시\n",
       "265    NaN           38110.0        경남 통합창원시"
      ]
     },
     "execution_count": 116,
     "metadata": {},
     "output_type": "execute_result"
    }
   ],
   "source": [
    "exposure.loc[exposure.행정동코드.isnull()][['행정동코드','Hcode_monitoring','name_monitoring']]"
   ]
  },
  {
   "cell_type": "code",
   "execution_count": 117,
   "metadata": {},
   "outputs": [
    {
     "data": {
      "text/html": [
       "<div>\n",
       "<style scoped>\n",
       "    .dataframe tbody tr th:only-of-type {\n",
       "        vertical-align: middle;\n",
       "    }\n",
       "\n",
       "    .dataframe tbody tr th {\n",
       "        vertical-align: top;\n",
       "    }\n",
       "\n",
       "    .dataframe thead th {\n",
       "        text-align: right;\n",
       "    }\n",
       "</style>\n",
       "<table border=\"1\" class=\"dataframe\">\n",
       "  <thead>\n",
       "    <tr style=\"text-align: right;\">\n",
       "      <th></th>\n",
       "      <th>Bcode_monitoring</th>\n",
       "      <th>Hcode_monitoring</th>\n",
       "      <th>name_monitoring</th>\n",
       "    </tr>\n",
       "  </thead>\n",
       "  <tbody>\n",
       "    <tr>\n",
       "      <th>208</th>\n",
       "      <td>48120</td>\n",
       "      <td>38110</td>\n",
       "      <td>경남 통합창원시</td>\n",
       "    </tr>\n",
       "  </tbody>\n",
       "</table>\n",
       "</div>"
      ],
      "text/plain": [
       "     Bcode_monitoring  Hcode_monitoring name_monitoring\n",
       "208             48120             38110        경남 통합창원시"
      ]
     },
     "execution_count": 117,
     "metadata": {},
     "output_type": "execute_result"
    }
   ],
   "source": [
    "tap[tap['name_monitoring'].str.startswith('경남 통합창원시')][['Bcode_monitoring','Hcode_monitoring','name_monitoring']]"
   ]
  },
  {
   "cell_type": "code",
   "execution_count": 118,
   "metadata": {},
   "outputs": [
    {
     "data": {
      "text/html": [
       "<div>\n",
       "<style scoped>\n",
       "    .dataframe tbody tr th:only-of-type {\n",
       "        vertical-align: middle;\n",
       "    }\n",
       "\n",
       "    .dataframe tbody tr th {\n",
       "        vertical-align: top;\n",
       "    }\n",
       "\n",
       "    .dataframe thead th {\n",
       "        text-align: right;\n",
       "    }\n",
       "</style>\n",
       "<table border=\"1\" class=\"dataframe\">\n",
       "  <thead>\n",
       "    <tr style=\"text-align: right;\">\n",
       "      <th></th>\n",
       "      <th>행정동코드</th>\n",
       "      <th>법정동코드</th>\n",
       "      <th>법정동=행정동이름</th>\n",
       "    </tr>\n",
       "  </thead>\n",
       "  <tbody>\n",
       "    <tr>\n",
       "      <th>78</th>\n",
       "      <td>31021</td>\n",
       "      <td>41131</td>\n",
       "      <td>경기도 성남시 수정구</td>\n",
       "    </tr>\n",
       "    <tr>\n",
       "      <th>79</th>\n",
       "      <td>31022</td>\n",
       "      <td>41133</td>\n",
       "      <td>경기도 성남시 중원구</td>\n",
       "    </tr>\n",
       "    <tr>\n",
       "      <th>80</th>\n",
       "      <td>31023</td>\n",
       "      <td>41135</td>\n",
       "      <td>경기도 성남시 분당구</td>\n",
       "    </tr>\n",
       "  </tbody>\n",
       "</table>\n",
       "</div>"
      ],
      "text/plain": [
       "    행정동코드  법정동코드    법정동=행정동이름\n",
       "78  31021  41131  경기도 성남시 수정구\n",
       "79  31022  41133  경기도 성남시 중원구\n",
       "80  31023  41135  경기도 성남시 분당구"
      ]
     },
     "execution_count": 118,
     "metadata": {},
     "output_type": "execute_result"
    }
   ],
   "source": [
    "veg[veg['법정동=행정동이름'].str.startswith('경기도 성남시')][['행정동코드','법정동코드','법정동=행정동이름']]"
   ]
  },
  {
   "cell_type": "markdown",
   "metadata": {},
   "source": [
    "경기도 수원시 생성"
   ]
  },
  {
   "cell_type": "code",
   "execution_count": null,
   "metadata": {},
   "outputs": [],
   "source": [
    "suwon = veg.loc[veg['법정동=행정동이름'].str.startswith('경기도 수원시')].drop(columns=['행정동코드','법정동코드','Hcode_VEG','SIGUNGU_CD_NDVI','newNAME_VEG','법정동=행정동이름'])\n",
    "suwon_veg = pd.DataFrame(suwon.values.mean(axis=0)).transpose()\n",
    "suwon_clist = suwon_veg.columns.to_list()\n",
    "\n",
    "add_list = ['행정동코드', '법정동코드','법정동=행정동이름'] # same order as in veg\n",
    "\n",
    "suwon_veg['행정동코드'] = 31010\n",
    "suwon_veg['법정동코드'] = 41110\n",
    "suwon_veg['법정동=행정동이름'] = '경기도 수원시' \n",
    "\n",
    "suwon_veg = suwon_veg[add_list+suwon_clist]\n",
    "\n",
    "veg = pd.concat([veg, suwon_veg], axis=0).sort_values(by='법정동=행정동이름')\n",
    "\n",
    "veg[veg['법정동=행정동이름'].str.startswith('경기도 수원시')][['행정동코드','법정동코드','법정동=행정동이름','2015_month1_EVI','2015_month1_NDVI']] # 추가완료"
   ]
  },
  {
   "cell_type": "markdown",
   "metadata": {},
   "source": [
    "경기도 성남시"
   ]
  },
  {
   "cell_type": "code",
   "execution_count": null,
   "metadata": {},
   "outputs": [],
   "source": [
    "sungnam = veg.loc[veg['법정동=행정동이름'].str.startswith('경기도 성남시')].drop(columns=['행정동코드','법정동코드','Hcode_VEG','SIGUNGU_CD_NDVI','newNAME_VEG','법정동=행정동이름'])\n",
    "sungnam_veg = pd.DataFrame(sungnam.mean(axis=0)).transpose()\n",
    "sungnam_clist = sungnam_veg.columns.to_list()\n",
    "\n",
    "add_list = ['행정동코드', '법정동코드','법정동=행정동이름'] # same order as in veg\n",
    "\n",
    "sungnam_veg['행정동코드'] = 31020\n",
    "sungnam_veg['법정동코드'] = 41130\n",
    "sungnam_veg['법정동=행정동이름'] = '경기도 성남시' \n",
    "\n",
    "sungnam_veg = sungnam_veg[add_list+sungnam_clist]\n",
    "\n",
    "veg = pd.concat([veg, sungnam_veg], axis=0).sort_values(by='법정동=행정동이름')\n",
    "\n",
    "veg[veg['법정동=행정동이름'].str.startswith('경기도 성남시')][['행정동코드','법정동코드','법정동=행정동이름','2015_month1_EVI','2015_month1_NDVI']] # 추가완료"
   ]
  },
  {
   "cell_type": "markdown",
   "metadata": {},
   "source": [
    "경기도 안양시"
   ]
  },
  {
   "cell_type": "code",
   "execution_count": null,
   "metadata": {},
   "outputs": [],
   "source": [
    "anyang = veg.loc[veg['법정동=행정동이름'].str.startswith('경기도 안양시')].drop(columns=['행정동코드','법정동코드','Hcode_VEG','SIGUNGU_CD_NDVI','newNAME_VEG','법정동=행정동이름'])\n",
    "anyang_veg = pd.DataFrame(anyang.mean(axis=0)).transpose()\n",
    "clist = anyang_veg.columns.to_list()\n",
    "\n",
    "add_list = ['행정동코드', '법정동코드','법정동=행정동이름'] # same order as in veg\n",
    "\n",
    "anyang_veg['행정동코드'] = 31040\n",
    "anyang_veg['법정동코드'] = 41170\n",
    "anyang_veg['법정동=행정동이름'] = '경기도 안양시' \n",
    "\n",
    "anyang_veg = anyang_veg[add_list+clist]\n",
    "\n",
    "veg = pd.concat([veg, anyang_veg], axis=0).sort_values(by='법정동=행정동이름')\n",
    "\n",
    "veg[veg['법정동=행정동이름'].str.startswith('경기도 안양시')][['행정동코드','법정동코드','법정동=행정동이름','2015_month1_EVI','2015_month1_NDVI']] # 추가완료"
   ]
  },
  {
   "cell_type": "markdown",
   "metadata": {},
   "source": [
    "경기도 안산시"
   ]
  },
  {
   "cell_type": "code",
   "execution_count": null,
   "metadata": {},
   "outputs": [],
   "source": [
    "new = veg.loc[veg['법정동=행정동이름'].str.startswith('경기도 안산시')].drop(columns=['행정동코드','법정동코드','Hcode_VEG','SIGUNGU_CD_NDVI','newNAME_VEG','법정동=행정동이름'])\n",
    "add_veg = pd.DataFrame(new.mean(axis=0)).transpose()\n",
    "clist = add_veg.columns.to_list()\n",
    "\n",
    "add_list = ['행정동코드', '법정동코드','법정동=행정동이름'] # same order as in veg\n",
    "\n",
    "add_veg['행정동코드'] = 31090\n",
    "add_veg['법정동코드'] = 41270\n",
    "add_veg['법정동=행정동이름'] = '경기도 안산시' \n",
    "\n",
    "add_veg = add_veg[add_list+clist]\n",
    "\n",
    "veg = pd.concat([veg, add_veg], axis=0).sort_values(by='법정동=행정동이름')\n",
    "\n",
    "veg[veg['법정동=행정동이름'].str.startswith('경기도 안산시')][['행정동코드','법정동코드','법정동=행정동이름','2015_month1_EVI','2015_month1_NDVI']] # 추가완료"
   ]
  },
  {
   "cell_type": "markdown",
   "metadata": {},
   "source": [
    "경기도 고양시"
   ]
  },
  {
   "cell_type": "code",
   "execution_count": null,
   "metadata": {},
   "outputs": [],
   "source": [
    "new = veg.loc[veg['법정동=행정동이름'].str.startswith('경기도 고양시')].drop(columns=['행정동코드','법정동코드','Hcode_VEG','SIGUNGU_CD_NDVI','newNAME_VEG','법정동=행정동이름'])\n",
    "add_veg = pd.DataFrame(new.mean(axis=0)).transpose()\n",
    "clist = add_veg.columns.to_list()\n",
    "\n",
    "add_list = ['행정동코드', '법정동코드','법정동=행정동이름'] # same order as in veg\n",
    "\n",
    "add_veg['행정동코드'] = 31100\n",
    "add_veg['법정동코드'] = 41280\n",
    "add_veg['법정동=행정동이름'] = '경기도 고양시' \n",
    "\n",
    "add_veg = add_veg[add_list+clist]\n",
    "\n",
    "veg = pd.concat([veg, add_veg], axis=0).sort_values(by='법정동=행정동이름')\n",
    "\n",
    "veg[veg['법정동=행정동이름'].str.startswith('경기도 고양시')][['행정동코드','법정동코드','법정동=행정동이름','2015_month1_EVI','2015_month1_NDVI']] # 추가완료"
   ]
  },
  {
   "cell_type": "markdown",
   "metadata": {},
   "source": [
    "경기도 용인시"
   ]
  },
  {
   "cell_type": "code",
   "execution_count": null,
   "metadata": {},
   "outputs": [],
   "source": [
    "new = veg.loc[veg['법정동=행정동이름'].str.startswith('경기도 용인시')].drop(columns=['행정동코드','법정동코드','Hcode_VEG','SIGUNGU_CD_NDVI','newNAME_VEG','법정동=행정동이름'])\n",
    "add_veg = pd.DataFrame(new.mean(axis=0)).transpose()\n",
    "clist = add_veg.columns.to_list()\n",
    "\n",
    "add_list = ['행정동코드', '법정동코드','법정동=행정동이름'] # same order as in veg\n",
    "\n",
    "add_veg['행정동코드'] = 31190\n",
    "add_veg['법정동코드'] = 41460\n",
    "add_veg['법정동=행정동이름'] = '경기도 용인시' \n",
    "\n",
    "add_veg = add_veg[add_list+clist]\n",
    "\n",
    "veg = pd.concat([veg, add_veg], axis=0).sort_values(by='법정동=행정동이름')\n",
    "\n",
    "veg[veg['법정동=행정동이름'].str.startswith('경기도 용인시')][['행정동코드','법정동코드','법정동=행정동이름','2015_month1_EVI','2015_month1_NDVI']] # 추가완료"
   ]
  },
  {
   "cell_type": "markdown",
   "metadata": {},
   "source": [
    "충청북도 청주시"
   ]
  },
  {
   "cell_type": "code",
   "execution_count": null,
   "metadata": {},
   "outputs": [],
   "source": [
    "new = veg.loc[veg['법정동=행정동이름'].str.startswith('충청북도 청주시')].drop(columns=['행정동코드','법정동코드','Hcode_VEG','SIGUNGU_CD_NDVI','newNAME_VEG','법정동=행정동이름'])\n",
    "add_veg = pd.DataFrame(new.mean(axis=0)).transpose()\n",
    "clist = add_veg.columns.to_list()\n",
    "\n",
    "add_list = ['행정동코드', '법정동코드','법정동=행정동이름'] # same order as in veg\n",
    "\n",
    "add_veg['행정동코드'] = 33040\n",
    "add_veg['법정동코드'] = 43110\n",
    "add_veg['법정동=행정동이름'] = '충청북도 청주시' \n",
    "\n",
    "add_veg = add_veg[add_list+clist]\n",
    "\n",
    "veg = pd.concat([veg, add_veg], axis=0).sort_values(by='법정동=행정동이름')\n",
    "\n",
    "veg[veg['법정동=행정동이름'].str.startswith('충청북도 청주시')][['행정동코드','법정동코드','법정동=행정동이름','2015_month1_EVI','2015_month1_NDVI']] # 추가완료"
   ]
  },
  {
   "cell_type": "markdown",
   "metadata": {},
   "source": [
    "충청남도 천안시"
   ]
  },
  {
   "cell_type": "code",
   "execution_count": null,
   "metadata": {},
   "outputs": [],
   "source": [
    "new = veg.loc[veg['법정동=행정동이름'].str.startswith('충청남도 천안시')].drop(columns=['행정동코드','법정동코드','Hcode_VEG','SIGUNGU_CD_NDVI','newNAME_VEG','법정동=행정동이름'])\n",
    "add_veg = pd.DataFrame(new.mean(axis=0)).transpose()\n",
    "clist = add_veg.columns.to_list()\n",
    "\n",
    "add_list = ['행정동코드', '법정동코드','법정동=행정동이름'] # same order as in veg\n",
    "\n",
    "add_veg['행정동코드'] = 34010\n",
    "add_veg['법정동코드'] = 44130\n",
    "add_veg['법정동=행정동이름'] = '충청남도 천안시' \n",
    "\n",
    "add_veg = add_veg[add_list+clist]\n",
    "\n",
    "veg = pd.concat([veg, add_veg], axis=0).sort_values(by='법정동=행정동이름')\n",
    "\n",
    "veg[veg['법정동=행정동이름'].str.startswith('충청남도 천안시')][['행정동코드','법정동코드','법정동=행정동이름','2015_month1_EVI','2015_month1_NDVI']] # 추가완료"
   ]
  },
  {
   "cell_type": "markdown",
   "metadata": {},
   "source": [
    "전라북도 전주시"
   ]
  },
  {
   "cell_type": "code",
   "execution_count": null,
   "metadata": {},
   "outputs": [],
   "source": [
    "new = veg.loc[veg['법정동=행정동이름'].str.startswith('전라북도 전주시')].drop(columns=['행정동코드','법정동코드','Hcode_VEG','SIGUNGU_CD_NDVI','newNAME_VEG','법정동=행정동이름'])\n",
    "add_veg = pd.DataFrame(new.mean(axis=0)).transpose()\n",
    "clist = add_veg.columns.to_list()\n",
    "\n",
    "add_list = ['행정동코드', '법정동코드','법정동=행정동이름'] # same order as in veg\n",
    "\n",
    "add_veg['행정동코드'] = 35010\n",
    "add_veg['법정동코드'] = 45110\n",
    "add_veg['법정동=행정동이름'] = '전라북도 전주시' \n",
    "\n",
    "add_veg = add_veg[add_list+clist]\n",
    "\n",
    "veg = pd.concat([veg, add_veg], axis=0).sort_values(by='법정동=행정동이름')\n",
    "\n",
    "veg[veg['법정동=행정동이름'].str.startswith('전라북도 전주시')][['행정동코드','법정동코드','법정동=행정동이름','2015_month1_EVI','2015_month1_NDVI']] # 추가완료"
   ]
  },
  {
   "cell_type": "markdown",
   "metadata": {},
   "source": [
    "경상북도 포항시"
   ]
  },
  {
   "cell_type": "code",
   "execution_count": null,
   "metadata": {},
   "outputs": [],
   "source": [
    "new = veg.loc[veg['법정동=행정동이름'].str.startswith('경상북도 포항시')].drop(columns=['행정동코드','법정동코드','Hcode_VEG','SIGUNGU_CD_NDVI','newNAME_VEG','법정동=행정동이름'])\n",
    "add_veg = pd.DataFrame(new.mean(axis=0)).transpose()\n",
    "clist = add_veg.columns.to_list()\n",
    "\n",
    "add_list = ['행정동코드', '법정동코드','법정동=행정동이름'] # same order as in veg\n",
    "\n",
    "add_veg['행정동코드'] = 37010\n",
    "add_veg['법정동코드'] = 47110\n",
    "add_veg['법정동=행정동이름'] = '경상북도 포항시' \n",
    "\n",
    "add_veg = add_veg[add_list+clist]\n",
    "\n",
    "veg = pd.concat([veg, add_veg], axis=0).sort_values(by='법정동=행정동이름')\n",
    "\n",
    "veg[veg['법정동=행정동이름'].str.startswith('경상북도 포항시')][['행정동코드','법정동코드','법정동=행정동이름','2015_month1_EVI','2015_month1_NDVI']] # 추가완료"
   ]
  },
  {
   "cell_type": "markdown",
   "metadata": {},
   "source": [
    "경상남도 창원시"
   ]
  },
  {
   "cell_type": "code",
   "execution_count": null,
   "metadata": {},
   "outputs": [],
   "source": [
    "new = veg.loc[veg['법정동=행정동이름'].str.startswith('경상남도 창원시')].drop(columns=['행정동코드','법정동코드','Hcode_VEG','SIGUNGU_CD_NDVI','newNAME_VEG','법정동=행정동이름'])\n",
    "add_veg = pd.DataFrame(new.mean(axis=0)).transpose()\n",
    "clist = add_veg.columns.to_list()\n",
    "\n",
    "add_list = ['행정동코드', '법정동코드','법정동=행정동이름'] # same order as in veg\n",
    "\n",
    "add_veg['행정동코드'] = 38110\n",
    "add_veg['법정동코드'] = 48120\n",
    "add_veg['법정동=행정동이름'] = '경상남도 창원시' \n",
    "\n",
    "add_veg = add_veg[add_list+clist]\n",
    "\n",
    "veg = pd.concat([veg, add_veg], axis=0).sort_values(by='법정동=행정동이름')\n",
    "\n",
    "veg[veg['법정동=행정동이름'].str.startswith('경상남도 창원시')][['행정동코드','법정동코드','법정동=행정동이름','2015_month1_EVI','2015_month1_NDVI']] # 추가완료"
   ]
  },
  {
   "cell_type": "markdown",
   "metadata": {},
   "source": [
    "행정코드/이름 변경 반영: 인천 미추홀구, 경기도 여주시 "
   ]
  },
  {
   "cell_type": "code",
   "execution_count": 130,
   "metadata": {},
   "outputs": [],
   "source": [
    "tap['name_monitoring'] = tap['name_monitoring'].replace({'충북 통합청주시':'충북 청주시',\n",
    "                                                         '경남 통합창원시':'경남 창원시'}) # 경기도 여주시 행정동코드 변경(2012년에 31280 으로 변경됨, 최신 구역코드로 지정)38110\n",
    "\n",
    "tap['Hcode_monitoring'] = tap['Hcode_monitoring'].replace({31320:31280}) # 경기도 여주시 행정동코드 변경(2012년에 31280 으로 변경됨, 최신 구역코드로 지정)\n",
    "\n",
    "tap['Hcode_monitoring'] = tap['Hcode_monitoring'].replace({23030:23090}) # 인천 미추홀구 행정동코드 변경(2018년에 23010 으로 변경됨, 최신 구역코드로 지정)\n",
    "veg['행정동코드'] = veg['행정동코드'].replace({23030.0:23090}) # 인천 미추홀구 행정동코드 변경(2018년에 23010 으로 변경됨, 최신 구역코드로 지정)"
   ]
  },
  {
   "cell_type": "markdown",
   "metadata": {},
   "source": [
    "**수정 후 다시 merge 시도**"
   ]
  },
  {
   "cell_type": "code",
   "execution_count": 131,
   "metadata": {},
   "outputs": [
    {
     "data": {
      "text/html": [
       "<div>\n",
       "<style scoped>\n",
       "    .dataframe tbody tr th:only-of-type {\n",
       "        vertical-align: middle;\n",
       "    }\n",
       "\n",
       "    .dataframe tbody tr th {\n",
       "        vertical-align: top;\n",
       "    }\n",
       "\n",
       "    .dataframe thead th {\n",
       "        text-align: right;\n",
       "    }\n",
       "</style>\n",
       "<table border=\"1\" class=\"dataframe\">\n",
       "  <thead>\n",
       "    <tr style=\"text-align: right;\">\n",
       "      <th></th>\n",
       "      <th>Bcode_monitoring</th>\n",
       "      <th>Hcode_monitoring</th>\n",
       "      <th>name_monitoring</th>\n",
       "    </tr>\n",
       "  </thead>\n",
       "  <tbody>\n",
       "    <tr>\n",
       "      <th>51</th>\n",
       "      <td>28177</td>\n",
       "      <td>23090</td>\n",
       "      <td>인천 미추홀구</td>\n",
       "    </tr>\n",
       "  </tbody>\n",
       "</table>\n",
       "</div>"
      ],
      "text/plain": [
       "    Bcode_monitoring  Hcode_monitoring name_monitoring\n",
       "51             28177             23090         인천 미추홀구"
      ]
     },
     "execution_count": 131,
     "metadata": {},
     "output_type": "execute_result"
    }
   ],
   "source": [
    "tap[tap['name_monitoring'].str.startswith('인천 미추홀구')][['Bcode_monitoring','Hcode_monitoring','name_monitoring']]"
   ]
  },
  {
   "cell_type": "code",
   "execution_count": 132,
   "metadata": {},
   "outputs": [
    {
     "data": {
      "text/html": [
       "<div>\n",
       "<style scoped>\n",
       "    .dataframe tbody tr th:only-of-type {\n",
       "        vertical-align: middle;\n",
       "    }\n",
       "\n",
       "    .dataframe tbody tr th {\n",
       "        vertical-align: top;\n",
       "    }\n",
       "\n",
       "    .dataframe thead th {\n",
       "        text-align: right;\n",
       "    }\n",
       "</style>\n",
       "<table border=\"1\" class=\"dataframe\">\n",
       "  <thead>\n",
       "    <tr style=\"text-align: right;\">\n",
       "      <th></th>\n",
       "      <th>행정동코드</th>\n",
       "      <th>법정동코드</th>\n",
       "      <th>법정동=행정동이름</th>\n",
       "    </tr>\n",
       "  </thead>\n",
       "  <tbody>\n",
       "    <tr>\n",
       "      <th>51</th>\n",
       "      <td>23090</td>\n",
       "      <td>28177</td>\n",
       "      <td>인천광역시 미추홀구</td>\n",
       "    </tr>\n",
       "  </tbody>\n",
       "</table>\n",
       "</div>"
      ],
      "text/plain": [
       "    행정동코드  법정동코드   법정동=행정동이름\n",
       "51  23090  28177  인천광역시 미추홀구"
      ]
     },
     "execution_count": 132,
     "metadata": {},
     "output_type": "execute_result"
    }
   ],
   "source": [
    "veg[veg['법정동=행정동이름'].str.startswith('인천광역시 미추홀구')][['행정동코드','법정동코드','법정동=행정동이름']]"
   ]
  },
  {
   "cell_type": "code",
   "execution_count": 133,
   "metadata": {},
   "outputs": [
    {
     "data": {
      "text/plain": [
       "Hcode_VEG          10\n",
       "2015_month1_EVI     5\n",
       "2015_month2_EVI     4\n",
       "2015_month3_EVI     8\n",
       "2015_month4_EVI     4\n",
       "                   ..\n",
       "PM10_2017          99\n",
       "PM10_2018          81\n",
       "PM10_2019          40\n",
       "PM10_2020          32\n",
       "name_monitoring    32\n",
       "Length: 590, dtype: int64"
      ]
     },
     "execution_count": 133,
     "metadata": {},
     "output_type": "execute_result"
    }
   ],
   "source": [
    "exposure_new =  veg.merge(tap, left_on='행정동코드',right_on='Hcode_monitoring', how='outer')\n",
    "exposure_new =  exposure_new.drop_duplicates(subset='행정동코드') # 청주시가 2개 였음\n",
    "\n",
    "pd.set_option('display.max_rows', 10)\n",
    "exposure_new.isnull().sum()"
   ]
  },
  {
   "cell_type": "code",
   "execution_count": null,
   "metadata": {},
   "outputs": [],
   "source": [
    "pd.set_option('display.max_rows', None)\n",
    "exposure_new.loc[exposure_new.name_monitoring.isnull()][['행정동코드','법정동=행정동이름','Hcode_monitoring','name_monitoring','2015_month1_pm25','2015_month8_pm25','PM10_2015','NO2_2015','SO2_2015']]"
   ]
  },
  {
   "cell_type": "markdown",
   "metadata": {},
   "source": [
    "**Air pollution Imputation**\n",
    "\n",
    "경기도 고양시, 경기도 성남시, 경기도 수원시, 경기도 안산시, 경기도 안양시, 경기도 용인시, 경상남도 창원시, 경상남도 포항시, 전라북도 전주시, 충청남도 천안시, 충청북도 청주시"
   ]
  },
  {
   "cell_type": "code",
   "execution_count": 135,
   "metadata": {},
   "outputs": [
    {
     "name": "stdout",
     "output_type": "stream",
     "text": [
      "impuation in 경기도 고양시\n",
      "impuation in 경기도 성남시\n",
      "impuation in 경기도 수원시\n",
      "impuation in 경기도 안산시\n",
      "impuation in 경기도 안양시\n",
      "impuation in 경기도 용인시\n",
      "impuation in 경상남도 창원시\n",
      "impuation in 경상남도 포항시\n",
      "impuation in 전라북도 전주시\n",
      "impuation in 충청남도 천안시\n",
      "impuation in 충청북도 청주시\n"
     ]
    },
    {
     "data": {
      "text/html": [
       "<div>\n",
       "<style scoped>\n",
       "    .dataframe tbody tr th:only-of-type {\n",
       "        vertical-align: middle;\n",
       "    }\n",
       "\n",
       "    .dataframe tbody tr th {\n",
       "        vertical-align: top;\n",
       "    }\n",
       "\n",
       "    .dataframe thead th {\n",
       "        text-align: right;\n",
       "    }\n",
       "</style>\n",
       "<table border=\"1\" class=\"dataframe\">\n",
       "  <thead>\n",
       "    <tr style=\"text-align: right;\">\n",
       "      <th></th>\n",
       "      <th>2015_month1_pm25</th>\n",
       "      <th>2015_month2_pm25</th>\n",
       "      <th>2015_month3_pm25</th>\n",
       "      <th>2015_month4_pm25</th>\n",
       "      <th>2015_month5_pm25</th>\n",
       "      <th>2015_month6_pm25</th>\n",
       "      <th>2015_month7_pm25</th>\n",
       "      <th>2015_month8_pm25</th>\n",
       "      <th>2015_month9_pm25</th>\n",
       "      <th>2015_month10_pm25</th>\n",
       "      <th>...</th>\n",
       "      <th>PM10_2011</th>\n",
       "      <th>PM10_2012</th>\n",
       "      <th>PM10_2013</th>\n",
       "      <th>PM10_2014</th>\n",
       "      <th>PM10_2015</th>\n",
       "      <th>PM10_2016</th>\n",
       "      <th>PM10_2017</th>\n",
       "      <th>PM10_2018</th>\n",
       "      <th>PM10_2019</th>\n",
       "      <th>PM10_2020</th>\n",
       "    </tr>\n",
       "  </thead>\n",
       "  <tbody>\n",
       "    <tr>\n",
       "      <th>225</th>\n",
       "      <td>32.265946</td>\n",
       "      <td>36.354287</td>\n",
       "      <td>35.306902</td>\n",
       "      <td>25.131476</td>\n",
       "      <td>26.313022</td>\n",
       "      <td>28.071941</td>\n",
       "      <td>20.736681</td>\n",
       "      <td>21.384742</td>\n",
       "      <td>16.849905</td>\n",
       "      <td>21.191836</td>\n",
       "      <td>...</td>\n",
       "      <td>49.150596</td>\n",
       "      <td>48.612792</td>\n",
       "      <td>57.4074</td>\n",
       "      <td>53.217886</td>\n",
       "      <td>49.479252</td>\n",
       "      <td>54.24335</td>\n",
       "      <td>51.807865</td>\n",
       "      <td>46.360318</td>\n",
       "      <td>46.315838</td>\n",
       "      <td>34.010916</td>\n",
       "    </tr>\n",
       "    <tr>\n",
       "      <th>226</th>\n",
       "      <td>32.265946</td>\n",
       "      <td>36.354287</td>\n",
       "      <td>35.306902</td>\n",
       "      <td>25.131476</td>\n",
       "      <td>26.313022</td>\n",
       "      <td>28.071941</td>\n",
       "      <td>20.736681</td>\n",
       "      <td>21.384742</td>\n",
       "      <td>16.849905</td>\n",
       "      <td>21.191836</td>\n",
       "      <td>...</td>\n",
       "      <td>49.150596</td>\n",
       "      <td>48.612792</td>\n",
       "      <td>57.4074</td>\n",
       "      <td>53.217886</td>\n",
       "      <td>49.479252</td>\n",
       "      <td>54.24335</td>\n",
       "      <td>51.807865</td>\n",
       "      <td>46.360318</td>\n",
       "      <td>46.315838</td>\n",
       "      <td>34.010916</td>\n",
       "    </tr>\n",
       "    <tr>\n",
       "      <th>227</th>\n",
       "      <td>32.265946</td>\n",
       "      <td>36.354287</td>\n",
       "      <td>35.306902</td>\n",
       "      <td>25.131476</td>\n",
       "      <td>26.313022</td>\n",
       "      <td>28.071941</td>\n",
       "      <td>20.736681</td>\n",
       "      <td>21.384742</td>\n",
       "      <td>16.849905</td>\n",
       "      <td>21.191836</td>\n",
       "      <td>...</td>\n",
       "      <td>49.150596</td>\n",
       "      <td>48.612792</td>\n",
       "      <td>57.4074</td>\n",
       "      <td>53.217886</td>\n",
       "      <td>49.479252</td>\n",
       "      <td>54.24335</td>\n",
       "      <td>51.807865</td>\n",
       "      <td>46.360318</td>\n",
       "      <td>46.315838</td>\n",
       "      <td>34.010916</td>\n",
       "    </tr>\n",
       "  </tbody>\n",
       "</table>\n",
       "<p>3 rows × 195 columns</p>\n",
       "</div>"
      ],
      "text/plain": [
       "     2015_month1_pm25  2015_month2_pm25  2015_month3_pm25  2015_month4_pm25  \\\n",
       "225         32.265946         36.354287         35.306902         25.131476   \n",
       "226         32.265946         36.354287         35.306902         25.131476   \n",
       "227         32.265946         36.354287         35.306902         25.131476   \n",
       "\n",
       "     2015_month5_pm25  2015_month6_pm25  2015_month7_pm25  2015_month8_pm25  \\\n",
       "225         26.313022         28.071941         20.736681         21.384742   \n",
       "226         26.313022         28.071941         20.736681         21.384742   \n",
       "227         26.313022         28.071941         20.736681         21.384742   \n",
       "\n",
       "     2015_month9_pm25  2015_month10_pm25  ...  PM10_2011  PM10_2012  \\\n",
       "225         16.849905          21.191836  ...  49.150596  48.612792   \n",
       "226         16.849905          21.191836  ...  49.150596  48.612792   \n",
       "227         16.849905          21.191836  ...  49.150596  48.612792   \n",
       "\n",
       "     PM10_2013  PM10_2014  PM10_2015  PM10_2016  PM10_2017  PM10_2018  \\\n",
       "225    57.4074  53.217886  49.479252   54.24335  51.807865  46.360318   \n",
       "226    57.4074  53.217886  49.479252   54.24335  51.807865  46.360318   \n",
       "227    57.4074  53.217886  49.479252   54.24335  51.807865  46.360318   \n",
       "\n",
       "     PM10_2019  PM10_2020  \n",
       "225  46.315838  34.010916  \n",
       "226  46.315838  34.010916  \n",
       "227  46.315838  34.010916  \n",
       "\n",
       "[3 rows x 195 columns]"
      ]
     },
     "execution_count": 135,
     "metadata": {},
     "output_type": "execute_result"
    }
   ],
   "source": [
    "missmatch_list = ['경기도 고양시','경기도 성남시', '경기도 수원시', '경기도 안산시', '경기도 안양시', '경기도 용인시',\n",
    "                  '경상남도 창원시', '경상남도 포항시', '전라북도 전주시', '충청남도 천안시', '충청북도 청주시']\n",
    "\n",
    "for miss in missmatch_list:\n",
    "    print(f'impuation in {miss}')\n",
    "    data = exposure_new.loc[exposure_new['법정동=행정동이름'] == miss, '2015_month1_pm25':'PM10_2020'].values\n",
    "\n",
    "    exposure_new.loc[exposure_new['법정동=행정동이름'].str.startswith(miss), '2015_month1_pm25':'PM10_2020'] = data\n",
    "\n",
    "# Double check\n",
    "exposure_new.loc[exposure_new['법정동=행정동이름'].str.startswith('전라북도 전주시'), '2015_month1_pm25':'PM10_2020']"
   ]
  },
  {
   "cell_type": "code",
   "execution_count": 136,
   "metadata": {},
   "outputs": [],
   "source": [
    "exposure_new.to_excel('Fin_Imputed_vegetation_airpollution.xlsx', index=False, header=True, encoding='euc-kr')"
   ]
  }
 ],
 "metadata": {
  "interpreter": {
   "hash": "73e1520f6d2713970eba64e5271ee183e7b673be1a19b89b52d73d9ee0278917"
  },
  "kernelspec": {
   "display_name": "Python 3 (ipykernel)",
   "language": "python",
   "name": "python3"
  },
  "language_info": {
   "codemirror_mode": {
    "name": "ipython",
    "version": 3
   },
   "file_extension": ".py",
   "mimetype": "text/x-python",
   "name": "python",
   "nbconvert_exporter": "python",
   "pygments_lexer": "ipython3",
   "version": "3.7.0"
  }
 },
 "nbformat": 4,
 "nbformat_minor": 2
}
