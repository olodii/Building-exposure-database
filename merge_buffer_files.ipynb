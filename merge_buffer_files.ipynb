{
 "cells": [
  {
   "cell_type": "code",
   "execution_count": 1,
   "metadata": {},
   "outputs": [],
   "source": [
    "import pandas as pd\n",
    "import numpy as np\n",
    "import matplotlib.pyplot as plt\n",
    "import seaborn as sns\n",
    "\n",
    "plt.style.use('fivethirtyeight')\n",
    "\n",
    "import warnings\n",
    "warnings.filterwarnings('ignore')\n",
    "\n",
    "import os"
   ]
  },
  {
   "cell_type": "markdown",
   "metadata": {},
   "source": [
    "### **Buffer files merge**"
   ]
  },
  {
   "cell_type": "markdown",
   "metadata": {},
   "source": [
    "**코호트 주소 정보 import**"
   ]
  },
  {
   "cell_type": "code",
   "execution_count": 4,
   "metadata": {},
   "outputs": [
    {
     "name": "stdout",
     "output_type": "stream",
     "text": [
      "<class 'pandas.core.frame.DataFrame'>\n",
      "RangeIndex: 4776 entries, 0 to 4775\n",
      "Data columns (total 2 columns):\n",
      " #   Column   Non-Null Count  Dtype \n",
      "---  ------   --------------  ----- \n",
      " 0   id       4776 non-null   object\n",
      " 1   address  4776 non-null   object\n",
      "dtypes: object(2)\n",
      "memory usage: 74.8+ KB\n"
     ]
    }
   ],
   "source": [
    "coh = pd.read_csv('코호트_addresscsv', encoding='euc-kr')\n",
    "coh.info()"
   ]
  },
  {
   "cell_type": "markdown",
   "metadata": {},
   "source": [
    "**Buffer 500m**"
   ]
  },
  {
   "cell_type": "code",
   "execution_count": 9,
   "metadata": {},
   "outputs": [
    {
     "name": "stdout",
     "output_type": "stream",
     "text": [
      "<class 'pandas.core.frame.DataFrame'>\n",
      "RangeIndex: 4776 entries, 0 to 4775\n",
      "Data columns (total 2 columns):\n",
      " #   Column    Non-Null Count  Dtype  \n",
      "---  ------    --------------  -----  \n",
      " 0   ORIG_FID  4776 non-null   int64  \n",
      " 1   mean      1229 non-null   float64\n",
      "dtypes: float64(1), int64(1)\n",
      "memory usage: 74.8 KB\n"
     ]
    }
   ],
   "source": [
    "bf500m = pd.read_csv('./2015년/2015_buffer500m/201501_mean_EVI_by_buffer500m.csv')\n",
    "bf500m = bf500m.sort_values(by='ORIG_FID').reset_index(drop=True)\n",
    "\n",
    "bf500m.info()"
   ]
  },
  {
   "cell_type": "code",
   "execution_count": 17,
   "metadata": {},
   "outputs": [],
   "source": [
    "def merge_buffers(path, cohort):\n",
    "    import os\n",
    "    \n",
    "    buff_list = os.listdir(path)\n",
    "    mean_list = sorted([c for c in buff_list if 'mean' in c])\n",
    "    \n",
    "    for index in ['EVI', 'NDVI']:\n",
    "        \n",
    "        merge_list = cohort.copy()\n",
    "        \n",
    "        for m in mean_list:\n",
    "            buffer_size = m.split('_')[-1]\n",
    "        \n",
    "            s = [c for c in buff_list if 'std' in c and buffer_size in c][0]\n",
    "        \n",
    "            mean = pd.read_csv(path+'//'+m, encoding='euc-kr')\n",
    "            std = pd.read_csv(path+'//'+s, encoding='euc-kr')\n",
    "        \n",
    "            if cohort.shape[0] != mean.shape[0]:\n",
    "                raise Exception('코호트 파일과 buffer 파일 길이가 일치하지 않습니다.')\n",
    "        \n",
    "            mean = mean.sort_values(by='ORIG_FID').reset_index(drop=True)\n",
    "            mean = mean.drop(columns='ORIG_FID')\n",
    "        \n",
    "            std = std.sort_values(by='ORIG_FID').reset_index(drop=True)\n",
    "            std = std.drop(columns='ORIG_FID')\n",
    "                \n",
    "            merge = pd.concat([coh, mean, std], axis=1)\n",
    "            merge = merge.loc[:, ['id', 'address', 'mean','stdDev']].rename(columns={'mean': f'{buffer_size}_avg',\n",
    "                                                                                 'stdDev': f'{buffer_size}_std'})\n",
    "\n",
    "        merge_list = pd.merge(merge_list, merge.drop(columns='address'), on='id', how='outer')\n",
    "        \n",
    "        if index == 'EVI':\n",
    "            EVI = merge_list.copy()\n",
    "        else: NDVI = merge_list.copy()\n",
    "        \n",
    "    fin_merge = pd.merge(EVI, NDVI.drop(columns='address'), on='id', how='outer')\n",
    "    \n",
    "    return fin_merge"
   ]
  }
 ],
 "metadata": {
  "interpreter": {
   "hash": "191022b956e65ad5aeed1cb95f47224d54c61718e443e1db0fbc24be7dbddba3"
  },
  "kernelspec": {
   "display_name": "Python 3.6.13 ('kaggle')",
   "language": "python",
   "name": "python3"
  },
  "language_info": {
   "codemirror_mode": {
    "name": "ipython",
    "version": 3
   },
   "file_extension": ".py",
   "mimetype": "text/x-python",
   "name": "python",
   "nbconvert_exporter": "python",
   "pygments_lexer": "ipython3",
   "version": "3.6.13"
  },
  "orig_nbformat": 4
 },
 "nbformat": 4,
 "nbformat_minor": 2
}
