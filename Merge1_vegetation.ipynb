{
 "cells": [
  {
   "cell_type": "code",
   "execution_count": 1,
   "metadata": {},
   "outputs": [],
   "source": [
    "import pandas as pd\n",
    "import numpy as np\n",
    "import matplotlib.pyplot as plt\n",
    "import seaborn as sns\n",
    "\n",
    "import warnings\n",
    "warnings.filterwarnings('ignore')"
   ]
  },
  {
   "cell_type": "markdown",
   "metadata": {},
   "source": [
    "**data import**"
   ]
  },
  {
   "cell_type": "code",
   "execution_count": 2,
   "metadata": {},
   "outputs": [],
   "source": [
    "evi =  pd.read_csv('evi_summaryeq0.csv')\n",
    "ndvi =  pd.read_csv('ndvi_summaryeq0.csv')"
   ]
  },
  {
   "cell_type": "code",
   "execution_count": 3,
   "metadata": {},
   "outputs": [
    {
     "data": {
      "text/html": [
       "<div>\n",
       "<style scoped>\n",
       "    .dataframe tbody tr th:only-of-type {\n",
       "        vertical-align: middle;\n",
       "    }\n",
       "\n",
       "    .dataframe tbody tr th {\n",
       "        vertical-align: top;\n",
       "    }\n",
       "\n",
       "    .dataframe thead th {\n",
       "        text-align: right;\n",
       "    }\n",
       "</style>\n",
       "<table border=\"1\" class=\"dataframe\">\n",
       "  <thead>\n",
       "    <tr style=\"text-align: right;\">\n",
       "      <th></th>\n",
       "      <th>시도</th>\n",
       "      <th>sido_CD</th>\n",
       "      <th>시군구</th>\n",
       "      <th>기준 코드\\n(=2019)</th>\n",
       "      <th>2019</th>\n",
       "      <th>2018</th>\n",
       "      <th>2017</th>\n",
       "      <th>2016</th>\n",
       "      <th>2015</th>\n",
       "      <th>2014</th>\n",
       "      <th>...</th>\n",
       "      <th>2003</th>\n",
       "      <th>2002</th>\n",
       "      <th>2001</th>\n",
       "      <th>2000</th>\n",
       "      <th>1999</th>\n",
       "      <th>1998</th>\n",
       "      <th>1997</th>\n",
       "      <th>1996</th>\n",
       "      <th>1995</th>\n",
       "      <th>비고</th>\n",
       "    </tr>\n",
       "  </thead>\n",
       "  <tbody>\n",
       "    <tr>\n",
       "      <th>0</th>\n",
       "      <td>서울특별시</td>\n",
       "      <td>11</td>\n",
       "      <td>종로구</td>\n",
       "      <td>11010</td>\n",
       "      <td>11010</td>\n",
       "      <td>11010</td>\n",
       "      <td>11010</td>\n",
       "      <td>11010</td>\n",
       "      <td>11010</td>\n",
       "      <td>11010</td>\n",
       "      <td>...</td>\n",
       "      <td>11010.0</td>\n",
       "      <td>11010.0</td>\n",
       "      <td>11010</td>\n",
       "      <td>11010</td>\n",
       "      <td>11010</td>\n",
       "      <td>11010</td>\n",
       "      <td>11010</td>\n",
       "      <td>11010</td>\n",
       "      <td>11010</td>\n",
       "      <td>NaN</td>\n",
       "    </tr>\n",
       "    <tr>\n",
       "      <th>1</th>\n",
       "      <td>서울특별시</td>\n",
       "      <td>11</td>\n",
       "      <td>중구</td>\n",
       "      <td>11020</td>\n",
       "      <td>11020</td>\n",
       "      <td>11020</td>\n",
       "      <td>11020</td>\n",
       "      <td>11020</td>\n",
       "      <td>11020</td>\n",
       "      <td>11020</td>\n",
       "      <td>...</td>\n",
       "      <td>11020.0</td>\n",
       "      <td>11020.0</td>\n",
       "      <td>11020</td>\n",
       "      <td>11020</td>\n",
       "      <td>11020</td>\n",
       "      <td>11020</td>\n",
       "      <td>11020</td>\n",
       "      <td>11020</td>\n",
       "      <td>11020</td>\n",
       "      <td>NaN</td>\n",
       "    </tr>\n",
       "    <tr>\n",
       "      <th>2</th>\n",
       "      <td>서울특별시</td>\n",
       "      <td>11</td>\n",
       "      <td>용산구</td>\n",
       "      <td>11030</td>\n",
       "      <td>11030</td>\n",
       "      <td>11030</td>\n",
       "      <td>11030</td>\n",
       "      <td>11030</td>\n",
       "      <td>11030</td>\n",
       "      <td>11030</td>\n",
       "      <td>...</td>\n",
       "      <td>11030.0</td>\n",
       "      <td>11030.0</td>\n",
       "      <td>11030</td>\n",
       "      <td>11030</td>\n",
       "      <td>11030</td>\n",
       "      <td>11030</td>\n",
       "      <td>11030</td>\n",
       "      <td>11030</td>\n",
       "      <td>11030</td>\n",
       "      <td>NaN</td>\n",
       "    </tr>\n",
       "    <tr>\n",
       "      <th>3</th>\n",
       "      <td>서울특별시</td>\n",
       "      <td>11</td>\n",
       "      <td>성동구</td>\n",
       "      <td>11040</td>\n",
       "      <td>11040</td>\n",
       "      <td>11040</td>\n",
       "      <td>11040</td>\n",
       "      <td>11040</td>\n",
       "      <td>11040</td>\n",
       "      <td>11040</td>\n",
       "      <td>...</td>\n",
       "      <td>11040.0</td>\n",
       "      <td>11040.0</td>\n",
       "      <td>11040</td>\n",
       "      <td>11040</td>\n",
       "      <td>11040</td>\n",
       "      <td>11040</td>\n",
       "      <td>11040</td>\n",
       "      <td>11040</td>\n",
       "      <td>11040</td>\n",
       "      <td>NaN</td>\n",
       "    </tr>\n",
       "    <tr>\n",
       "      <th>4</th>\n",
       "      <td>서울특별시</td>\n",
       "      <td>11</td>\n",
       "      <td>광진구</td>\n",
       "      <td>11050</td>\n",
       "      <td>11050</td>\n",
       "      <td>11050</td>\n",
       "      <td>11050</td>\n",
       "      <td>11050</td>\n",
       "      <td>11050</td>\n",
       "      <td>11050</td>\n",
       "      <td>...</td>\n",
       "      <td>11050.0</td>\n",
       "      <td>11050.0</td>\n",
       "      <td>11050</td>\n",
       "      <td>11050</td>\n",
       "      <td>11050</td>\n",
       "      <td>11050</td>\n",
       "      <td>11050</td>\n",
       "      <td>11050</td>\n",
       "      <td>11050</td>\n",
       "      <td>NaN</td>\n",
       "    </tr>\n",
       "  </tbody>\n",
       "</table>\n",
       "<p>5 rows × 30 columns</p>\n",
       "</div>"
      ],
      "text/plain": [
       "      시도  sido_CD  시군구 기준 코드\\n(=2019)   2019   2018   2017   2016   2015  \\\n",
       "0  서울특별시       11  종로구          11010  11010  11010  11010  11010  11010   \n",
       "1  서울특별시       11   중구          11020  11020  11020  11020  11020  11020   \n",
       "2  서울특별시       11  용산구          11030  11030  11030  11030  11030  11030   \n",
       "3  서울특별시       11  성동구          11040  11040  11040  11040  11040  11040   \n",
       "4  서울특별시       11  광진구          11050  11050  11050  11050  11050  11050   \n",
       "\n",
       "    2014  ...     2003     2002   2001   2000   1999   1998   1997   1996  \\\n",
       "0  11010  ...  11010.0  11010.0  11010  11010  11010  11010  11010  11010   \n",
       "1  11020  ...  11020.0  11020.0  11020  11020  11020  11020  11020  11020   \n",
       "2  11030  ...  11030.0  11030.0  11030  11030  11030  11030  11030  11030   \n",
       "3  11040  ...  11040.0  11040.0  11040  11040  11040  11040  11040  11040   \n",
       "4  11050  ...  11050.0  11050.0  11050  11050  11050  11050  11050  11050   \n",
       "\n",
       "    1995   비고  \n",
       "0  11010  NaN  \n",
       "1  11020  NaN  \n",
       "2  11030  NaN  \n",
       "3  11040  NaN  \n",
       "4  11050  NaN  \n",
       "\n",
       "[5 rows x 30 columns]"
      ]
     },
     "execution_count": 3,
     "metadata": {},
     "output_type": "execute_result"
    }
   ],
   "source": [
    "#행정동코드\n",
    "ref_Hcode = pd.read_excel('./DB 시군구 코드 기준_1995_2019.xlsx')\n",
    "col = list(map(str, ref_Hcode.columns))\n",
    "col = [c.strip() for c in col]\n",
    "\n",
    "ref_Hcode.columns = col\n",
    "ref_Hcode = ref_Hcode.rename(columns={'시도 코드':'sido_CD'})\n",
    "\n",
    "ref_Hcode.head(5)"
   ]
  },
  {
   "cell_type": "code",
   "execution_count": 4,
   "metadata": {},
   "outputs": [
    {
     "data": {
      "text/html": [
       "<div>\n",
       "<style scoped>\n",
       "    .dataframe tbody tr th:only-of-type {\n",
       "        vertical-align: middle;\n",
       "    }\n",
       "\n",
       "    .dataframe tbody tr th {\n",
       "        vertical-align: top;\n",
       "    }\n",
       "\n",
       "    .dataframe thead th {\n",
       "        text-align: right;\n",
       "    }\n",
       "</style>\n",
       "<table border=\"1\" class=\"dataframe\">\n",
       "  <thead>\n",
       "    <tr style=\"text-align: right;\">\n",
       "      <th></th>\n",
       "      <th>시도</th>\n",
       "      <th>시군구</th>\n",
       "      <th>2019</th>\n",
       "      <th>NM</th>\n",
       "    </tr>\n",
       "  </thead>\n",
       "  <tbody>\n",
       "    <tr>\n",
       "      <th>0</th>\n",
       "      <td>서울특별시</td>\n",
       "      <td>종로구</td>\n",
       "      <td>11010</td>\n",
       "      <td>서울특별시 종로구</td>\n",
       "    </tr>\n",
       "    <tr>\n",
       "      <th>1</th>\n",
       "      <td>서울특별시</td>\n",
       "      <td>중구</td>\n",
       "      <td>11020</td>\n",
       "      <td>서울특별시 중구</td>\n",
       "    </tr>\n",
       "    <tr>\n",
       "      <th>2</th>\n",
       "      <td>서울특별시</td>\n",
       "      <td>용산구</td>\n",
       "      <td>11030</td>\n",
       "      <td>서울특별시 용산구</td>\n",
       "    </tr>\n",
       "    <tr>\n",
       "      <th>3</th>\n",
       "      <td>서울특별시</td>\n",
       "      <td>성동구</td>\n",
       "      <td>11040</td>\n",
       "      <td>서울특별시 성동구</td>\n",
       "    </tr>\n",
       "    <tr>\n",
       "      <th>4</th>\n",
       "      <td>서울특별시</td>\n",
       "      <td>광진구</td>\n",
       "      <td>11050</td>\n",
       "      <td>서울특별시 광진구</td>\n",
       "    </tr>\n",
       "  </tbody>\n",
       "</table>\n",
       "</div>"
      ],
      "text/plain": [
       "      시도  시군구   2019         NM\n",
       "0  서울특별시  종로구  11010  서울특별시 종로구\n",
       "1  서울특별시   중구  11020   서울특별시 중구\n",
       "2  서울특별시  용산구  11030  서울특별시 용산구\n",
       "3  서울특별시  성동구  11040  서울특별시 성동구\n",
       "4  서울특별시  광진구  11050  서울특별시 광진구"
      ]
     },
     "execution_count": 4,
     "metadata": {},
     "output_type": "execute_result"
    }
   ],
   "source": [
    "ref_Hcode = ref_Hcode[['시도','시군구','2019']]\n",
    "ref_Hcode['NM'] = ref_Hcode['시도'].str.strip() + ' ' + ref_Hcode['시군구'].str.strip()\n",
    "ref_Hcode.head()"
   ]
  },
  {
   "cell_type": "markdown",
   "metadata": {},
   "source": [
    "**특정 지역 매칭코드**"
   ]
  },
  {
   "cell_type": "code",
   "execution_count": 5,
   "metadata": {},
   "outputs": [
    {
     "data": {
      "text/html": [
       "<div>\n",
       "<style scoped>\n",
       "    .dataframe tbody tr th:only-of-type {\n",
       "        vertical-align: middle;\n",
       "    }\n",
       "\n",
       "    .dataframe tbody tr th {\n",
       "        vertical-align: top;\n",
       "    }\n",
       "\n",
       "    .dataframe thead th {\n",
       "        text-align: right;\n",
       "    }\n",
       "</style>\n",
       "<table border=\"1\" class=\"dataframe\">\n",
       "  <thead>\n",
       "    <tr style=\"text-align: right;\">\n",
       "      <th></th>\n",
       "      <th>시도</th>\n",
       "      <th>시군구</th>\n",
       "      <th>2019</th>\n",
       "      <th>NM</th>\n",
       "    </tr>\n",
       "  </thead>\n",
       "  <tbody>\n",
       "    <tr>\n",
       "      <th>83</th>\n",
       "      <td>경기도</td>\n",
       "      <td>안양시 만안구</td>\n",
       "      <td>31041</td>\n",
       "      <td>경기도 안양시 만안구</td>\n",
       "    </tr>\n",
       "    <tr>\n",
       "      <th>84</th>\n",
       "      <td>경기도</td>\n",
       "      <td>안양시 동안구</td>\n",
       "      <td>31042</td>\n",
       "      <td>경기도 안양시 동안구</td>\n",
       "    </tr>\n",
       "  </tbody>\n",
       "</table>\n",
       "</div>"
      ],
      "text/plain": [
       "     시도      시군구   2019           NM\n",
       "83  경기도  안양시 만안구  31041  경기도 안양시 만안구\n",
       "84  경기도  안양시 동안구  31042  경기도 안양시 동안구"
      ]
     },
     "execution_count": 5,
     "metadata": {},
     "output_type": "execute_result"
    }
   ],
   "source": [
    "# 하나씩 탐색\n",
    "ref_Hcode.loc[ref_Hcode['NM'].str.startswith(\"경기도 안양시\")]"
   ]
  },
  {
   "cell_type": "markdown",
   "metadata": {},
   "source": [
    "**NAME 수정**"
   ]
  },
  {
   "cell_type": "code",
   "execution_count": 6,
   "metadata": {},
   "outputs": [
    {
     "data": {
      "text/html": [
       "<div>\n",
       "<style scoped>\n",
       "    .dataframe tbody tr th:only-of-type {\n",
       "        vertical-align: middle;\n",
       "    }\n",
       "\n",
       "    .dataframe tbody tr th {\n",
       "        vertical-align: top;\n",
       "    }\n",
       "\n",
       "    .dataframe thead th {\n",
       "        text-align: right;\n",
       "    }\n",
       "</style>\n",
       "<table border=\"1\" class=\"dataframe\">\n",
       "  <thead>\n",
       "    <tr style=\"text-align: right;\">\n",
       "      <th></th>\n",
       "      <th>year</th>\n",
       "      <th>SIGUNGU_CD</th>\n",
       "      <th>SIDO_NM</th>\n",
       "      <th>SIGUNGU_NM</th>\n",
       "      <th>month1</th>\n",
       "      <th>month2</th>\n",
       "      <th>month3</th>\n",
       "      <th>month4</th>\n",
       "      <th>month5</th>\n",
       "      <th>month6</th>\n",
       "      <th>month7</th>\n",
       "      <th>month8</th>\n",
       "      <th>month9</th>\n",
       "      <th>month10</th>\n",
       "      <th>month11</th>\n",
       "      <th>month12</th>\n",
       "    </tr>\n",
       "  </thead>\n",
       "  <tbody>\n",
       "    <tr>\n",
       "      <th>0</th>\n",
       "      <td>2000</td>\n",
       "      <td>11010</td>\n",
       "      <td>서울</td>\n",
       "      <td>종로구</td>\n",
       "      <td>NaN</td>\n",
       "      <td>660.912206</td>\n",
       "      <td>972.406495</td>\n",
       "      <td>1267.180055</td>\n",
       "      <td>2565.266805</td>\n",
       "      <td>2775.509520</td>\n",
       "      <td>3931.680626</td>\n",
       "      <td>2792.363850</td>\n",
       "      <td>2537.233568</td>\n",
       "      <td>1744.897542</td>\n",
       "      <td>1226.778951</td>\n",
       "      <td>1097.512846</td>\n",
       "    </tr>\n",
       "    <tr>\n",
       "      <th>1</th>\n",
       "      <td>2000</td>\n",
       "      <td>11020</td>\n",
       "      <td>서울</td>\n",
       "      <td>중구</td>\n",
       "      <td>NaN</td>\n",
       "      <td>597.457935</td>\n",
       "      <td>523.735837</td>\n",
       "      <td>926.007543</td>\n",
       "      <td>1315.420290</td>\n",
       "      <td>1549.399169</td>\n",
       "      <td>NaN</td>\n",
       "      <td>1567.668415</td>\n",
       "      <td>1395.397783</td>\n",
       "      <td>987.166357</td>\n",
       "      <td>684.938424</td>\n",
       "      <td>587.369150</td>\n",
       "    </tr>\n",
       "    <tr>\n",
       "      <th>2</th>\n",
       "      <td>2000</td>\n",
       "      <td>11030</td>\n",
       "      <td>서울</td>\n",
       "      <td>용산구</td>\n",
       "      <td>NaN</td>\n",
       "      <td>708.946770</td>\n",
       "      <td>549.234091</td>\n",
       "      <td>830.418915</td>\n",
       "      <td>1026.549107</td>\n",
       "      <td>1354.420748</td>\n",
       "      <td>NaN</td>\n",
       "      <td>1270.221265</td>\n",
       "      <td>1438.377713</td>\n",
       "      <td>1082.770601</td>\n",
       "      <td>758.087243</td>\n",
       "      <td>676.220381</td>\n",
       "    </tr>\n",
       "    <tr>\n",
       "      <th>3</th>\n",
       "      <td>2000</td>\n",
       "      <td>11040</td>\n",
       "      <td>서울</td>\n",
       "      <td>성동구</td>\n",
       "      <td>NaN</td>\n",
       "      <td>501.189474</td>\n",
       "      <td>423.850910</td>\n",
       "      <td>630.582193</td>\n",
       "      <td>1052.754356</td>\n",
       "      <td>1196.280540</td>\n",
       "      <td>NaN</td>\n",
       "      <td>1316.687220</td>\n",
       "      <td>1250.784106</td>\n",
       "      <td>934.674446</td>\n",
       "      <td>617.065491</td>\n",
       "      <td>476.676863</td>\n",
       "    </tr>\n",
       "    <tr>\n",
       "      <th>4</th>\n",
       "      <td>2000</td>\n",
       "      <td>11050</td>\n",
       "      <td>서울</td>\n",
       "      <td>광진구</td>\n",
       "      <td>NaN</td>\n",
       "      <td>591.941241</td>\n",
       "      <td>576.194522</td>\n",
       "      <td>660.178642</td>\n",
       "      <td>1701.907855</td>\n",
       "      <td>1459.960147</td>\n",
       "      <td>NaN</td>\n",
       "      <td>1362.892907</td>\n",
       "      <td>1464.783445</td>\n",
       "      <td>1110.814168</td>\n",
       "      <td>759.291082</td>\n",
       "      <td>589.183462</td>\n",
       "    </tr>\n",
       "  </tbody>\n",
       "</table>\n",
       "</div>"
      ],
      "text/plain": [
       "   year  SIGUNGU_CD SIDO_NM SIGUNGU_NM  month1      month2      month3  \\\n",
       "0  2000       11010      서울        종로구     NaN  660.912206  972.406495   \n",
       "1  2000       11020      서울         중구     NaN  597.457935  523.735837   \n",
       "2  2000       11030      서울        용산구     NaN  708.946770  549.234091   \n",
       "3  2000       11040      서울        성동구     NaN  501.189474  423.850910   \n",
       "4  2000       11050      서울        광진구     NaN  591.941241  576.194522   \n",
       "\n",
       "        month4       month5       month6       month7       month8  \\\n",
       "0  1267.180055  2565.266805  2775.509520  3931.680626  2792.363850   \n",
       "1   926.007543  1315.420290  1549.399169          NaN  1567.668415   \n",
       "2   830.418915  1026.549107  1354.420748          NaN  1270.221265   \n",
       "3   630.582193  1052.754356  1196.280540          NaN  1316.687220   \n",
       "4   660.178642  1701.907855  1459.960147          NaN  1362.892907   \n",
       "\n",
       "        month9      month10      month11      month12  \n",
       "0  2537.233568  1744.897542  1226.778951  1097.512846  \n",
       "1  1395.397783   987.166357   684.938424   587.369150  \n",
       "2  1438.377713  1082.770601   758.087243   676.220381  \n",
       "3  1250.784106   934.674446   617.065491   476.676863  \n",
       "4  1464.783445  1110.814168   759.291082   589.183462  "
      ]
     },
     "execution_count": 6,
     "metadata": {},
     "output_type": "execute_result"
    }
   ],
   "source": [
    "evi.head()"
   ]
  },
  {
   "cell_type": "code",
   "execution_count": 7,
   "metadata": {},
   "outputs": [
    {
     "data": {
      "text/plain": [
       "array(['서울', '부산', '대구', '인천', '광주', '대전', '울산', '경기', '강원', '충북', '충남',\n",
       "       '전북', '전남', '경북', '경남', '제주'], dtype=object)"
      ]
     },
     "execution_count": 7,
     "metadata": {},
     "output_type": "execute_result"
    }
   ],
   "source": [
    "evi.SIDO_NM.unique()"
   ]
  },
  {
   "cell_type": "code",
   "execution_count": 8,
   "metadata": {},
   "outputs": [
    {
     "data": {
      "text/plain": [
       "array(['서울특별시', '부산광역시', '대구광역시', '인천광역시', '광주광역시', '대전광역시', '울산광역시',\n",
       "       '세종특별자치시', '경기도', '강원도', '충청북도', '충청남도', '전라북도', '전라남도', '경상북도',\n",
       "       '경상남도', '제주특별자치도'], dtype=object)"
      ]
     },
     "execution_count": 8,
     "metadata": {},
     "output_type": "execute_result"
    }
   ],
   "source": [
    "ref_Hcode.시도.unique()\n"
   ]
  },
  {
   "cell_type": "code",
   "execution_count": 9,
   "metadata": {},
   "outputs": [],
   "source": [
    "replace_list = {'서울':'서울특별시', '부산':'부산광역시', '대구':'대구광역시', '인천':'인천광역시', '광주':'광주광역시', '대전':'대전광역시', '울산':'울산광역시',\n",
    "                '경기':'경기도', '강원':'강원도', '충북':'충청북도', '충남':'충청남도', '전북':'전라북도', '전남':'전라남도', '경북':'경상북도',\n",
    "                '경남':'경상남도','제주':'제주특별자치도'}\n",
    "\n",
    "evi['SIDO_NM'] = evi['SIDO_NM'].replace(replace_list)\n",
    "ndvi['SIDO_NM'] = ndvi['SIDO_NM'].replace(replace_list)"
   ]
  },
  {
   "cell_type": "markdown",
   "metadata": {},
   "source": [
    "EVI"
   ]
  },
  {
   "cell_type": "code",
   "execution_count": 10,
   "metadata": {},
   "outputs": [
    {
     "data": {
      "text/html": [
       "<div>\n",
       "<style scoped>\n",
       "    .dataframe tbody tr th:only-of-type {\n",
       "        vertical-align: middle;\n",
       "    }\n",
       "\n",
       "    .dataframe tbody tr th {\n",
       "        vertical-align: top;\n",
       "    }\n",
       "\n",
       "    .dataframe thead th {\n",
       "        text-align: right;\n",
       "    }\n",
       "</style>\n",
       "<table border=\"1\" class=\"dataframe\">\n",
       "  <thead>\n",
       "    <tr style=\"text-align: right;\">\n",
       "      <th></th>\n",
       "      <th>0</th>\n",
       "      <th>1</th>\n",
       "      <th>2</th>\n",
       "      <th>name</th>\n",
       "    </tr>\n",
       "  </thead>\n",
       "  <tbody>\n",
       "    <tr>\n",
       "      <th>5747</th>\n",
       "      <td>함양군</td>\n",
       "      <td></td>\n",
       "      <td></td>\n",
       "      <td>함양군</td>\n",
       "    </tr>\n",
       "    <tr>\n",
       "      <th>5748</th>\n",
       "      <td>거창군</td>\n",
       "      <td></td>\n",
       "      <td></td>\n",
       "      <td>거창군</td>\n",
       "    </tr>\n",
       "    <tr>\n",
       "      <th>5749</th>\n",
       "      <td>합천군</td>\n",
       "      <td></td>\n",
       "      <td></td>\n",
       "      <td>합천군</td>\n",
       "    </tr>\n",
       "    <tr>\n",
       "      <th>5750</th>\n",
       "      <td>제주</td>\n",
       "      <td>시</td>\n",
       "      <td></td>\n",
       "      <td>제주시</td>\n",
       "    </tr>\n",
       "    <tr>\n",
       "      <th>5751</th>\n",
       "      <td>서귀포</td>\n",
       "      <td>시</td>\n",
       "      <td></td>\n",
       "      <td>서귀포시</td>\n",
       "    </tr>\n",
       "  </tbody>\n",
       "</table>\n",
       "</div>"
      ],
      "text/plain": [
       "        0  1 2   name\n",
       "5747  함양군         함양군\n",
       "5748  거창군         거창군\n",
       "5749  합천군         합천군\n",
       "5750   제주  시     제주시 \n",
       "5751  서귀포  시    서귀포시 "
      ]
     },
     "execution_count": 10,
     "metadata": {},
     "output_type": "execute_result"
    }
   ],
   "source": [
    "# name에 띄어쓰기가 없음 -> 띄어쓰기 포함해주기\n",
    "naming = evi['SIGUNGU_NM'].str.partition('시')\n",
    "naming.loc[naming[1] == '시', 'name'] = naming[0] + naming[1] + \" \" + naming[2]\n",
    "naming.loc[naming[1] != '시', 'name'] = naming[0]\n",
    "\n",
    "naming.tail()"
   ]
  },
  {
   "cell_type": "code",
   "execution_count": 11,
   "metadata": {},
   "outputs": [
    {
     "data": {
      "text/html": [
       "<div>\n",
       "<style scoped>\n",
       "    .dataframe tbody tr th:only-of-type {\n",
       "        vertical-align: middle;\n",
       "    }\n",
       "\n",
       "    .dataframe tbody tr th {\n",
       "        vertical-align: top;\n",
       "    }\n",
       "\n",
       "    .dataframe thead th {\n",
       "        text-align: right;\n",
       "    }\n",
       "</style>\n",
       "<table border=\"1\" class=\"dataframe\">\n",
       "  <thead>\n",
       "    <tr style=\"text-align: right;\">\n",
       "      <th></th>\n",
       "      <th>SIGUNGU_NM</th>\n",
       "      <th>SIGUNGU_NM_new</th>\n",
       "    </tr>\n",
       "  </thead>\n",
       "  <tbody>\n",
       "    <tr>\n",
       "      <th>73</th>\n",
       "      <td>수원시장안구</td>\n",
       "      <td>수원시 장안구</td>\n",
       "    </tr>\n",
       "    <tr>\n",
       "      <th>74</th>\n",
       "      <td>수원시권선구</td>\n",
       "      <td>수원시 권선구</td>\n",
       "    </tr>\n",
       "    <tr>\n",
       "      <th>75</th>\n",
       "      <td>수원시팔달구</td>\n",
       "      <td>수원시 팔달구</td>\n",
       "    </tr>\n",
       "    <tr>\n",
       "      <th>76</th>\n",
       "      <td>수원시영통구</td>\n",
       "      <td>수원시 영통구</td>\n",
       "    </tr>\n",
       "    <tr>\n",
       "      <th>324</th>\n",
       "      <td>수원시장안구</td>\n",
       "      <td>수원시 장안구</td>\n",
       "    </tr>\n",
       "  </tbody>\n",
       "</table>\n",
       "</div>"
      ],
      "text/plain": [
       "    SIGUNGU_NM SIGUNGU_NM_new\n",
       "73      수원시장안구        수원시 장안구\n",
       "74      수원시권선구        수원시 권선구\n",
       "75      수원시팔달구        수원시 팔달구\n",
       "76      수원시영통구        수원시 영통구\n",
       "324     수원시장안구        수원시 장안구"
      ]
     },
     "execution_count": 11,
     "metadata": {},
     "output_type": "execute_result"
    }
   ],
   "source": [
    "evi['SIGUNGU_NM_new'] = naming.name\n",
    "evi[['SIGUNGU_NM',\"SIGUNGU_NM_new\"]].loc[evi['SIGUNGU_NM_new'].str.startswith('수원시')].head()"
   ]
  },
  {
   "cell_type": "markdown",
   "metadata": {},
   "source": [
    "NDVI"
   ]
  },
  {
   "cell_type": "code",
   "execution_count": 12,
   "metadata": {},
   "outputs": [
    {
     "data": {
      "text/html": [
       "<div>\n",
       "<style scoped>\n",
       "    .dataframe tbody tr th:only-of-type {\n",
       "        vertical-align: middle;\n",
       "    }\n",
       "\n",
       "    .dataframe tbody tr th {\n",
       "        vertical-align: top;\n",
       "    }\n",
       "\n",
       "    .dataframe thead th {\n",
       "        text-align: right;\n",
       "    }\n",
       "</style>\n",
       "<table border=\"1\" class=\"dataframe\">\n",
       "  <thead>\n",
       "    <tr style=\"text-align: right;\">\n",
       "      <th></th>\n",
       "      <th>SIGUNGU_NM</th>\n",
       "      <th>SIGUNGU_NM_new</th>\n",
       "    </tr>\n",
       "  </thead>\n",
       "  <tbody>\n",
       "    <tr>\n",
       "      <th>73</th>\n",
       "      <td>수원시장안구</td>\n",
       "      <td>수원시 장안구</td>\n",
       "    </tr>\n",
       "    <tr>\n",
       "      <th>74</th>\n",
       "      <td>수원시권선구</td>\n",
       "      <td>수원시 권선구</td>\n",
       "    </tr>\n",
       "    <tr>\n",
       "      <th>75</th>\n",
       "      <td>수원시팔달구</td>\n",
       "      <td>수원시 팔달구</td>\n",
       "    </tr>\n",
       "    <tr>\n",
       "      <th>76</th>\n",
       "      <td>수원시영통구</td>\n",
       "      <td>수원시 영통구</td>\n",
       "    </tr>\n",
       "    <tr>\n",
       "      <th>324</th>\n",
       "      <td>수원시장안구</td>\n",
       "      <td>수원시 장안구</td>\n",
       "    </tr>\n",
       "  </tbody>\n",
       "</table>\n",
       "</div>"
      ],
      "text/plain": [
       "    SIGUNGU_NM SIGUNGU_NM_new\n",
       "73      수원시장안구        수원시 장안구\n",
       "74      수원시권선구        수원시 권선구\n",
       "75      수원시팔달구        수원시 팔달구\n",
       "76      수원시영통구        수원시 영통구\n",
       "324     수원시장안구        수원시 장안구"
      ]
     },
     "execution_count": 12,
     "metadata": {},
     "output_type": "execute_result"
    }
   ],
   "source": [
    "naming = ndvi['SIGUNGU_NM'].str.partition('시')\n",
    "naming.loc[naming[1] == '시', 'name'] = naming[0] + naming[1] + \" \" + naming[2]\n",
    "naming.loc[naming[1] != '시', 'name'] = naming[0]\n",
    "\n",
    "ndvi['SIGUNGU_NM_new'] = naming.name\n",
    "ndvi[['SIGUNGU_NM',\"SIGUNGU_NM_new\"]].loc[ndvi['SIGUNGU_NM_new'].str.startswith('수원시')].head()"
   ]
  },
  {
   "cell_type": "code",
   "execution_count": 13,
   "metadata": {},
   "outputs": [],
   "source": [
    "evi['NAME'] = evi['SIDO_NM'] + \" \" + evi['SIGUNGU_NM_new']\n",
    "ndvi['NAME'] = ndvi['SIDO_NM'] + \" \" + ndvi['SIGUNGU_NM_new']\n",
    "\n",
    "evi['NAME'] = evi['NAME'].str.strip()\n",
    "ndvi['NAME'] = ndvi['NAME'].str.strip()"
   ]
  },
  {
   "cell_type": "markdown",
   "metadata": {},
   "source": [
    "### **EVI+NDVI**"
   ]
  },
  {
   "cell_type": "code",
   "execution_count": 14,
   "metadata": {},
   "outputs": [],
   "source": [
    "evi = evi.sort_values(by=['year','SIGUNGU_CD'])\n",
    "ndvi = ndvi.sort_values(by=['year','SIGUNGU_CD'])"
   ]
  },
  {
   "cell_type": "code",
   "execution_count": 15,
   "metadata": {},
   "outputs": [],
   "source": [
    "# Reshape and rename the EVI columns \n",
    "evi_re = evi[['SIGUNGU_CD','NAME']]\n",
    "\n",
    "clist = [c for c in evi.columns if 'month' in c]\n",
    "\n",
    "for y in range(2015, 2023):\n",
    "    new_clist = [f'{y}_{c}_EVI' for c in evi.columns if 'month' in c]\n",
    "    \n",
    "    sub = evi.loc[evi.year==y].drop(columns=['year','SIDO_NM','SIGUNGU_NM','SIGUNGU_NM_new','NAME']).reset_index(drop=True)\n",
    "    sub[clist] = sub[clist]/10000 # 단위 변경\n",
    "    sub.columns = ['SIGUNGU_CD'] + new_clist\n",
    "    \n",
    "    evi_re = evi_re.merge(sub, on='SIGUNGU_CD', how='left')"
   ]
  },
  {
   "cell_type": "code",
   "execution_count": 16,
   "metadata": {},
   "outputs": [],
   "source": [
    "evi_renew = evi_re.rename(columns={'SIGUNGU_CD':'SIGUNGU_CD_EVI','NAME':'NAME_EVI'})\n",
    "evi_renew =  evi_renew.drop_duplicates(subset='SIGUNGU_CD_EVI')"
   ]
  },
  {
   "cell_type": "code",
   "execution_count": null,
   "metadata": {},
   "outputs": [],
   "source": [
    "evi_renew[evi_renew['NAME_EVI'].str.startswith('제주')]"
   ]
  },
  {
   "cell_type": "code",
   "execution_count": 18,
   "metadata": {},
   "outputs": [],
   "source": [
    "# Reshape and rename the NDVI columns \n",
    "\n",
    "ndvi_re = ndvi[['SIGUNGU_CD','NAME']]\n",
    "clist = [c for c in ndvi.columns if 'month' in c]\n",
    "\n",
    "for y in range(2015, 2023):\n",
    "    new_clist = [f'{y}_{c}_NDVI' for c in ndvi.columns if 'month' in c]\n",
    "    \n",
    "    sub = ndvi.loc[ndvi.year==y].drop(columns=['year','SIDO_NM','SIGUNGU_NM','SIGUNGU_NM_new','NAME']).reset_index(drop=True)\n",
    "    sub[clist] = sub[clist]/10000 # 단위 변경\n",
    "    sub.columns = ['SIGUNGU_CD'] + new_clist\n",
    "    \n",
    "    ndvi_re = ndvi_re.merge(sub, on='SIGUNGU_CD', how='left')"
   ]
  },
  {
   "cell_type": "code",
   "execution_count": 20,
   "metadata": {},
   "outputs": [],
   "source": [
    "ndvi_renew = ndvi_re.rename(columns={'SIGUNGU_CD':'SIGUNGU_CD_NDVI','NAME':'NAME_NDVI'})\n",
    "ndvi_renew =  ndvi_renew.drop_duplicates(subset='SIGUNGU_CD_NDVI')"
   ]
  },
  {
   "cell_type": "code",
   "execution_count": 23,
   "metadata": {},
   "outputs": [
    {
     "name": "stdout",
     "output_type": "stream",
     "text": [
      "<class 'pandas.core.frame.DataFrame'>\n",
      "Int64Index: 251 entries, 0 to 249\n",
      "Columns: 196 entries, SIGUNGU_CD_EVI to 2022_month12_NDVI\n",
      "dtypes: float64(192), int64(2), object(2)\n",
      "memory usage: 386.3+ KB\n"
     ]
    }
   ],
   "source": [
    "evi_renew = evi_renew.sort_values(by='SIGUNGU_CD_EVI')\n",
    "ndvi_renew = ndvi_renew.sort_values(by='SIGUNGU_CD_NDVI')\n",
    "\n",
    "veg = pd.concat([evi_renew,ndvi_renew], axis=1)\n",
    "veg.info()"
   ]
  },
  {
   "cell_type": "code",
   "execution_count": 24,
   "metadata": {},
   "outputs": [],
   "source": [
    "veg.to_excel('EVI_and_NDVI.xlsx', index=False, header=True, encoding='euc-kr')"
   ]
  },
  {
   "cell_type": "markdown",
   "metadata": {},
   "source": [
    "### **행정동코드 merge**"
   ]
  },
  {
   "cell_type": "code",
   "execution_count": 25,
   "metadata": {},
   "outputs": [],
   "source": [
    "vegetation = pd.read_excel('EVI_and_NDVI.xlsx')\n",
    "\n",
    "vegetation = vegetation.drop(columns=['NAME_NDVI']).rename(columns={'NAME_EVI':'NAME_VEG', 'SIGUNGU_CD_EVI':'Hcode_VEG'})"
   ]
  },
  {
   "cell_type": "markdown",
   "metadata": {},
   "source": [
    "**특정 지역명 수정 및 생성:**"
   ]
  },
  {
   "cell_type": "code",
   "execution_count": 26,
   "metadata": {},
   "outputs": [
    {
     "data": {
      "text/plain": [
       "136    충청북도 청주시 상당구\n",
       "137    충청북도 청주시 흥덕구\n",
       "Name: NAME_VEG, dtype: object"
      ]
     },
     "execution_count": 26,
     "metadata": {},
     "output_type": "execute_result"
    }
   ],
   "source": [
    "vegetation[vegetation['NAME_VEG'].str.startswith('충청북도 청주시')]['NAME_VEG']"
   ]
  },
  {
   "cell_type": "markdown",
   "metadata": {},
   "source": [
    "충청북도 청주시 생성"
   ]
  },
  {
   "cell_type": "code",
   "execution_count": null,
   "metadata": {},
   "outputs": [],
   "source": [
    "cheongju = pd.DataFrame(vegetation.loc[vegetation['NAME_VEG'].str.startswith('충청북도 청주시'),\n",
    "                             [c for c in vegetation.columns if 'month' in c]].mean(axis=0)).transpose()\n",
    "\n",
    "cheongju['NAME_VEG'] = '충청북도 청주시'\n",
    "cheongju['Hcode_VEG'] = 33040\n",
    "\n",
    "vegetation = vegetation.append(cheongju).reset_index(drop=True)\n",
    "\n",
    "vegetation.tail()"
   ]
  },
  {
   "cell_type": "markdown",
   "metadata": {},
   "source": [
    "충청북도 청주시 서원구 생성(서원구=흥덕구)"
   ]
  },
  {
   "cell_type": "code",
   "execution_count": null,
   "metadata": {},
   "outputs": [],
   "source": [
    "cheongju_seowongu = pd.DataFrame(vegetation.loc[vegetation['NAME_VEG'].str.contains('충청북도 청주시 흥덕구')])\n",
    "\n",
    "cheongju_seowongu['NAME_VEG'] = '충청북도 청주시 서원구'\n",
    "cheongju_seowongu['Hcode_VEG'] = 33042\n",
    "\n",
    "vegetation = vegetation.append(cheongju_seowongu).reset_index(drop=True)\n",
    "\n",
    "vegetation.tail()\n"
   ]
  },
  {
   "cell_type": "markdown",
   "metadata": {},
   "source": [
    "**행정코드와 연계**"
   ]
  },
  {
   "cell_type": "code",
   "execution_count": 29,
   "metadata": {},
   "outputs": [
    {
     "data": {
      "text/html": [
       "<div>\n",
       "<style scoped>\n",
       "    .dataframe tbody tr th:only-of-type {\n",
       "        vertical-align: middle;\n",
       "    }\n",
       "\n",
       "    .dataframe tbody tr th {\n",
       "        vertical-align: top;\n",
       "    }\n",
       "\n",
       "    .dataframe thead th {\n",
       "        text-align: right;\n",
       "    }\n",
       "</style>\n",
       "<table border=\"1\" class=\"dataframe\">\n",
       "  <thead>\n",
       "    <tr style=\"text-align: right;\">\n",
       "      <th></th>\n",
       "      <th>시도</th>\n",
       "      <th>시군구</th>\n",
       "      <th>2019</th>\n",
       "      <th>NM</th>\n",
       "    </tr>\n",
       "  </thead>\n",
       "  <tbody>\n",
       "    <tr>\n",
       "      <th>0</th>\n",
       "      <td>서울특별시</td>\n",
       "      <td>종로구</td>\n",
       "      <td>11010</td>\n",
       "      <td>서울특별시 종로구</td>\n",
       "    </tr>\n",
       "    <tr>\n",
       "      <th>1</th>\n",
       "      <td>서울특별시</td>\n",
       "      <td>중구</td>\n",
       "      <td>11020</td>\n",
       "      <td>서울특별시 중구</td>\n",
       "    </tr>\n",
       "    <tr>\n",
       "      <th>2</th>\n",
       "      <td>서울특별시</td>\n",
       "      <td>용산구</td>\n",
       "      <td>11030</td>\n",
       "      <td>서울특별시 용산구</td>\n",
       "    </tr>\n",
       "    <tr>\n",
       "      <th>3</th>\n",
       "      <td>서울특별시</td>\n",
       "      <td>성동구</td>\n",
       "      <td>11040</td>\n",
       "      <td>서울특별시 성동구</td>\n",
       "    </tr>\n",
       "    <tr>\n",
       "      <th>4</th>\n",
       "      <td>서울특별시</td>\n",
       "      <td>광진구</td>\n",
       "      <td>11050</td>\n",
       "      <td>서울특별시 광진구</td>\n",
       "    </tr>\n",
       "  </tbody>\n",
       "</table>\n",
       "</div>"
      ],
      "text/plain": [
       "      시도  시군구   2019         NM\n",
       "0  서울특별시  종로구  11010  서울특별시 종로구\n",
       "1  서울특별시   중구  11020   서울특별시 중구\n",
       "2  서울특별시  용산구  11030  서울특별시 용산구\n",
       "3  서울특별시  성동구  11040  서울특별시 성동구\n",
       "4  서울특별시  광진구  11050  서울특별시 광진구"
      ]
     },
     "execution_count": 29,
     "metadata": {},
     "output_type": "execute_result"
    }
   ],
   "source": [
    "ref_Hcode.head()"
   ]
  },
  {
   "cell_type": "code",
   "execution_count": 30,
   "metadata": {},
   "outputs": [
    {
     "data": {
      "text/html": [
       "<div>\n",
       "<style scoped>\n",
       "    .dataframe tbody tr th:only-of-type {\n",
       "        vertical-align: middle;\n",
       "    }\n",
       "\n",
       "    .dataframe tbody tr th {\n",
       "        vertical-align: top;\n",
       "    }\n",
       "\n",
       "    .dataframe thead th {\n",
       "        text-align: right;\n",
       "    }\n",
       "</style>\n",
       "<table border=\"1\" class=\"dataframe\">\n",
       "  <thead>\n",
       "    <tr style=\"text-align: right;\">\n",
       "      <th></th>\n",
       "      <th>행정동이름</th>\n",
       "      <th>행정동코드</th>\n",
       "    </tr>\n",
       "  </thead>\n",
       "  <tbody>\n",
       "    <tr>\n",
       "      <th>0</th>\n",
       "      <td>서울특별시 종로구</td>\n",
       "      <td>11010</td>\n",
       "    </tr>\n",
       "    <tr>\n",
       "      <th>1</th>\n",
       "      <td>서울특별시 중구</td>\n",
       "      <td>11020</td>\n",
       "    </tr>\n",
       "    <tr>\n",
       "      <th>2</th>\n",
       "      <td>서울특별시 용산구</td>\n",
       "      <td>11030</td>\n",
       "    </tr>\n",
       "    <tr>\n",
       "      <th>3</th>\n",
       "      <td>서울특별시 성동구</td>\n",
       "      <td>11040</td>\n",
       "    </tr>\n",
       "    <tr>\n",
       "      <th>4</th>\n",
       "      <td>서울특별시 광진구</td>\n",
       "      <td>11050</td>\n",
       "    </tr>\n",
       "  </tbody>\n",
       "</table>\n",
       "</div>"
      ],
      "text/plain": [
       "       행정동이름  행정동코드\n",
       "0  서울특별시 종로구  11010\n",
       "1   서울특별시 중구  11020\n",
       "2  서울특별시 용산구  11030\n",
       "3  서울특별시 성동구  11040\n",
       "4  서울특별시 광진구  11050"
      ]
     },
     "execution_count": 30,
     "metadata": {},
     "output_type": "execute_result"
    }
   ],
   "source": [
    "code = ref_Hcode[['NM','2019']].astype(str).rename(columns= {'NM':'행정동이름', '2019':'행정동코드'})\n",
    "\n",
    "code.head()"
   ]
  },
  {
   "cell_type": "code",
   "execution_count": 31,
   "metadata": {},
   "outputs": [],
   "source": [
    "# 시흥시만 수정\n",
    "vegetation.loc[vegetation['NAME_VEG'] == '경기도 시 흥시', \"NAME_VEG\"] = '경기도 시흥시'\n",
    "\n",
    "vegetation['NAME_VEG'] = vegetation['NAME_VEG'].str.strip()\n",
    "code['행정동이름'] = code['행정동이름'].str.strip()"
   ]
  },
  {
   "cell_type": "code",
   "execution_count": 32,
   "metadata": {},
   "outputs": [],
   "source": [
    "mapping_veg = vegetation.merge(code[['행정동이름','행정동코드']], left_on='NAME_VEG', right_on='행정동이름', how='left')"
   ]
  },
  {
   "cell_type": "code",
   "execution_count": 33,
   "metadata": {},
   "outputs": [
    {
     "name": "stdout",
     "output_type": "stream",
     "text": [
      "<class 'pandas.core.frame.DataFrame'>\n",
      "Int64Index: 253 entries, 0 to 252\n",
      "Columns: 197 entries, Hcode_VEG to 행정동코드\n",
      "dtypes: float64(193), int64(1), object(3)\n",
      "memory usage: 391.4+ KB\n"
     ]
    }
   ],
   "source": [
    "mapping_veg.info()"
   ]
  },
  {
   "cell_type": "code",
   "execution_count": 34,
   "metadata": {},
   "outputs": [
    {
     "data": {
      "text/plain": [
       "array(['인천광역시 남구', '경기도 부천시 원미구', '경기도 부천시 소사구', '경기도 부천시 오정구', '경기도 여주군',\n",
       "       '충청북도 청원군', '충청남도 연기군', '충청남도 당진군'], dtype=object)"
      ]
     },
     "execution_count": 34,
     "metadata": {},
     "output_type": "execute_result"
    }
   ],
   "source": [
    "# 맵핑되지 못한 지역명 확인: \n",
    "mapping_veg.loc[mapping_veg['행정동이름'].isnull()]['NAME_VEG'].unique()\n",
    "# 경기도 부천시 소사구~원미구 -> 경기도 부천시 로 통일\n",
    "# 경기도 여주군 -> 경기도 여주시 로 변경\n",
    "# 인천광역시 남구 -> 인천광역시 미추홀구 로 변경\n",
    "# 충청남도 당진군 -> 충청남도 당진시 로 변경\n",
    "# 충청남도 연기군 -> 충청남도 연기시 -> 세종특별자치시 세종시 로 변경\n",
    "# 충청북도 청원군 -> 충청북도 청원구 로 변경"
   ]
  },
  {
   "cell_type": "markdown",
   "metadata": {},
   "source": [
    "**특정 지역명 수정**"
   ]
  },
  {
   "cell_type": "code",
   "execution_count": 35,
   "metadata": {},
   "outputs": [],
   "source": [
    "# 경기도 부천시 소사구~원미구 -> 경기도 부천시\n",
    "# 경기도 여주군 -> 경기도 여주시 \n",
    "# 인천광역시 남구 -> 인천광역시 미추홀구\n",
    "# 충청남도 당진군 -> 충청남도 당진시\n",
    "# 충청남도 연기군 -> 충청남도 연기시 -> 세종특별자치시 세종시\n",
    "# 충청북도 청원군 -> 충청북도 청원구\n",
    "\n",
    "vegetation['newNAME_VEG'] = vegetation['NAME_VEG']\n",
    "vegetation['newNAME_VEG'] = vegetation['newNAME_VEG'].replace({'경기도 부천시 소사구':'경기도 부천시', '경기도 부천시 원미구':'경기도 부천시', '경기도 부천시 오정구':'경기도 부천시',\n",
    "                                                               \n",
    "                                                               '경기도 여주군':'경기도 여주시', '충청남도 당진군':'충청남도 당진시', '인천광역시 남구':'인천광역시 미추홀구', \n",
    "                                                               \n",
    "                                                               '충청남도 연기군':'세종특별자치시 세종시', '충청북도 청원군':'충청북도 청주시 청원구'})"
   ]
  },
  {
   "cell_type": "code",
   "execution_count": 36,
   "metadata": {},
   "outputs": [
    {
     "data": {
      "text/plain": [
       "Hcode_VEG              0\n",
       "NAME_VEG               0\n",
       "2015_month1_EVI        4\n",
       "2015_month2_EVI        3\n",
       "2015_month3_EVI        7\n",
       "                    ... \n",
       "2022_month11_NDVI    253\n",
       "2022_month12_NDVI    253\n",
       "newNAME_VEG            0\n",
       "행정동이름                  0\n",
       "행정동코드                  0\n",
       "Length: 198, dtype: int64"
      ]
     },
     "execution_count": 36,
     "metadata": {},
     "output_type": "execute_result"
    }
   ],
   "source": [
    "mapping_veg_new = vegetation.merge(code[['행정동이름','행정동코드']], left_on='newNAME_VEG', right_on='행정동이름', how='left')\n",
    "\n",
    "pd.set_option('display.max_rows', 30)\n",
    "mapping_veg_new.isnull().sum()"
   ]
  },
  {
   "cell_type": "code",
   "execution_count": 37,
   "metadata": {},
   "outputs": [],
   "source": [
    "mapping_veg_new.to_excel('EVI,NDVI_월별_행정동연계.xlsx', encoding='euc-kr')"
   ]
  },
  {
   "cell_type": "markdown",
   "metadata": {},
   "source": [
    "### **법정동코드 merge**"
   ]
  },
  {
   "cell_type": "code",
   "execution_count": 38,
   "metadata": {},
   "outputs": [],
   "source": [
    "pd.set_option('display.max_rows', 30)"
   ]
  },
  {
   "cell_type": "code",
   "execution_count": 39,
   "metadata": {},
   "outputs": [
    {
     "data": {
      "text/html": [
       "<div>\n",
       "<style scoped>\n",
       "    .dataframe tbody tr th:only-of-type {\n",
       "        vertical-align: middle;\n",
       "    }\n",
       "\n",
       "    .dataframe tbody tr th {\n",
       "        vertical-align: top;\n",
       "    }\n",
       "\n",
       "    .dataframe thead th {\n",
       "        text-align: right;\n",
       "    }\n",
       "</style>\n",
       "<table border=\"1\" class=\"dataframe\">\n",
       "  <thead>\n",
       "    <tr style=\"text-align: right;\">\n",
       "      <th></th>\n",
       "      <th>행정동코드</th>\n",
       "      <th>시도명</th>\n",
       "      <th>시군구명</th>\n",
       "      <th>읍면동명</th>\n",
       "      <th>생성일자</th>\n",
       "      <th>말소일자</th>\n",
       "      <th>법정동이름</th>\n",
       "      <th>법정동코드</th>\n",
       "    </tr>\n",
       "  </thead>\n",
       "  <tbody>\n",
       "    <tr>\n",
       "      <th>0</th>\n",
       "      <td>1100000000</td>\n",
       "      <td>서울특별시</td>\n",
       "      <td>NaN</td>\n",
       "      <td>NaN</td>\n",
       "      <td>19880423</td>\n",
       "      <td>NaN</td>\n",
       "      <td>서울특별시</td>\n",
       "      <td>11000</td>\n",
       "    </tr>\n",
       "    <tr>\n",
       "      <th>1</th>\n",
       "      <td>1111000000</td>\n",
       "      <td>서울특별시</td>\n",
       "      <td>종로구</td>\n",
       "      <td>NaN</td>\n",
       "      <td>19880423</td>\n",
       "      <td>NaN</td>\n",
       "      <td>서울특별시 종로구</td>\n",
       "      <td>11110</td>\n",
       "    </tr>\n",
       "    <tr>\n",
       "      <th>2</th>\n",
       "      <td>1114000000</td>\n",
       "      <td>서울특별시</td>\n",
       "      <td>중구</td>\n",
       "      <td>NaN</td>\n",
       "      <td>19880423</td>\n",
       "      <td>NaN</td>\n",
       "      <td>서울특별시 중구</td>\n",
       "      <td>11140</td>\n",
       "    </tr>\n",
       "    <tr>\n",
       "      <th>3</th>\n",
       "      <td>1117000000</td>\n",
       "      <td>서울특별시</td>\n",
       "      <td>용산구</td>\n",
       "      <td>NaN</td>\n",
       "      <td>19880423</td>\n",
       "      <td>NaN</td>\n",
       "      <td>서울특별시 용산구</td>\n",
       "      <td>11170</td>\n",
       "    </tr>\n",
       "    <tr>\n",
       "      <th>4</th>\n",
       "      <td>1120000000</td>\n",
       "      <td>서울특별시</td>\n",
       "      <td>성동구</td>\n",
       "      <td>NaN</td>\n",
       "      <td>19880423</td>\n",
       "      <td>NaN</td>\n",
       "      <td>서울특별시 성동구</td>\n",
       "      <td>11200</td>\n",
       "    </tr>\n",
       "  </tbody>\n",
       "</table>\n",
       "</div>"
      ],
      "text/plain": [
       "        행정동코드    시도명 시군구명 읍면동명      생성일자  말소일자      법정동이름  법정동코드\n",
       "0  1100000000  서울특별시  NaN  NaN  19880423   NaN      서울특별시  11000\n",
       "1  1111000000  서울특별시  종로구  NaN  19880423   NaN  서울특별시 종로구  11110\n",
       "2  1114000000  서울특별시   중구  NaN  19880423   NaN   서울특별시 중구  11140\n",
       "3  1117000000  서울특별시  용산구  NaN  19880423   NaN  서울특별시 용산구  11170\n",
       "4  1120000000  서울특별시  성동구  NaN  19880423   NaN  서울특별시 성동구  11200"
      ]
     },
     "execution_count": 39,
     "metadata": {},
     "output_type": "execute_result"
    }
   ],
   "source": [
    "#법정동코드\n",
    "ref_Bcode = pd.read_excel('./jscode20210601/KIKcd_H.20210601.xlsx')\n",
    "ref_Bcode = ref_Bcode.loc[ref_Bcode['읍면동명'].isnull(), :].reset_index(drop=True)\n",
    "\n",
    "ref_Bcode.loc[ref_Bcode['시군구명'].notnull(), '법정동이름'] = ref_Bcode['시도명'].str.strip() + ' ' + ref_Bcode['시군구명'].str.strip()\n",
    "ref_Bcode.loc[ref_Bcode['시군구명'].isnull(), '법정동이름'] = ref_Bcode['시도명'].str.strip()\n",
    "\n",
    "ref_Bcode['법정동코드'] = ref_Bcode['행정동코드'].astype(str).apply(lambda x: x[:5])\n",
    "ref_Bcode.head()"
   ]
  },
  {
   "cell_type": "code",
   "execution_count": 40,
   "metadata": {},
   "outputs": [
    {
     "data": {
      "text/html": [
       "<div>\n",
       "<style scoped>\n",
       "    .dataframe tbody tr th:only-of-type {\n",
       "        vertical-align: middle;\n",
       "    }\n",
       "\n",
       "    .dataframe tbody tr th {\n",
       "        vertical-align: top;\n",
       "    }\n",
       "\n",
       "    .dataframe thead th {\n",
       "        text-align: right;\n",
       "    }\n",
       "</style>\n",
       "<table border=\"1\" class=\"dataframe\">\n",
       "  <thead>\n",
       "    <tr style=\"text-align: right;\">\n",
       "      <th></th>\n",
       "      <th>행정동코드</th>\n",
       "      <th>시도명</th>\n",
       "      <th>시군구명</th>\n",
       "      <th>읍면동명</th>\n",
       "      <th>생성일자</th>\n",
       "      <th>말소일자</th>\n",
       "      <th>법정동이름</th>\n",
       "      <th>법정동코드</th>\n",
       "    </tr>\n",
       "  </thead>\n",
       "  <tbody>\n",
       "    <tr>\n",
       "      <th>86</th>\n",
       "      <td>4100000000</td>\n",
       "      <td>경기도</td>\n",
       "      <td>NaN</td>\n",
       "      <td>NaN</td>\n",
       "      <td>19880423</td>\n",
       "      <td>NaN</td>\n",
       "      <td>경기도</td>\n",
       "      <td>41000</td>\n",
       "    </tr>\n",
       "    <tr>\n",
       "      <th>88</th>\n",
       "      <td>4111000000</td>\n",
       "      <td>경기도</td>\n",
       "      <td>수원시</td>\n",
       "      <td>NaN</td>\n",
       "      <td>19880423</td>\n",
       "      <td>NaN</td>\n",
       "      <td>경기도 수원시</td>\n",
       "      <td>41110</td>\n",
       "    </tr>\n",
       "    <tr>\n",
       "      <th>89</th>\n",
       "      <td>4111100000</td>\n",
       "      <td>경기도</td>\n",
       "      <td>수원시 장안구</td>\n",
       "      <td>NaN</td>\n",
       "      <td>19880701</td>\n",
       "      <td>NaN</td>\n",
       "      <td>경기도 수원시 장안구</td>\n",
       "      <td>41111</td>\n",
       "    </tr>\n",
       "    <tr>\n",
       "      <th>90</th>\n",
       "      <td>4111300000</td>\n",
       "      <td>경기도</td>\n",
       "      <td>수원시 권선구</td>\n",
       "      <td>NaN</td>\n",
       "      <td>19880701</td>\n",
       "      <td>NaN</td>\n",
       "      <td>경기도 수원시 권선구</td>\n",
       "      <td>41113</td>\n",
       "    </tr>\n",
       "    <tr>\n",
       "      <th>91</th>\n",
       "      <td>4111500000</td>\n",
       "      <td>경기도</td>\n",
       "      <td>수원시 팔달구</td>\n",
       "      <td>NaN</td>\n",
       "      <td>19930115</td>\n",
       "      <td>NaN</td>\n",
       "      <td>경기도 수원시 팔달구</td>\n",
       "      <td>41115</td>\n",
       "    </tr>\n",
       "  </tbody>\n",
       "</table>\n",
       "</div>"
      ],
      "text/plain": [
       "         행정동코드  시도명     시군구명 읍면동명      생성일자  말소일자        법정동이름  법정동코드\n",
       "86  4100000000  경기도      NaN  NaN  19880423   NaN          경기도  41000\n",
       "88  4111000000  경기도      수원시  NaN  19880423   NaN      경기도 수원시  41110\n",
       "89  4111100000  경기도  수원시 장안구  NaN  19880701   NaN  경기도 수원시 장안구  41111\n",
       "90  4111300000  경기도  수원시 권선구  NaN  19880701   NaN  경기도 수원시 권선구  41113\n",
       "91  4111500000  경기도  수원시 팔달구  NaN  19930115   NaN  경기도 수원시 팔달구  41115"
      ]
     },
     "execution_count": 40,
     "metadata": {},
     "output_type": "execute_result"
    }
   ],
   "source": [
    "# 하나씩 탐색\n",
    "ref_Bcode.loc[ref_Bcode['법정동이름'].str.startswith(\"경기도\")].head()"
   ]
  },
  {
   "cell_type": "code",
   "execution_count": 41,
   "metadata": {},
   "outputs": [],
   "source": [
    "# 세종특별자치시 2개 존재 > 하나 지움\n",
    "ref_Bcode = ref_Bcode.drop_duplicates(subset='법정동코드', keep='first')"
   ]
  },
  {
   "cell_type": "code",
   "execution_count": 42,
   "metadata": {},
   "outputs": [],
   "source": [
    "# 세종특별자치시 세종시(법정코드) -> 세종특별자치시(행정코드) 연계 위해서 수정\n",
    "mapping_veg_new['newNAME_VEG'] = mapping_veg_new['newNAME_VEG'].replace({'세종특별자치시 세종시':'세종특별자치시'})"
   ]
  },
  {
   "cell_type": "code",
   "execution_count": 43,
   "metadata": {},
   "outputs": [
    {
     "data": {
      "text/plain": [
       "Hcode_VEG              0\n",
       "2015_month1_EVI        4\n",
       "2015_month2_EVI        3\n",
       "2015_month3_EVI        7\n",
       "2015_month4_EVI        3\n",
       "                    ... \n",
       "2022_month12_NDVI    254\n",
       "newNAME_VEG            0\n",
       "행정동코드                  0\n",
       "법정동이름                  0\n",
       "법정동코드                  0\n",
       "Length: 198, dtype: int64"
      ]
     },
     "execution_count": 43,
     "metadata": {},
     "output_type": "execute_result"
    }
   ],
   "source": [
    "total_veg = mapping_veg_new.drop(columns=['NAME_VEG','행정동이름']).merge(ref_Bcode[['법정동이름','법정동코드']], left_on='newNAME_VEG', right_on='법정동이름', how='left')\n",
    "\n",
    "total_veg.isnull().sum()"
   ]
  },
  {
   "cell_type": "code",
   "execution_count": 47,
   "metadata": {},
   "outputs": [],
   "source": [
    "total_veg = total_veg.rename(columns={'법정동이름':'법정동=행정동이름'})\n",
    "\n",
    "total_veg.loc[total_veg['법정동=행정동이름'] == '충청북도 청주시', '행정동코드'] = 33040"
   ]
  },
  {
   "cell_type": "code",
   "execution_count": 49,
   "metadata": {},
   "outputs": [],
   "source": [
    "total_veg.to_excel('Fin_EVI,NDVI_시군구별(1-12월).xlsx',index=False, header=True)"
   ]
  }
 ],
 "metadata": {
  "interpreter": {
   "hash": "73e1520f6d2713970eba64e5271ee183e7b673be1a19b89b52d73d9ee0278917"
  },
  "kernelspec": {
   "display_name": "Python 3.7.0 ('kaggle')",
   "language": "python",
   "name": "python3"
  },
  "language_info": {
   "codemirror_mode": {
    "name": "ipython",
    "version": 3
   },
   "file_extension": ".py",
   "mimetype": "text/x-python",
   "name": "python",
   "nbconvert_exporter": "python",
   "pygments_lexer": "ipython3",
   "version": "3.7.0"
  },
  "orig_nbformat": 4
 },
 "nbformat": 4,
 "nbformat_minor": 2
}
